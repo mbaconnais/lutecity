{
 "cells": [
  {
   "attachments": {},
   "cell_type": "markdown",
   "metadata": {},
   "source": [
    "# Computing physical statistics\n",
    "_@Lutecity April 2023_\n",
    "\n",
    "**Description**\n",
    "\n",
    "This notebook computes physical statistics on players during the game such as: velocity, distance covered, distance covered while walking, jogging, running, sprinting,  number of sustained sprints, etc. These codes will be used in the application in order to provide insights on the physical performances of the players for the staff during the game.\n",
    "\n",
    "This notebook also processes data provided by Second Spectrum to match the dataset format used in Laurie Shaw package. The dataset is exported and used in the app.\n",
    "\n",
    "The inspiration and large pieces of code come from the work of Sudarshan Gopaladesikan [Github: Sportsdatascience](https://github.com/slbenfica1079/sportsdatascience) and Laurie Shaw [Tutorial on Friends of Tracking](https://github.com/Friends-of-Tracking-Data-FoTD/LaurieOnTracking)\n",
    "\n",
    "**Summary**\n",
    "\n",
    "1. [Import the data](#data)\n",
    "2. [Data pre processing](#data-processing)\n",
    "3. [Physical stats](#stats)\n",
    "    1. [Player velocities](#velocities)\n",
    "    2. [Minutes played by each player](#minutes_played)\n",
    "    3. [Distance covered by each player](#distance_covered)\n",
    "    4. [Distance covered by each player while: walking, jogging, running, sprinting](#distance_covered_on_each_speed)\n",
    "    5. [Sustained sprints](#sustained_sprints)\n",
    "4. [Aggregate stats](#aggregate)\n",
    "5. [Metabolic power](#metabolic_power)\n",
    "    1. [Number of Accelerations and Decelerations](#nb_acc_dec)\n",
    "    2. [Calculate metabolic cost and metabolic power](#metabolic_cost)"
   ]
  },
  {
   "attachments": {},
   "cell_type": "markdown",
   "metadata": {},
   "source": [
    "## Import the data <a id=\"data\"></a>\n",
    "#### Librairies"
   ]
  },
  {
   "cell_type": "code",
   "execution_count": 2,
   "metadata": {},
   "outputs": [],
   "source": [
    "import pandas as pd \n",
    "import numpy as np\n",
    "import os\n",
    "import seaborn\n",
    "from sklearn import linear_model\n",
    "import matplotlib.pyplot as plt\n",
    "import scipy as sp\n",
    "import ruptures as rpt\n",
    "import math\n",
    "\n",
    "import warnings\n",
    "warnings.simplefilter(action='ignore', category=FutureWarning)\n",
    "pd.set_option('max_colwidth', 400)\n",
    "pd.set_option('display.max_columns', None)\n",
    "pd.options.mode.chained_assignment = None\n",
    "\n",
    "# Plotly\n",
    "import plotly.graph_objs as go\n",
    "from floodlight.io.secondspectrum import read_position_data_jsonl, read_teamsheets_from_meta_json"
   ]
  },
  {
   "attachments": {},
   "cell_type": "markdown",
   "metadata": {},
   "source": [
    "Laurie Shaw package:"
   ]
  },
  {
   "cell_type": "code",
   "execution_count": 3,
   "metadata": {},
   "outputs": [],
   "source": [
    "import LaurieOnTracking_package.Metrica_IO as mio\n",
    "import LaurieOnTracking_package.Metrica_Velocities as mvel\n",
    "import LaurieOnTracking_package.Metrica_Viz as mviz"
   ]
  },
  {
   "attachments": {},
   "cell_type": "markdown",
   "metadata": {},
   "source": [
    "#### Data"
   ]
  },
  {
   "cell_type": "code",
   "execution_count": 4,
   "metadata": {},
   "outputs": [],
   "source": [
    "filepath_insight = os.path.normpath(os.getcwd() + os.sep + os.pardir) + \"/Data/Second_Spectrum/g2312135_SecondSpectrum_tracking-produced.jsonl\"\n",
    "filepath_metadata = os.path.normpath(os.getcwd() + os.sep + os.pardir) + \"/Data/Second_Spectrum/g2312135_SecondSpectrum_meta.json\""
   ]
  },
  {
   "cell_type": "code",
   "execution_count": 5,
   "metadata": {},
   "outputs": [],
   "source": [
    "teamsheet = read_teamsheets_from_meta_json(filepath_metadata)\n",
    "teamsheet_home = teamsheet['Home']\n",
    "teamsheet_away = teamsheet['Away']"
   ]
  },
  {
   "cell_type": "code",
   "execution_count": 6,
   "metadata": {},
   "outputs": [],
   "source": [
    "dataset = read_position_data_jsonl(filepath_insight, \n",
    "                                    filepath_metadata,\n",
    "                                    teamsheet_home = teamsheet_home ,\n",
    "                                    teamsheet_away = teamsheet_away)"
   ]
  },
  {
   "cell_type": "code",
   "execution_count": 7,
   "metadata": {},
   "outputs": [],
   "source": [
    "xy_objects = dataset[0]\n",
    "possession_objects = dataset[1]\n",
    "ballstatus_objects = dataset[2]\n",
    "teamsheets = dataset[3]\n",
    "pitch = dataset[4]\n",
    "\n",
    "HT1_home = xy_objects['HT1']['Home']\n",
    "HT1_away = xy_objects['HT1']['Away']\n",
    "HT2_home = xy_objects['HT2']['Home']\n",
    "HT2_away = xy_objects['HT2']['Away']\n",
    "HT1_possession =possession_objects['HT1']\n",
    "HT2_possession =possession_objects['HT2']\n",
    "HT1_ballstatus =ballstatus_objects['HT1']\n",
    "HT2_ballstatus =ballstatus_objects['HT2']\n",
    "home_team = teamsheets['Home']\n",
    "away_team = teamsheets['Away']"
   ]
  },
  {
   "attachments": {},
   "cell_type": "markdown",
   "metadata": {},
   "source": [
    "## Data pre processing <a id=\"data-processing\"></a>"
   ]
  },
  {
   "attachments": {},
   "cell_type": "markdown",
   "metadata": {},
   "source": [
    "The goal is to create a dataframe to match the format use by Laurie Shaw on its package."
   ]
  },
  {
   "cell_type": "code",
   "execution_count": 8,
   "metadata": {},
   "outputs": [],
   "source": [
    "def create_dataframe_tracking_data(xy_objects,teamsheet, period, teamname):\n",
    "    df = pd.DataFrame()\n",
    "    df['Frame'] = [i for i in range(len(xy_objects))]\n",
    "    df['Period'] = period\n",
    "    df['Time [s]'] = df['Frame'] / 25\n",
    "\n",
    "    xID = teamsheet['xID']\n",
    "    columns = df.columns.to_list() + [0]*len(xy_objects[0])\n",
    "    for i, j in enumerate(xID):\n",
    "        columns[i*2+3] = \"{}_{}_x\".format(teamname, j)\n",
    "        columns[i*2+4] = \"{}_{}_y\".format(teamname, j)\n",
    "    df_xy = pd.DataFrame(xy_objects.xy)\n",
    "    df_final = pd.concat([df,df_xy],axis=1)\n",
    "    df_final.columns = columns\n",
    "    df_final = df_final.astype(float)\n",
    "    df_final['Direction'] = xy_objects.direction\n",
    "    return(df_final)"
   ]
  },
  {
   "cell_type": "code",
   "execution_count": 9,
   "metadata": {},
   "outputs": [],
   "source": [
    "HT1_home = create_dataframe_tracking_data(HT1_home,home_team, 1, 'Home')\n",
    "HT2_home = create_dataframe_tracking_data(HT2_home,home_team, 2, 'Home')\n",
    "HT1_away = create_dataframe_tracking_data(HT1_away,away_team, 1, 'Away')\n",
    "HT2_away = create_dataframe_tracking_data(HT2_away,away_team, 2, 'Away')"
   ]
  },
  {
   "cell_type": "code",
   "execution_count": 10,
   "metadata": {},
   "outputs": [
    {
     "data": {
      "text/html": [
       "<div>\n",
       "<style scoped>\n",
       "    .dataframe tbody tr th:only-of-type {\n",
       "        vertical-align: middle;\n",
       "    }\n",
       "\n",
       "    .dataframe tbody tr th {\n",
       "        vertical-align: top;\n",
       "    }\n",
       "\n",
       "    .dataframe thead th {\n",
       "        text-align: right;\n",
       "    }\n",
       "</style>\n",
       "<table border=\"1\" class=\"dataframe\">\n",
       "  <thead>\n",
       "    <tr style=\"text-align: right;\">\n",
       "      <th></th>\n",
       "      <th>Frame</th>\n",
       "      <th>Period</th>\n",
       "      <th>Time [s]</th>\n",
       "      <th>Home_0_x</th>\n",
       "      <th>Home_0_y</th>\n",
       "      <th>Home_1_x</th>\n",
       "      <th>Home_1_y</th>\n",
       "      <th>Home_2_x</th>\n",
       "      <th>Home_2_y</th>\n",
       "      <th>Home_3_x</th>\n",
       "      <th>Home_3_y</th>\n",
       "      <th>Home_4_x</th>\n",
       "      <th>Home_4_y</th>\n",
       "      <th>Home_5_x</th>\n",
       "      <th>Home_5_y</th>\n",
       "      <th>Home_6_x</th>\n",
       "      <th>Home_6_y</th>\n",
       "      <th>Home_7_x</th>\n",
       "      <th>Home_7_y</th>\n",
       "      <th>Home_8_x</th>\n",
       "      <th>Home_8_y</th>\n",
       "      <th>Home_9_x</th>\n",
       "      <th>Home_9_y</th>\n",
       "      <th>Home_10_x</th>\n",
       "      <th>Home_10_y</th>\n",
       "      <th>Home_11_x</th>\n",
       "      <th>Home_11_y</th>\n",
       "      <th>Home_12_x</th>\n",
       "      <th>Home_12_y</th>\n",
       "      <th>Home_13_x</th>\n",
       "      <th>Home_13_y</th>\n",
       "      <th>Home_14_x</th>\n",
       "      <th>Home_14_y</th>\n",
       "      <th>Home_15_x</th>\n",
       "      <th>Home_15_y</th>\n",
       "      <th>Home_16_x</th>\n",
       "      <th>Home_16_y</th>\n",
       "      <th>Direction</th>\n",
       "    </tr>\n",
       "  </thead>\n",
       "  <tbody>\n",
       "    <tr>\n",
       "      <th>0</th>\n",
       "      <td>0.0</td>\n",
       "      <td>1.0</td>\n",
       "      <td>0.00</td>\n",
       "      <td>-46.26</td>\n",
       "      <td>0.16</td>\n",
       "      <td>-12.99</td>\n",
       "      <td>-23.00</td>\n",
       "      <td>-11.08</td>\n",
       "      <td>1.55</td>\n",
       "      <td>-1.20</td>\n",
       "      <td>-13.96</td>\n",
       "      <td>0.24</td>\n",
       "      <td>-0.45</td>\n",
       "      <td>-0.12</td>\n",
       "      <td>24.02</td>\n",
       "      <td>-22.61</td>\n",
       "      <td>7.47</td>\n",
       "      <td>-21.61</td>\n",
       "      <td>-8.56</td>\n",
       "      <td>-0.15</td>\n",
       "      <td>-30.50</td>\n",
       "      <td>-15.36</td>\n",
       "      <td>17.27</td>\n",
       "      <td>-2.71</td>\n",
       "      <td>8.54</td>\n",
       "      <td>NaN</td>\n",
       "      <td>NaN</td>\n",
       "      <td>NaN</td>\n",
       "      <td>NaN</td>\n",
       "      <td>NaN</td>\n",
       "      <td>NaN</td>\n",
       "      <td>NaN</td>\n",
       "      <td>NaN</td>\n",
       "      <td>NaN</td>\n",
       "      <td>NaN</td>\n",
       "      <td>NaN</td>\n",
       "      <td>NaN</td>\n",
       "      <td>lr</td>\n",
       "    </tr>\n",
       "    <tr>\n",
       "      <th>1</th>\n",
       "      <td>1.0</td>\n",
       "      <td>1.0</td>\n",
       "      <td>0.04</td>\n",
       "      <td>-46.22</td>\n",
       "      <td>0.14</td>\n",
       "      <td>-13.00</td>\n",
       "      <td>-23.03</td>\n",
       "      <td>-11.08</td>\n",
       "      <td>1.57</td>\n",
       "      <td>-1.22</td>\n",
       "      <td>-13.95</td>\n",
       "      <td>0.24</td>\n",
       "      <td>-0.44</td>\n",
       "      <td>-0.12</td>\n",
       "      <td>24.01</td>\n",
       "      <td>-22.61</td>\n",
       "      <td>7.47</td>\n",
       "      <td>-21.60</td>\n",
       "      <td>-8.56</td>\n",
       "      <td>-0.16</td>\n",
       "      <td>-30.45</td>\n",
       "      <td>-15.36</td>\n",
       "      <td>17.27</td>\n",
       "      <td>-2.71</td>\n",
       "      <td>8.52</td>\n",
       "      <td>NaN</td>\n",
       "      <td>NaN</td>\n",
       "      <td>NaN</td>\n",
       "      <td>NaN</td>\n",
       "      <td>NaN</td>\n",
       "      <td>NaN</td>\n",
       "      <td>NaN</td>\n",
       "      <td>NaN</td>\n",
       "      <td>NaN</td>\n",
       "      <td>NaN</td>\n",
       "      <td>NaN</td>\n",
       "      <td>NaN</td>\n",
       "      <td>lr</td>\n",
       "    </tr>\n",
       "    <tr>\n",
       "      <th>2</th>\n",
       "      <td>2.0</td>\n",
       "      <td>1.0</td>\n",
       "      <td>0.08</td>\n",
       "      <td>-46.18</td>\n",
       "      <td>0.13</td>\n",
       "      <td>-13.00</td>\n",
       "      <td>-23.05</td>\n",
       "      <td>-11.07</td>\n",
       "      <td>1.59</td>\n",
       "      <td>-1.24</td>\n",
       "      <td>-13.93</td>\n",
       "      <td>0.26</td>\n",
       "      <td>-0.43</td>\n",
       "      <td>-0.12</td>\n",
       "      <td>24.01</td>\n",
       "      <td>-22.61</td>\n",
       "      <td>7.46</td>\n",
       "      <td>-21.58</td>\n",
       "      <td>-8.56</td>\n",
       "      <td>-0.18</td>\n",
       "      <td>-30.41</td>\n",
       "      <td>-15.36</td>\n",
       "      <td>17.27</td>\n",
       "      <td>-2.71</td>\n",
       "      <td>8.50</td>\n",
       "      <td>NaN</td>\n",
       "      <td>NaN</td>\n",
       "      <td>NaN</td>\n",
       "      <td>NaN</td>\n",
       "      <td>NaN</td>\n",
       "      <td>NaN</td>\n",
       "      <td>NaN</td>\n",
       "      <td>NaN</td>\n",
       "      <td>NaN</td>\n",
       "      <td>NaN</td>\n",
       "      <td>NaN</td>\n",
       "      <td>NaN</td>\n",
       "      <td>lr</td>\n",
       "    </tr>\n",
       "    <tr>\n",
       "      <th>3</th>\n",
       "      <td>3.0</td>\n",
       "      <td>1.0</td>\n",
       "      <td>0.12</td>\n",
       "      <td>-46.14</td>\n",
       "      <td>0.12</td>\n",
       "      <td>-13.01</td>\n",
       "      <td>-23.07</td>\n",
       "      <td>-11.07</td>\n",
       "      <td>1.61</td>\n",
       "      <td>-1.27</td>\n",
       "      <td>-13.92</td>\n",
       "      <td>0.27</td>\n",
       "      <td>-0.42</td>\n",
       "      <td>-0.12</td>\n",
       "      <td>24.00</td>\n",
       "      <td>-22.62</td>\n",
       "      <td>7.46</td>\n",
       "      <td>-21.57</td>\n",
       "      <td>-8.56</td>\n",
       "      <td>-0.20</td>\n",
       "      <td>-30.37</td>\n",
       "      <td>-15.36</td>\n",
       "      <td>17.27</td>\n",
       "      <td>-2.72</td>\n",
       "      <td>8.48</td>\n",
       "      <td>NaN</td>\n",
       "      <td>NaN</td>\n",
       "      <td>NaN</td>\n",
       "      <td>NaN</td>\n",
       "      <td>NaN</td>\n",
       "      <td>NaN</td>\n",
       "      <td>NaN</td>\n",
       "      <td>NaN</td>\n",
       "      <td>NaN</td>\n",
       "      <td>NaN</td>\n",
       "      <td>NaN</td>\n",
       "      <td>NaN</td>\n",
       "      <td>lr</td>\n",
       "    </tr>\n",
       "    <tr>\n",
       "      <th>4</th>\n",
       "      <td>4.0</td>\n",
       "      <td>1.0</td>\n",
       "      <td>0.16</td>\n",
       "      <td>-46.10</td>\n",
       "      <td>0.10</td>\n",
       "      <td>-13.01</td>\n",
       "      <td>-23.09</td>\n",
       "      <td>-11.05</td>\n",
       "      <td>1.63</td>\n",
       "      <td>-1.29</td>\n",
       "      <td>-13.90</td>\n",
       "      <td>0.30</td>\n",
       "      <td>-0.41</td>\n",
       "      <td>-0.11</td>\n",
       "      <td>24.00</td>\n",
       "      <td>-22.62</td>\n",
       "      <td>7.45</td>\n",
       "      <td>-21.56</td>\n",
       "      <td>-8.56</td>\n",
       "      <td>-0.22</td>\n",
       "      <td>-30.34</td>\n",
       "      <td>-15.36</td>\n",
       "      <td>17.27</td>\n",
       "      <td>-2.72</td>\n",
       "      <td>8.46</td>\n",
       "      <td>NaN</td>\n",
       "      <td>NaN</td>\n",
       "      <td>NaN</td>\n",
       "      <td>NaN</td>\n",
       "      <td>NaN</td>\n",
       "      <td>NaN</td>\n",
       "      <td>NaN</td>\n",
       "      <td>NaN</td>\n",
       "      <td>NaN</td>\n",
       "      <td>NaN</td>\n",
       "      <td>NaN</td>\n",
       "      <td>NaN</td>\n",
       "      <td>lr</td>\n",
       "    </tr>\n",
       "    <tr>\n",
       "      <th>...</th>\n",
       "      <td>...</td>\n",
       "      <td>...</td>\n",
       "      <td>...</td>\n",
       "      <td>...</td>\n",
       "      <td>...</td>\n",
       "      <td>...</td>\n",
       "      <td>...</td>\n",
       "      <td>...</td>\n",
       "      <td>...</td>\n",
       "      <td>...</td>\n",
       "      <td>...</td>\n",
       "      <td>...</td>\n",
       "      <td>...</td>\n",
       "      <td>...</td>\n",
       "      <td>...</td>\n",
       "      <td>...</td>\n",
       "      <td>...</td>\n",
       "      <td>...</td>\n",
       "      <td>...</td>\n",
       "      <td>...</td>\n",
       "      <td>...</td>\n",
       "      <td>...</td>\n",
       "      <td>...</td>\n",
       "      <td>...</td>\n",
       "      <td>...</td>\n",
       "      <td>...</td>\n",
       "      <td>...</td>\n",
       "      <td>...</td>\n",
       "      <td>...</td>\n",
       "      <td>...</td>\n",
       "      <td>...</td>\n",
       "      <td>...</td>\n",
       "      <td>...</td>\n",
       "      <td>...</td>\n",
       "      <td>...</td>\n",
       "      <td>...</td>\n",
       "      <td>...</td>\n",
       "      <td>...</td>\n",
       "    </tr>\n",
       "    <tr>\n",
       "      <th>76662</th>\n",
       "      <td>76662.0</td>\n",
       "      <td>1.0</td>\n",
       "      <td>3066.48</td>\n",
       "      <td>-31.66</td>\n",
       "      <td>-3.16</td>\n",
       "      <td>27.03</td>\n",
       "      <td>-33.57</td>\n",
       "      <td>25.22</td>\n",
       "      <td>-25.87</td>\n",
       "      <td>30.21</td>\n",
       "      <td>-29.32</td>\n",
       "      <td>41.52</td>\n",
       "      <td>-25.49</td>\n",
       "      <td>33.44</td>\n",
       "      <td>10.61</td>\n",
       "      <td>6.77</td>\n",
       "      <td>-14.07</td>\n",
       "      <td>11.64</td>\n",
       "      <td>-30.93</td>\n",
       "      <td>40.35</td>\n",
       "      <td>-32.43</td>\n",
       "      <td>19.56</td>\n",
       "      <td>-8.13</td>\n",
       "      <td>33.32</td>\n",
       "      <td>-2.10</td>\n",
       "      <td>NaN</td>\n",
       "      <td>NaN</td>\n",
       "      <td>NaN</td>\n",
       "      <td>NaN</td>\n",
       "      <td>NaN</td>\n",
       "      <td>NaN</td>\n",
       "      <td>NaN</td>\n",
       "      <td>NaN</td>\n",
       "      <td>NaN</td>\n",
       "      <td>NaN</td>\n",
       "      <td>NaN</td>\n",
       "      <td>NaN</td>\n",
       "      <td>lr</td>\n",
       "    </tr>\n",
       "    <tr>\n",
       "      <th>76663</th>\n",
       "      <td>76663.0</td>\n",
       "      <td>1.0</td>\n",
       "      <td>3066.52</td>\n",
       "      <td>-31.69</td>\n",
       "      <td>-3.14</td>\n",
       "      <td>27.02</td>\n",
       "      <td>-33.57</td>\n",
       "      <td>25.15</td>\n",
       "      <td>-25.89</td>\n",
       "      <td>30.16</td>\n",
       "      <td>-29.33</td>\n",
       "      <td>41.50</td>\n",
       "      <td>-25.49</td>\n",
       "      <td>33.40</td>\n",
       "      <td>10.59</td>\n",
       "      <td>6.74</td>\n",
       "      <td>-14.12</td>\n",
       "      <td>11.58</td>\n",
       "      <td>-30.93</td>\n",
       "      <td>40.32</td>\n",
       "      <td>-32.44</td>\n",
       "      <td>19.52</td>\n",
       "      <td>-8.17</td>\n",
       "      <td>33.27</td>\n",
       "      <td>-2.13</td>\n",
       "      <td>NaN</td>\n",
       "      <td>NaN</td>\n",
       "      <td>NaN</td>\n",
       "      <td>NaN</td>\n",
       "      <td>NaN</td>\n",
       "      <td>NaN</td>\n",
       "      <td>NaN</td>\n",
       "      <td>NaN</td>\n",
       "      <td>NaN</td>\n",
       "      <td>NaN</td>\n",
       "      <td>NaN</td>\n",
       "      <td>NaN</td>\n",
       "      <td>lr</td>\n",
       "    </tr>\n",
       "    <tr>\n",
       "      <th>76664</th>\n",
       "      <td>76664.0</td>\n",
       "      <td>1.0</td>\n",
       "      <td>3066.56</td>\n",
       "      <td>-31.72</td>\n",
       "      <td>-3.12</td>\n",
       "      <td>27.02</td>\n",
       "      <td>-33.57</td>\n",
       "      <td>25.08</td>\n",
       "      <td>-25.90</td>\n",
       "      <td>30.10</td>\n",
       "      <td>-29.34</td>\n",
       "      <td>41.49</td>\n",
       "      <td>-25.49</td>\n",
       "      <td>33.36</td>\n",
       "      <td>10.58</td>\n",
       "      <td>6.73</td>\n",
       "      <td>-14.18</td>\n",
       "      <td>11.51</td>\n",
       "      <td>-30.94</td>\n",
       "      <td>40.30</td>\n",
       "      <td>-32.44</td>\n",
       "      <td>19.47</td>\n",
       "      <td>-8.21</td>\n",
       "      <td>33.22</td>\n",
       "      <td>-2.18</td>\n",
       "      <td>NaN</td>\n",
       "      <td>NaN</td>\n",
       "      <td>NaN</td>\n",
       "      <td>NaN</td>\n",
       "      <td>NaN</td>\n",
       "      <td>NaN</td>\n",
       "      <td>NaN</td>\n",
       "      <td>NaN</td>\n",
       "      <td>NaN</td>\n",
       "      <td>NaN</td>\n",
       "      <td>NaN</td>\n",
       "      <td>NaN</td>\n",
       "      <td>lr</td>\n",
       "    </tr>\n",
       "    <tr>\n",
       "      <th>76665</th>\n",
       "      <td>76665.0</td>\n",
       "      <td>1.0</td>\n",
       "      <td>3066.60</td>\n",
       "      <td>-31.75</td>\n",
       "      <td>-3.09</td>\n",
       "      <td>27.01</td>\n",
       "      <td>-33.57</td>\n",
       "      <td>25.01</td>\n",
       "      <td>-25.92</td>\n",
       "      <td>30.06</td>\n",
       "      <td>-29.35</td>\n",
       "      <td>41.48</td>\n",
       "      <td>-25.49</td>\n",
       "      <td>33.33</td>\n",
       "      <td>10.57</td>\n",
       "      <td>6.70</td>\n",
       "      <td>-14.24</td>\n",
       "      <td>11.45</td>\n",
       "      <td>-30.95</td>\n",
       "      <td>40.28</td>\n",
       "      <td>-32.45</td>\n",
       "      <td>19.42</td>\n",
       "      <td>-8.25</td>\n",
       "      <td>33.17</td>\n",
       "      <td>-2.23</td>\n",
       "      <td>NaN</td>\n",
       "      <td>NaN</td>\n",
       "      <td>NaN</td>\n",
       "      <td>NaN</td>\n",
       "      <td>NaN</td>\n",
       "      <td>NaN</td>\n",
       "      <td>NaN</td>\n",
       "      <td>NaN</td>\n",
       "      <td>NaN</td>\n",
       "      <td>NaN</td>\n",
       "      <td>NaN</td>\n",
       "      <td>NaN</td>\n",
       "      <td>lr</td>\n",
       "    </tr>\n",
       "    <tr>\n",
       "      <th>76666</th>\n",
       "      <td>76666.0</td>\n",
       "      <td>1.0</td>\n",
       "      <td>3066.64</td>\n",
       "      <td>-31.78</td>\n",
       "      <td>-3.07</td>\n",
       "      <td>27.01</td>\n",
       "      <td>-33.57</td>\n",
       "      <td>24.95</td>\n",
       "      <td>-25.93</td>\n",
       "      <td>30.00</td>\n",
       "      <td>-29.35</td>\n",
       "      <td>41.47</td>\n",
       "      <td>-25.49</td>\n",
       "      <td>33.29</td>\n",
       "      <td>10.56</td>\n",
       "      <td>6.68</td>\n",
       "      <td>-14.30</td>\n",
       "      <td>11.39</td>\n",
       "      <td>-30.96</td>\n",
       "      <td>40.25</td>\n",
       "      <td>-32.46</td>\n",
       "      <td>19.37</td>\n",
       "      <td>-8.30</td>\n",
       "      <td>33.12</td>\n",
       "      <td>-2.27</td>\n",
       "      <td>NaN</td>\n",
       "      <td>NaN</td>\n",
       "      <td>NaN</td>\n",
       "      <td>NaN</td>\n",
       "      <td>NaN</td>\n",
       "      <td>NaN</td>\n",
       "      <td>NaN</td>\n",
       "      <td>NaN</td>\n",
       "      <td>NaN</td>\n",
       "      <td>NaN</td>\n",
       "      <td>NaN</td>\n",
       "      <td>NaN</td>\n",
       "      <td>lr</td>\n",
       "    </tr>\n",
       "  </tbody>\n",
       "</table>\n",
       "<p>76667 rows × 38 columns</p>\n",
       "</div>"
      ],
      "text/plain": [
       "         Frame  Period  Time [s]  Home_0_x  Home_0_y  Home_1_x  Home_1_y  \\\n",
       "0          0.0     1.0      0.00    -46.26      0.16    -12.99    -23.00   \n",
       "1          1.0     1.0      0.04    -46.22      0.14    -13.00    -23.03   \n",
       "2          2.0     1.0      0.08    -46.18      0.13    -13.00    -23.05   \n",
       "3          3.0     1.0      0.12    -46.14      0.12    -13.01    -23.07   \n",
       "4          4.0     1.0      0.16    -46.10      0.10    -13.01    -23.09   \n",
       "...        ...     ...       ...       ...       ...       ...       ...   \n",
       "76662  76662.0     1.0   3066.48    -31.66     -3.16     27.03    -33.57   \n",
       "76663  76663.0     1.0   3066.52    -31.69     -3.14     27.02    -33.57   \n",
       "76664  76664.0     1.0   3066.56    -31.72     -3.12     27.02    -33.57   \n",
       "76665  76665.0     1.0   3066.60    -31.75     -3.09     27.01    -33.57   \n",
       "76666  76666.0     1.0   3066.64    -31.78     -3.07     27.01    -33.57   \n",
       "\n",
       "       Home_2_x  Home_2_y  Home_3_x  Home_3_y  Home_4_x  Home_4_y  Home_5_x  \\\n",
       "0        -11.08      1.55     -1.20    -13.96      0.24     -0.45     -0.12   \n",
       "1        -11.08      1.57     -1.22    -13.95      0.24     -0.44     -0.12   \n",
       "2        -11.07      1.59     -1.24    -13.93      0.26     -0.43     -0.12   \n",
       "3        -11.07      1.61     -1.27    -13.92      0.27     -0.42     -0.12   \n",
       "4        -11.05      1.63     -1.29    -13.90      0.30     -0.41     -0.11   \n",
       "...         ...       ...       ...       ...       ...       ...       ...   \n",
       "76662     25.22    -25.87     30.21    -29.32     41.52    -25.49     33.44   \n",
       "76663     25.15    -25.89     30.16    -29.33     41.50    -25.49     33.40   \n",
       "76664     25.08    -25.90     30.10    -29.34     41.49    -25.49     33.36   \n",
       "76665     25.01    -25.92     30.06    -29.35     41.48    -25.49     33.33   \n",
       "76666     24.95    -25.93     30.00    -29.35     41.47    -25.49     33.29   \n",
       "\n",
       "       Home_5_y  Home_6_x  Home_6_y  Home_7_x  Home_7_y  Home_8_x  Home_8_y  \\\n",
       "0         24.02    -22.61      7.47    -21.61     -8.56     -0.15    -30.50   \n",
       "1         24.01    -22.61      7.47    -21.60     -8.56     -0.16    -30.45   \n",
       "2         24.01    -22.61      7.46    -21.58     -8.56     -0.18    -30.41   \n",
       "3         24.00    -22.62      7.46    -21.57     -8.56     -0.20    -30.37   \n",
       "4         24.00    -22.62      7.45    -21.56     -8.56     -0.22    -30.34   \n",
       "...         ...       ...       ...       ...       ...       ...       ...   \n",
       "76662     10.61      6.77    -14.07     11.64    -30.93     40.35    -32.43   \n",
       "76663     10.59      6.74    -14.12     11.58    -30.93     40.32    -32.44   \n",
       "76664     10.58      6.73    -14.18     11.51    -30.94     40.30    -32.44   \n",
       "76665     10.57      6.70    -14.24     11.45    -30.95     40.28    -32.45   \n",
       "76666     10.56      6.68    -14.30     11.39    -30.96     40.25    -32.46   \n",
       "\n",
       "       Home_9_x  Home_9_y  Home_10_x  Home_10_y  Home_11_x  Home_11_y  \\\n",
       "0        -15.36     17.27      -2.71       8.54        NaN        NaN   \n",
       "1        -15.36     17.27      -2.71       8.52        NaN        NaN   \n",
       "2        -15.36     17.27      -2.71       8.50        NaN        NaN   \n",
       "3        -15.36     17.27      -2.72       8.48        NaN        NaN   \n",
       "4        -15.36     17.27      -2.72       8.46        NaN        NaN   \n",
       "...         ...       ...        ...        ...        ...        ...   \n",
       "76662     19.56     -8.13      33.32      -2.10        NaN        NaN   \n",
       "76663     19.52     -8.17      33.27      -2.13        NaN        NaN   \n",
       "76664     19.47     -8.21      33.22      -2.18        NaN        NaN   \n",
       "76665     19.42     -8.25      33.17      -2.23        NaN        NaN   \n",
       "76666     19.37     -8.30      33.12      -2.27        NaN        NaN   \n",
       "\n",
       "       Home_12_x  Home_12_y  Home_13_x  Home_13_y  Home_14_x  Home_14_y  \\\n",
       "0            NaN        NaN        NaN        NaN        NaN        NaN   \n",
       "1            NaN        NaN        NaN        NaN        NaN        NaN   \n",
       "2            NaN        NaN        NaN        NaN        NaN        NaN   \n",
       "3            NaN        NaN        NaN        NaN        NaN        NaN   \n",
       "4            NaN        NaN        NaN        NaN        NaN        NaN   \n",
       "...          ...        ...        ...        ...        ...        ...   \n",
       "76662        NaN        NaN        NaN        NaN        NaN        NaN   \n",
       "76663        NaN        NaN        NaN        NaN        NaN        NaN   \n",
       "76664        NaN        NaN        NaN        NaN        NaN        NaN   \n",
       "76665        NaN        NaN        NaN        NaN        NaN        NaN   \n",
       "76666        NaN        NaN        NaN        NaN        NaN        NaN   \n",
       "\n",
       "       Home_15_x  Home_15_y  Home_16_x  Home_16_y Direction  \n",
       "0            NaN        NaN        NaN        NaN        lr  \n",
       "1            NaN        NaN        NaN        NaN        lr  \n",
       "2            NaN        NaN        NaN        NaN        lr  \n",
       "3            NaN        NaN        NaN        NaN        lr  \n",
       "4            NaN        NaN        NaN        NaN        lr  \n",
       "...          ...        ...        ...        ...       ...  \n",
       "76662        NaN        NaN        NaN        NaN        lr  \n",
       "76663        NaN        NaN        NaN        NaN        lr  \n",
       "76664        NaN        NaN        NaN        NaN        lr  \n",
       "76665        NaN        NaN        NaN        NaN        lr  \n",
       "76666        NaN        NaN        NaN        NaN        lr  \n",
       "\n",
       "[76667 rows x 38 columns]"
      ]
     },
     "execution_count": 10,
     "metadata": {},
     "output_type": "execute_result"
    }
   ],
   "source": [
    "HT1_home"
   ]
  },
  {
   "attachments": {},
   "cell_type": "markdown",
   "metadata": {},
   "source": [
    "Concatenate the first and second half."
   ]
  },
  {
   "cell_type": "code",
   "execution_count": 11,
   "metadata": {},
   "outputs": [],
   "source": [
    "tracking_home = pd.concat([HT1_home,HT2_home]).reset_index(drop=True)\n",
    "tracking_home['Frame'] = tracking_home.index\n",
    "tracking_home['Time [s]'] = tracking_home['Frame'] / 25\n",
    "\n",
    "tracking_away = pd.concat([HT1_away,HT2_away]).reset_index(drop=True)\n",
    "tracking_away['Frame'] = tracking_away.index\n",
    "tracking_away['Time [s]'] = tracking_away['Frame'] / 25"
   ]
  },
  {
   "attachments": {},
   "cell_type": "markdown",
   "metadata": {},
   "source": [
    "Reverse direction of play in the second half so that home team is always attacking from left to right"
   ]
  },
  {
   "cell_type": "code",
   "execution_count": 12,
   "metadata": {},
   "outputs": [],
   "source": [
    "def to_single_playing_direction(home,away):\n",
    "    '''\n",
    "    Flip coordinates in second half so that each team always shoots in the same direction through the match.\n",
    "    '''\n",
    "    for team in [home,away]:\n",
    "        direction_first_half = team[team['Period']==1]['Direction'].unique()[0]\n",
    "        second_half_idx = team[team['Period']==2].index.to_list()\n",
    "        columns = [c for c in team.columns if c[-1].lower() in ['x','y']]\n",
    "        team.loc[second_half_idx,columns] *= -1\n",
    "        team.loc[second_half_idx,'Direction'] = direction_first_half\n",
    "    return home,away\n",
    "\n",
    "tracking_home, tracking_away = to_single_playing_direction(tracking_home, tracking_away)"
   ]
  },
  {
   "attachments": {},
   "cell_type": "markdown",
   "metadata": {},
   "source": [
    "Find goalkeeper number and home attack direction"
   ]
  },
  {
   "cell_type": "code",
   "execution_count": 13,
   "metadata": {},
   "outputs": [],
   "source": [
    "def find_goalkeeper(team):\n",
    "    '''\n",
    "    Find the goalkeeper in team, identifying him/her as the player closest to goal at kick off\n",
    "    ''' \n",
    "    x_columns = [c for c in team.columns if c[-2:].lower()=='_x' and c[:4] in ['Home','Away']]\n",
    "    GK_col = team.iloc[0][x_columns].abs().astype(float).idxmax()\n",
    "    return GK_col.split('_')[1]\n",
    "    \n",
    "GK_numbers = [find_goalkeeper(tracking_home),find_goalkeeper(tracking_away)]\n",
    "home_attack_direction = tracking_home['Direction'].replace({'lr': -1, 'rl':1}).unique()[0]\n"
   ]
  },
  {
   "cell_type": "code",
   "execution_count": 15,
   "metadata": {},
   "outputs": [],
   "source": [
    "# tracking_home.to_csv('Output/tracking_home.csv',encoding='utf-8-sig',sep = \";\", index=False, header=True)\n",
    "# tracking_away.to_csv('Output/tracking_away.csv',encoding='utf-8-sig',sep = \";\", index=False, header=True)"
   ]
  },
  {
   "attachments": {},
   "cell_type": "markdown",
   "metadata": {},
   "source": [
    "## Physical stats <a id=\"stats\"></a>"
   ]
  },
  {
   "attachments": {},
   "cell_type": "markdown",
   "metadata": {},
   "source": [
    "### Player velocities <a id=\"velocities\"></a>"
   ]
  },
  {
   "cell_type": "code",
   "execution_count": 16,
   "metadata": {},
   "outputs": [],
   "source": [
    "# Calculate player velocities\n",
    "tracking_home = mvel.calc_player_velocities(tracking_home,smoothing=True)\n",
    "tracking_away = mvel.calc_player_velocities(tracking_away,smoothing=True)"
   ]
  },
  {
   "cell_type": "code",
   "execution_count": 17,
   "metadata": {},
   "outputs": [
    {
     "data": {
      "image/png": "[encoded data removed]",
      "text/plain": [
       "<Figure size 1200x800 with 1 Axes>"
      ]
     },
     "metadata": {},
     "output_type": "display_data"
    }
   ],
   "source": [
    "fig, ax = plt.subplots(figsize=(12, 8))\n",
    "ax.plot(range(1, 9001), tracking_home.loc[1:9000]['Home_5_speed'])\n",
    "ax.title.set_text('Unsmoothed Velocities (Home_5)')"
   ]
  },
  {
   "attachments": {},
   "cell_type": "markdown",
   "metadata": {},
   "source": [
    "### Minutes played by each player <a id=\"minutes_played\"></a>"
   ]
  },
  {
   "cell_type": "code",
   "execution_count": 18,
   "metadata": {},
   "outputs": [],
   "source": [
    "def calculate_minutes_played(df_tracking, teamname):\n",
    "    player_columns = [c.split('_')[1] for c in df_tracking.columns if c[-2:].lower()=='_x' and c[:4] in ['Home','Away']]\n",
    "    minutes = []\n",
    "    for player in player_columns:\n",
    "        # search for first and last frames that we have a position observation for each player (when a player is not on the pitch positions are NaN)\n",
    "        column = teamname + '_' + player + '_x' # use player x-position coordinate\n",
    "        last_index = df_tracking[column].last_valid_index()\n",
    "        first_index = df_tracking[column].first_valid_index()\n",
    "        if first_index is not None and last_index is not None: \n",
    "            player_minutes = ( last_index - first_index + 1 ) / 25 / 60. # convert to minutes\n",
    "        else : \n",
    "            player_minutes = 0\n",
    "        minutes.append( player_minutes )\n",
    "    return(minutes)\n"
   ]
  },
  {
   "attachments": {},
   "cell_type": "markdown",
   "metadata": {},
   "source": [
    "### Distance covered by each player <a id=\"distance_covered\"></a>"
   ]
  },
  {
   "cell_type": "code",
   "execution_count": 19,
   "metadata": {},
   "outputs": [],
   "source": [
    "def calculate_total_distance_covered(df_tracking, teamname) : \n",
    "    player_columns = [c.split('_')[1] for c in df_tracking.columns if c[-2:].lower()=='_x' and c[:4] in ['Home','Away']]\n",
    "    distance = []\n",
    "    for player in player_columns:\n",
    "        column = teamname +'_' + player + '_speed'\n",
    "        player_distance = df_tracking[column].sum()/25./1000 # this is the sum of the distance travelled from one observation to the next (1/25 = 40ms) in km.\n",
    "        distance.append( player_distance )\n",
    "    return(distance)"
   ]
  },
  {
   "attachments": {},
   "cell_type": "markdown",
   "metadata": {},
   "source": [
    "### Distance covered by each player while: walking, jogging, running, sprinting <a id=\"distance_covered_on_each_speed\"></a>"
   ]
  },
  {
   "attachments": {},
   "cell_type": "markdown",
   "metadata": {},
   "source": [
    "Walking is defined as a speed of less than 2 m/s.\n",
    "\n",
    "Jogging is defined by a speed between 2 and 4 m/s.\n",
    "\n",
    "Running is defined by a speed between 4 and 7 m/s.\n",
    "\n",
    "Sprinting  is defined as a speed greater than 7 m/s."
   ]
  },
  {
   "cell_type": "code",
   "execution_count": 20,
   "metadata": {},
   "outputs": [],
   "source": [
    "def calculate_distance_in_each_speed(df_tracking, teamname) : \n",
    "    walking = []\n",
    "    jogging = []\n",
    "    running = []\n",
    "    sprinting = []\n",
    "    player_columns = [c.split('_')[1] for c in df_tracking.columns if c[-2:].lower()=='_x' and c[:4] in ['Home','Away']]\n",
    "    for player in player_columns:\n",
    "        column = teamname + '_' + player + '_speed'\n",
    "        # walking (less than 2 m/s)\n",
    "        player_distance = df_tracking.loc[df_tracking[column] < 2, column].sum()/25./1000\n",
    "        walking.append( player_distance )\n",
    "        # jogging (between 2 and 4 m/s)\n",
    "        player_distance = df_tracking.loc[ (df_tracking[column] >= 2) & (df_tracking[column] < 4), column].sum()/25./1000\n",
    "        jogging.append( player_distance )\n",
    "        # running (between 4 and 7 m/s)\n",
    "        player_distance = df_tracking.loc[ (df_tracking[column] >= 4) & (df_tracking[column] < 7), column].sum()/25./1000\n",
    "        running.append( player_distance )\n",
    "        # sprinting (greater than 7 m/s)\n",
    "        player_distance = df_tracking.loc[ df_tracking[column] >= 7, column].sum()/25./1000\n",
    "        sprinting.append( player_distance )\n",
    "    \n",
    "    return walking, jogging, running, sprinting"
   ]
  },
  {
   "attachments": {},
   "cell_type": "markdown",
   "metadata": {},
   "source": [
    "### Sustained sprints<a id=\"sustained_sprints\"></a>"
   ]
  },
  {
   "attachments": {},
   "cell_type": "markdown",
   "metadata": {},
   "source": [
    "How many sustained sprints per match did each player complete? Defined as maintaining a speed > 7 m/s for at least 1 second"
   ]
  },
  {
   "cell_type": "code",
   "execution_count": 21,
   "metadata": {},
   "outputs": [],
   "source": [
    "# sustained sprints: \n",
    "def calculate_nb_sustained_sprints(df_tracking, teamname) : \n",
    "    nsprints = []\n",
    "    sprint_threshold = 7 # minimum speed to be defined as a sprint (m/s)\n",
    "    sprint_window = 1*25 # minimum duration sprint should be sustained (in this case, 1 second = 25 consecutive frames)\n",
    "    player_columns = [c.split('_')[1] for c in df_tracking.columns if c[-2:].lower()=='_x' and c[:4] in ['Home','Away']]\n",
    "    for player in player_columns:\n",
    "        column = teamname+ '_' + player + '_speed'\n",
    "        # trick here is to convolve speed with a window of size 'sprint_window', and find number of occassions that sprint was sustained for at least one window length\n",
    "        # diff helps us to identify when the window starts\n",
    "        player_sprints = np.diff( 1*( np.convolve( 1*(df_tracking[column]>=sprint_threshold), np.ones(sprint_window), mode='same' ) >= sprint_window ) )\n",
    "        nsprints.append( np.sum( player_sprints == 1 ) )\n",
    "\n",
    "    return(nsprints)"
   ]
  },
  {
   "attachments": {},
   "cell_type": "markdown",
   "metadata": {},
   "source": [
    "## Aggregate statistics"
   ]
  },
  {
   "cell_type": "code",
   "execution_count": 22,
   "metadata": {},
   "outputs": [],
   "source": [
    "def aggregate_statistics(df_tracking, teamsheet_home, teamname) : \n",
    "    df_summary = teamsheet_home[['jID','player']]\n",
    "    \n",
    "    minutes = calculate_minutes_played(df_tracking,teamname)\n",
    "    df_summary.loc[:,'Minutes Played'] = minutes\n",
    "\n",
    "    distance = calculate_total_distance_covered(df_tracking,teamname)\n",
    "    df_summary.loc[:,'Distance [km]'] = distance\n",
    "\n",
    "    walking, jogging, running, sprinting = calculate_distance_in_each_speed(df_tracking,teamname)\n",
    "    df_summary.loc[:,'Walking [km]'] = walking\n",
    "    df_summary.loc[:,'Jogging [km]'] = jogging\n",
    "    df_summary.loc[:,'Running [km]'] = running\n",
    "    df_summary.loc[:,'Sprinting [km]'] = sprinting\n",
    "\n",
    "    nsprints = calculate_nb_sustained_sprints(df_tracking, teamname)\n",
    "    df_summary['Number of sprints'] = nsprints\n",
    "    \n",
    "    return(df_summary)"
   ]
  },
  {
   "cell_type": "code",
   "execution_count": 23,
   "metadata": {},
   "outputs": [
    {
     "data": {
      "text/html": [
       "<div>\n",
       "<style scoped>\n",
       "    .dataframe tbody tr th:only-of-type {\n",
       "        vertical-align: middle;\n",
       "    }\n",
       "\n",
       "    .dataframe tbody tr th {\n",
       "        vertical-align: top;\n",
       "    }\n",
       "\n",
       "    .dataframe thead th {\n",
       "        text-align: right;\n",
       "    }\n",
       "</style>\n",
       "<table border=\"1\" class=\"dataframe\">\n",
       "  <thead>\n",
       "    <tr style=\"text-align: right;\">\n",
       "      <th></th>\n",
       "      <th>jID</th>\n",
       "      <th>player</th>\n",
       "      <th>Minutes Played</th>\n",
       "      <th>Distance [km]</th>\n",
       "      <th>Walking [km]</th>\n",
       "      <th>Jogging [km]</th>\n",
       "      <th>Running [km]</th>\n",
       "      <th>Sprinting [km]</th>\n",
       "      <th>Number of sprints</th>\n",
       "    </tr>\n",
       "  </thead>\n",
       "  <tbody>\n",
       "    <tr>\n",
       "      <th>0</th>\n",
       "      <td>1</td>\n",
       "      <td>E. Roebuck</td>\n",
       "      <td>101.070000</td>\n",
       "      <td>4.749804</td>\n",
       "      <td>3.422714</td>\n",
       "      <td>1.226594</td>\n",
       "      <td>0.100497</td>\n",
       "      <td>0.000000</td>\n",
       "      <td>0</td>\n",
       "    </tr>\n",
       "    <tr>\n",
       "      <th>1</th>\n",
       "      <td>2</td>\n",
       "      <td>K. Casparij</td>\n",
       "      <td>101.070000</td>\n",
       "      <td>10.422734</td>\n",
       "      <td>3.530425</td>\n",
       "      <td>4.751290</td>\n",
       "      <td>2.032365</td>\n",
       "      <td>0.108654</td>\n",
       "      <td>8</td>\n",
       "    </tr>\n",
       "    <tr>\n",
       "      <th>2</th>\n",
       "      <td>25</td>\n",
       "      <td>Y. Hasegawa</td>\n",
       "      <td>101.070000</td>\n",
       "      <td>11.193728</td>\n",
       "      <td>3.138884</td>\n",
       "      <td>5.430833</td>\n",
       "      <td>2.618157</td>\n",
       "      <td>0.005854</td>\n",
       "      <td>0</td>\n",
       "    </tr>\n",
       "    <tr>\n",
       "      <th>3</th>\n",
       "      <td>12</td>\n",
       "      <td>Filippa Angeldahl</td>\n",
       "      <td>101.070000</td>\n",
       "      <td>11.875375</td>\n",
       "      <td>3.240192</td>\n",
       "      <td>5.520611</td>\n",
       "      <td>3.039320</td>\n",
       "      <td>0.075253</td>\n",
       "      <td>4</td>\n",
       "    </tr>\n",
       "    <tr>\n",
       "      <th>4</th>\n",
       "      <td>21</td>\n",
       "      <td>Khadija Shaw</td>\n",
       "      <td>101.070000</td>\n",
       "      <td>10.639256</td>\n",
       "      <td>4.091697</td>\n",
       "      <td>3.961544</td>\n",
       "      <td>2.477936</td>\n",
       "      <td>0.108079</td>\n",
       "      <td>6</td>\n",
       "    </tr>\n",
       "    <tr>\n",
       "      <th>5</th>\n",
       "      <td>11</td>\n",
       "      <td>L. Hemp</td>\n",
       "      <td>101.070000</td>\n",
       "      <td>10.024216</td>\n",
       "      <td>4.052792</td>\n",
       "      <td>3.362572</td>\n",
       "      <td>2.419377</td>\n",
       "      <td>0.189474</td>\n",
       "      <td>9</td>\n",
       "    </tr>\n",
       "    <tr>\n",
       "      <th>6</th>\n",
       "      <td>5</td>\n",
       "      <td>A. Greenwood</td>\n",
       "      <td>101.070000</td>\n",
       "      <td>9.714811</td>\n",
       "      <td>3.662369</td>\n",
       "      <td>4.120957</td>\n",
       "      <td>1.908605</td>\n",
       "      <td>0.022879</td>\n",
       "      <td>1</td>\n",
       "    </tr>\n",
       "    <tr>\n",
       "      <th>7</th>\n",
       "      <td>6</td>\n",
       "      <td>S. Houghton</td>\n",
       "      <td>101.070000</td>\n",
       "      <td>9.890223</td>\n",
       "      <td>4.145386</td>\n",
       "      <td>3.895864</td>\n",
       "      <td>1.785498</td>\n",
       "      <td>0.063476</td>\n",
       "      <td>4</td>\n",
       "    </tr>\n",
       "    <tr>\n",
       "      <th>8</th>\n",
       "      <td>9</td>\n",
       "      <td>C. Kelly</td>\n",
       "      <td>96.628667</td>\n",
       "      <td>9.719534</td>\n",
       "      <td>4.006203</td>\n",
       "      <td>3.840098</td>\n",
       "      <td>1.803498</td>\n",
       "      <td>0.069734</td>\n",
       "      <td>4</td>\n",
       "    </tr>\n",
       "    <tr>\n",
       "      <th>9</th>\n",
       "      <td>4</td>\n",
       "      <td>L. Aleixandri</td>\n",
       "      <td>101.070000</td>\n",
       "      <td>10.372192</td>\n",
       "      <td>3.555666</td>\n",
       "      <td>4.700634</td>\n",
       "      <td>2.107918</td>\n",
       "      <td>0.007974</td>\n",
       "      <td>0</td>\n",
       "    </tr>\n",
       "    <tr>\n",
       "      <th>10</th>\n",
       "      <td>7</td>\n",
       "      <td>L. Coombs</td>\n",
       "      <td>101.070000</td>\n",
       "      <td>11.094251</td>\n",
       "      <td>3.784415</td>\n",
       "      <td>4.511788</td>\n",
       "      <td>2.755373</td>\n",
       "      <td>0.042674</td>\n",
       "      <td>2</td>\n",
       "    </tr>\n",
       "    <tr>\n",
       "      <th>11</th>\n",
       "      <td>15</td>\n",
       "      <td>L. Ouahabi</td>\n",
       "      <td>0.000000</td>\n",
       "      <td>0.000000</td>\n",
       "      <td>0.000000</td>\n",
       "      <td>0.000000</td>\n",
       "      <td>0.000000</td>\n",
       "      <td>0.000000</td>\n",
       "      <td>0</td>\n",
       "    </tr>\n",
       "    <tr>\n",
       "      <th>12</th>\n",
       "      <td>10</td>\n",
       "      <td>D. Castellanos</td>\n",
       "      <td>0.000000</td>\n",
       "      <td>0.000000</td>\n",
       "      <td>0.000000</td>\n",
       "      <td>0.000000</td>\n",
       "      <td>0.000000</td>\n",
       "      <td>0.000000</td>\n",
       "      <td>0</td>\n",
       "    </tr>\n",
       "    <tr>\n",
       "      <th>13</th>\n",
       "      <td>8</td>\n",
       "      <td>M. Fowler</td>\n",
       "      <td>0.000000</td>\n",
       "      <td>0.000000</td>\n",
       "      <td>0.000000</td>\n",
       "      <td>0.000000</td>\n",
       "      <td>0.000000</td>\n",
       "      <td>0.000000</td>\n",
       "      <td>0</td>\n",
       "    </tr>\n",
       "    <tr>\n",
       "      <th>14</th>\n",
       "      <td>22</td>\n",
       "      <td>S. Maciver</td>\n",
       "      <td>0.000000</td>\n",
       "      <td>0.000000</td>\n",
       "      <td>0.000000</td>\n",
       "      <td>0.000000</td>\n",
       "      <td>0.000000</td>\n",
       "      <td>0.000000</td>\n",
       "      <td>0</td>\n",
       "    </tr>\n",
       "    <tr>\n",
       "      <th>15</th>\n",
       "      <td>41</td>\n",
       "      <td>Julie Blakstad</td>\n",
       "      <td>0.000000</td>\n",
       "      <td>0.000000</td>\n",
       "      <td>0.000000</td>\n",
       "      <td>0.000000</td>\n",
       "      <td>0.000000</td>\n",
       "      <td>0.000000</td>\n",
       "      <td>0</td>\n",
       "    </tr>\n",
       "    <tr>\n",
       "      <th>16</th>\n",
       "      <td>13</td>\n",
       "      <td>H. Raso</td>\n",
       "      <td>4.441333</td>\n",
       "      <td>0.521844</td>\n",
       "      <td>0.167411</td>\n",
       "      <td>0.138271</td>\n",
       "      <td>0.216162</td>\n",
       "      <td>0.000000</td>\n",
       "      <td>0</td>\n",
       "    </tr>\n",
       "  </tbody>\n",
       "</table>\n",
       "</div>"
      ],
      "text/plain": [
       "    jID             player  Minutes Played  Distance [km]  Walking [km]  \\\n",
       "0     1         E. Roebuck      101.070000       4.749804      3.422714   \n",
       "1     2        K. Casparij      101.070000      10.422734      3.530425   \n",
       "2    25        Y. Hasegawa      101.070000      11.193728      3.138884   \n",
       "3    12  Filippa Angeldahl      101.070000      11.875375      3.240192   \n",
       "4    21       Khadija Shaw      101.070000      10.639256      4.091697   \n",
       "5    11            L. Hemp      101.070000      10.024216      4.052792   \n",
       "6     5       A. Greenwood      101.070000       9.714811      3.662369   \n",
       "7     6        S. Houghton      101.070000       9.890223      4.145386   \n",
       "8     9           C. Kelly       96.628667       9.719534      4.006203   \n",
       "9     4      L. Aleixandri      101.070000      10.372192      3.555666   \n",
       "10    7          L. Coombs      101.070000      11.094251      3.784415   \n",
       "11   15         L. Ouahabi        0.000000       0.000000      0.000000   \n",
       "12   10     D. Castellanos        0.000000       0.000000      0.000000   \n",
       "13    8          M. Fowler        0.000000       0.000000      0.000000   \n",
       "14   22         S. Maciver        0.000000       0.000000      0.000000   \n",
       "15   41     Julie Blakstad        0.000000       0.000000      0.000000   \n",
       "16   13            H. Raso        4.441333       0.521844      0.167411   \n",
       "\n",
       "    Jogging [km]  Running [km]  Sprinting [km]  Number of sprints  \n",
       "0       1.226594      0.100497        0.000000                  0  \n",
       "1       4.751290      2.032365        0.108654                  8  \n",
       "2       5.430833      2.618157        0.005854                  0  \n",
       "3       5.520611      3.039320        0.075253                  4  \n",
       "4       3.961544      2.477936        0.108079                  6  \n",
       "5       3.362572      2.419377        0.189474                  9  \n",
       "6       4.120957      1.908605        0.022879                  1  \n",
       "7       3.895864      1.785498        0.063476                  4  \n",
       "8       3.840098      1.803498        0.069734                  4  \n",
       "9       4.700634      2.107918        0.007974                  0  \n",
       "10      4.511788      2.755373        0.042674                  2  \n",
       "11      0.000000      0.000000        0.000000                  0  \n",
       "12      0.000000      0.000000        0.000000                  0  \n",
       "13      0.000000      0.000000        0.000000                  0  \n",
       "14      0.000000      0.000000        0.000000                  0  \n",
       "15      0.000000      0.000000        0.000000                  0  \n",
       "16      0.138271      0.216162        0.000000                  0  "
      ]
     },
     "execution_count": 23,
     "metadata": {},
     "output_type": "execute_result"
    }
   ],
   "source": [
    "df_summary = aggregate_statistics(tracking_home,teamsheet_home, teamname = 'Home')\n",
    "df_summary"
   ]
  },
  {
   "cell_type": "code",
   "execution_count": 24,
   "metadata": {},
   "outputs": [
    {
     "data": {
      "application/vnd.plotly.v1+json": {
       "config": {
        "plotlyServerURL": "https://plot.ly"
       },
       "data": [
        {
         "type": "bar",
         "x": [
          "E. Roebuck",
          "K. Casparij",
          "Y. Hasegawa",
          "Filippa Angeldahl",
          "Khadija Shaw",
          "L. Hemp",
          "A. Greenwood",
          "S. Houghton",
          "C. Kelly",
          "L. Aleixandri",
          "L. Coombs",
          "L. Ouahabi",
          "D. Castellanos",
          "M. Fowler",
          "S. Maciver",
          "Julie Blakstad",
          "H. Raso"
         ],
         "y": [
          4.749804250054127,
          10.422734090174247,
          11.193727538044113,
          11.875375435080482,
          10.63925553516828,
          10.024215944640797,
          9.71481075814569,
          9.890223332330766,
          9.719534177342362,
          10.372192341683817,
          11.094250939516243,
          0,
          0,
          0,
          0,
          0,
          0.521843745158587
         ]
        }
       ],
       "layout": {
        "template": {
         "data": {
          "bar": [
           {
            "error_x": {
             "color": "#2a3f5f"
            },
            "error_y": {
             "color": "#2a3f5f"
            },
            "marker": {
             "line": {
              "color": "white",
              "width": 0.5
             },
             "pattern": {
              "fillmode": "overlay",
              "size": 10,
              "solidity": 0.2
             }
            },
            "type": "bar"
           }
          ],
          "barpolar": [
           {
            "marker": {
             "line": {
              "color": "white",
              "width": 0.5
             },
             "pattern": {
              "fillmode": "overlay",
              "size": 10,
              "solidity": 0.2
             }
            },
            "type": "barpolar"
           }
          ],
          "carpet": [
           {
            "aaxis": {
             "endlinecolor": "#2a3f5f",
             "gridcolor": "#C8D4E3",
             "linecolor": "#C8D4E3",
             "minorgridcolor": "#C8D4E3",
             "startlinecolor": "#2a3f5f"
            },
            "baxis": {
             "endlinecolor": "#2a3f5f",
             "gridcolor": "#C8D4E3",
             "linecolor": "#C8D4E3",
             "minorgridcolor": "#C8D4E3",
             "startlinecolor": "#2a3f5f"
            },
            "type": "carpet"
           }
          ],
          "choropleth": [
           {
            "colorbar": {
             "outlinewidth": 0,
             "ticks": ""
            },
            "type": "choropleth"
           }
          ],
          "contour": [
           {
            "colorbar": {
             "outlinewidth": 0,
             "ticks": ""
            },
            "colorscale": [
             [
              0,
              "#0d0887"
             ],
             [
              0.1111111111111111,
              "#46039f"
             ],
             [
              0.2222222222222222,
              "#7201a8"
             ],
             [
              0.3333333333333333,
              "#9c179e"
             ],
             [
              0.4444444444444444,
              "#bd3786"
             ],
             [
              0.5555555555555556,
              "#d8576b"
             ],
             [
              0.6666666666666666,
              "#ed7953"
             ],
             [
              0.7777777777777778,
              "#fb9f3a"
             ],
             [
              0.8888888888888888,
              "#fdca26"
             ],
             [
              1,
              "#f0f921"
             ]
            ],
            "type": "contour"
           }
          ],
          "contourcarpet": [
           {
            "colorbar": {
             "outlinewidth": 0,
             "ticks": ""
            },
            "type": "contourcarpet"
           }
          ],
          "heatmap": [
           {
            "colorbar": {
             "outlinewidth": 0,
             "ticks": ""
            },
            "colorscale": [
             [
              0,
              "#0d0887"
             ],
             [
              0.1111111111111111,
              "#46039f"
             ],
             [
              0.2222222222222222,
              "#7201a8"
             ],
             [
              0.3333333333333333,
              "#9c179e"
             ],
             [
              0.4444444444444444,
              "#bd3786"
             ],
             [
              0.5555555555555556,
              "#d8576b"
             ],
             [
              0.6666666666666666,
              "#ed7953"
             ],
             [
              0.7777777777777778,
              "#fb9f3a"
             ],
             [
              0.8888888888888888,
              "#fdca26"
             ],
             [
              1,
              "#f0f921"
             ]
            ],
            "type": "heatmap"
           }
          ],
          "heatmapgl": [
           {
            "colorbar": {
             "outlinewidth": 0,
             "ticks": ""
            },
            "colorscale": [
             [
              0,
              "#0d0887"
             ],
             [
              0.1111111111111111,
              "#46039f"
             ],
             [
              0.2222222222222222,
              "#7201a8"
             ],
             [
              0.3333333333333333,
              "#9c179e"
             ],
             [
              0.4444444444444444,
              "#bd3786"
             ],
             [
              0.5555555555555556,
              "#d8576b"
             ],
             [
              0.6666666666666666,
              "#ed7953"
             ],
             [
              0.7777777777777778,
              "#fb9f3a"
             ],
             [
              0.8888888888888888,
              "#fdca26"
             ],
             [
              1,
              "#f0f921"
             ]
            ],
            "type": "heatmapgl"
           }
          ],
          "histogram": [
           {
            "marker": {
             "pattern": {
              "fillmode": "overlay",
              "size": 10,
              "solidity": 0.2
             }
            },
            "type": "histogram"
           }
          ],
          "histogram2d": [
           {
            "colorbar": {
             "outlinewidth": 0,
             "ticks": ""
            },
            "colorscale": [
             [
              0,
              "#0d0887"
             ],
             [
              0.1111111111111111,
              "#46039f"
             ],
             [
              0.2222222222222222,
              "#7201a8"
             ],
             [
              0.3333333333333333,
              "#9c179e"
             ],
             [
              0.4444444444444444,
              "#bd3786"
             ],
             [
              0.5555555555555556,
              "#d8576b"
             ],
             [
              0.6666666666666666,
              "#ed7953"
             ],
             [
              0.7777777777777778,
              "#fb9f3a"
             ],
             [
              0.8888888888888888,
              "#fdca26"
             ],
             [
              1,
              "#f0f921"
             ]
            ],
            "type": "histogram2d"
           }
          ],
          "histogram2dcontour": [
           {
            "colorbar": {
             "outlinewidth": 0,
             "ticks": ""
            },
            "colorscale": [
             [
              0,
              "#0d0887"
             ],
             [
              0.1111111111111111,
              "#46039f"
             ],
             [
              0.2222222222222222,
              "#7201a8"
             ],
             [
              0.3333333333333333,
              "#9c179e"
             ],
             [
              0.4444444444444444,
              "#bd3786"
             ],
             [
              0.5555555555555556,
              "#d8576b"
             ],
             [
              0.6666666666666666,
              "#ed7953"
             ],
             [
              0.7777777777777778,
              "#fb9f3a"
             ],
             [
              0.8888888888888888,
              "#fdca26"
             ],
             [
              1,
              "#f0f921"
             ]
            ],
            "type": "histogram2dcontour"
           }
          ],
          "mesh3d": [
           {
            "colorbar": {
             "outlinewidth": 0,
             "ticks": ""
            },
            "type": "mesh3d"
           }
          ],
          "parcoords": [
           {
            "line": {
             "colorbar": {
              "outlinewidth": 0,
              "ticks": ""
             }
            },
            "type": "parcoords"
           }
          ],
          "pie": [
           {
            "automargin": true,
            "type": "pie"
           }
          ],
          "scatter": [
           {
            "fillpattern": {
             "fillmode": "overlay",
             "size": 10,
             "solidity": 0.2
            },
            "type": "scatter"
           }
          ],
          "scatter3d": [
           {
            "line": {
             "colorbar": {
              "outlinewidth": 0,
              "ticks": ""
             }
            },
            "marker": {
             "colorbar": {
              "outlinewidth": 0,
              "ticks": ""
             }
            },
            "type": "scatter3d"
           }
          ],
          "scattercarpet": [
           {
            "marker": {
             "colorbar": {
              "outlinewidth": 0,
              "ticks": ""
             }
            },
            "type": "scattercarpet"
           }
          ],
          "scattergeo": [
           {
            "marker": {
             "colorbar": {
              "outlinewidth": 0,
              "ticks": ""
             }
            },
            "type": "scattergeo"
           }
          ],
          "scattergl": [
           {
            "marker": {
             "colorbar": {
              "outlinewidth": 0,
              "ticks": ""
             }
            },
            "type": "scattergl"
           }
          ],
          "scattermapbox": [
           {
            "marker": {
             "colorbar": {
              "outlinewidth": 0,
              "ticks": ""
             }
            },
            "type": "scattermapbox"
           }
          ],
          "scatterpolar": [
           {
            "marker": {
             "colorbar": {
              "outlinewidth": 0,
              "ticks": ""
             }
            },
            "type": "scatterpolar"
           }
          ],
          "scatterpolargl": [
           {
            "marker": {
             "colorbar": {
              "outlinewidth": 0,
              "ticks": ""
             }
            },
            "type": "scatterpolargl"
           }
          ],
          "scatterternary": [
           {
            "marker": {
             "colorbar": {
              "outlinewidth": 0,
              "ticks": ""
             }
            },
            "type": "scatterternary"
           }
          ],
          "surface": [
           {
            "colorbar": {
             "outlinewidth": 0,
             "ticks": ""
            },
            "colorscale": [
             [
              0,
              "#0d0887"
             ],
             [
              0.1111111111111111,
              "#46039f"
             ],
             [
              0.2222222222222222,
              "#7201a8"
             ],
             [
              0.3333333333333333,
              "#9c179e"
             ],
             [
              0.4444444444444444,
              "#bd3786"
             ],
             [
              0.5555555555555556,
              "#d8576b"
             ],
             [
              0.6666666666666666,
              "#ed7953"
             ],
             [
              0.7777777777777778,
              "#fb9f3a"
             ],
             [
              0.8888888888888888,
              "#fdca26"
             ],
             [
              1,
              "#f0f921"
             ]
            ],
            "type": "surface"
           }
          ],
          "table": [
           {
            "cells": {
             "fill": {
              "color": "#EBF0F8"
             },
             "line": {
              "color": "white"
             }
            },
            "header": {
             "fill": {
              "color": "#C8D4E3"
             },
             "line": {
              "color": "white"
             }
            },
            "type": "table"
           }
          ]
         },
         "layout": {
          "annotationdefaults": {
           "arrowcolor": "#2a3f5f",
           "arrowhead": 0,
           "arrowwidth": 1
          },
          "autotypenumbers": "strict",
          "coloraxis": {
           "colorbar": {
            "outlinewidth": 0,
            "ticks": ""
           }
          },
          "colorscale": {
           "diverging": [
            [
             0,
             "#8e0152"
            ],
            [
             0.1,
             "#c51b7d"
            ],
            [
             0.2,
             "#de77ae"
            ],
            [
             0.3,
             "#f1b6da"
            ],
            [
             0.4,
             "#fde0ef"
            ],
            [
             0.5,
             "#f7f7f7"
            ],
            [
             0.6,
             "#e6f5d0"
            ],
            [
             0.7,
             "#b8e186"
            ],
            [
             0.8,
             "#7fbc41"
            ],
            [
             0.9,
             "#4d9221"
            ],
            [
             1,
             "#276419"
            ]
           ],
           "sequential": [
            [
             0,
             "#0d0887"
            ],
            [
             0.1111111111111111,
             "#46039f"
            ],
            [
             0.2222222222222222,
             "#7201a8"
            ],
            [
             0.3333333333333333,
             "#9c179e"
            ],
            [
             0.4444444444444444,
             "#bd3786"
            ],
            [
             0.5555555555555556,
             "#d8576b"
            ],
            [
             0.6666666666666666,
             "#ed7953"
            ],
            [
             0.7777777777777778,
             "#fb9f3a"
            ],
            [
             0.8888888888888888,
             "#fdca26"
            ],
            [
             1,
             "#f0f921"
            ]
           ],
           "sequentialminus": [
            [
             0,
             "#0d0887"
            ],
            [
             0.1111111111111111,
             "#46039f"
            ],
            [
             0.2222222222222222,
             "#7201a8"
            ],
            [
             0.3333333333333333,
             "#9c179e"
            ],
            [
             0.4444444444444444,
             "#bd3786"
            ],
            [
             0.5555555555555556,
             "#d8576b"
            ],
            [
             0.6666666666666666,
             "#ed7953"
            ],
            [
             0.7777777777777778,
             "#fb9f3a"
            ],
            [
             0.8888888888888888,
             "#fdca26"
            ],
            [
             1,
             "#f0f921"
            ]
           ]
          },
          "colorway": [
           "#636efa",
           "#EF553B",
           "#00cc96",
           "#ab63fa",
           "#FFA15A",
           "#19d3f3",
           "#FF6692",
           "#B6E880",
           "#FF97FF",
           "#FECB52"
          ],
          "font": {
           "color": "#2a3f5f"
          },
          "geo": {
           "bgcolor": "white",
           "lakecolor": "white",
           "landcolor": "white",
           "showlakes": true,
           "showland": true,
           "subunitcolor": "#C8D4E3"
          },
          "hoverlabel": {
           "align": "left"
          },
          "hovermode": "closest",
          "mapbox": {
           "style": "light"
          },
          "paper_bgcolor": "white",
          "plot_bgcolor": "white",
          "polar": {
           "angularaxis": {
            "gridcolor": "#EBF0F8",
            "linecolor": "#EBF0F8",
            "ticks": ""
           },
           "bgcolor": "white",
           "radialaxis": {
            "gridcolor": "#EBF0F8",
            "linecolor": "#EBF0F8",
            "ticks": ""
           }
          },
          "scene": {
           "xaxis": {
            "backgroundcolor": "white",
            "gridcolor": "#DFE8F3",
            "gridwidth": 2,
            "linecolor": "#EBF0F8",
            "showbackground": true,
            "ticks": "",
            "zerolinecolor": "#EBF0F8"
           },
           "yaxis": {
            "backgroundcolor": "white",
            "gridcolor": "#DFE8F3",
            "gridwidth": 2,
            "linecolor": "#EBF0F8",
            "showbackground": true,
            "ticks": "",
            "zerolinecolor": "#EBF0F8"
           },
           "zaxis": {
            "backgroundcolor": "white",
            "gridcolor": "#DFE8F3",
            "gridwidth": 2,
            "linecolor": "#EBF0F8",
            "showbackground": true,
            "ticks": "",
            "zerolinecolor": "#EBF0F8"
           }
          },
          "shapedefaults": {
           "line": {
            "color": "#2a3f5f"
           }
          },
          "ternary": {
           "aaxis": {
            "gridcolor": "#DFE8F3",
            "linecolor": "#A2B1C6",
            "ticks": ""
           },
           "baxis": {
            "gridcolor": "#DFE8F3",
            "linecolor": "#A2B1C6",
            "ticks": ""
           },
           "bgcolor": "white",
           "caxis": {
            "gridcolor": "#DFE8F3",
            "linecolor": "#A2B1C6",
            "ticks": ""
           }
          },
          "title": {
           "x": 0.05
          },
          "xaxis": {
           "automargin": true,
           "gridcolor": "#EBF0F8",
           "linecolor": "#EBF0F8",
           "ticks": "",
           "title": {
            "standoff": 15
           },
           "zerolinecolor": "#EBF0F8",
           "zerolinewidth": 2
          },
          "yaxis": {
           "automargin": true,
           "gridcolor": "#EBF0F8",
           "linecolor": "#EBF0F8",
           "ticks": "",
           "title": {
            "standoff": 15
           },
           "zerolinecolor": "#EBF0F8",
           "zerolinewidth": 2
          }
         }
        },
        "xaxis": {
         "title": {
          "text": "Player"
         }
        },
        "yaxis": {
         "title": {
          "text": "Distance covered [km]"
         }
        }
       }
      }
     },
     "metadata": {},
     "output_type": "display_data"
    }
   ],
   "source": [
    "fig = go.Figure()\n",
    "\n",
    "fig.add_trace(\n",
    "    go.Bar(\n",
    "        x = df_summary['player'],\n",
    "        y = df_summary['Distance [km]']\n",
    "    )\n",
    ")\n",
    "fig.update_layout(\n",
    "    xaxis = {\n",
    "        'title' : 'Player'\n",
    "    },\n",
    "    yaxis = {\n",
    "        'title' : 'Distance covered [km]'\n",
    "    },\n",
    "    template=\"plotly_white\"\n",
    ")\n",
    "fig.show()"
   ]
  },
  {
   "cell_type": "code",
   "execution_count": 25,
   "metadata": {},
   "outputs": [
    {
     "data": {
      "application/vnd.plotly.v1+json": {
       "config": {
        "plotlyServerURL": "https://plot.ly"
       },
       "data": [
        {
         "name": "Walking [km]",
         "type": "bar",
         "x": [
          "E. Roebuck",
          "K. Casparij",
          "Y. Hasegawa",
          "Filippa Angeldahl",
          "Khadija Shaw",
          "L. Hemp",
          "A. Greenwood",
          "S. Houghton",
          "C. Kelly",
          "L. Aleixandri",
          "L. Coombs",
          "L. Ouahabi",
          "D. Castellanos",
          "M. Fowler",
          "S. Maciver",
          "Julie Blakstad",
          "H. Raso"
         ],
         "y": [
          3.4227138052392108,
          3.5304251508406117,
          3.1388835074911867,
          3.2401918635374356,
          4.0916967787470915,
          4.052792027986317,
          3.662369449262865,
          4.1453856976835795,
          4.006203292659247,
          3.5556656951267347,
          3.784415452521821,
          0,
          0,
          0,
          0,
          0,
          0.16741072885219568
         ]
        },
        {
         "name": "Jogging [km]",
         "type": "bar",
         "x": [
          "E. Roebuck",
          "K. Casparij",
          "Y. Hasegawa",
          "Filippa Angeldahl",
          "Khadija Shaw",
          "L. Hemp",
          "A. Greenwood",
          "S. Houghton",
          "C. Kelly",
          "L. Aleixandri",
          "L. Coombs",
          "L. Ouahabi",
          "D. Castellanos",
          "M. Fowler",
          "S. Maciver",
          "Julie Blakstad",
          "H. Raso"
         ],
         "y": [
          1.2265938333052184,
          4.751289555309633,
          5.430833213042989,
          5.520611144593178,
          3.961544193475215,
          3.362572104350879,
          4.1209572951961455,
          3.8958640722369036,
          3.8400984864671175,
          4.700634464292697,
          4.511788137124581,
          0,
          0,
          0,
          0,
          0,
          0.13827146329289927
         ]
        },
        {
         "name": "Running [km]",
         "type": "bar",
         "x": [
          "E. Roebuck",
          "K. Casparij",
          "Y. Hasegawa",
          "Filippa Angeldahl",
          "Khadija Shaw",
          "L. Hemp",
          "A. Greenwood",
          "S. Houghton",
          "C. Kelly",
          "L. Aleixandri",
          "L. Coombs",
          "L. Ouahabi",
          "D. Castellanos",
          "M. Fowler",
          "S. Maciver",
          "Julie Blakstad",
          "H. Raso"
         ],
         "y": [
          0.10049661150969945,
          2.032365292439149,
          2.6181569317864453,
          3.039319723219481,
          2.477935794656072,
          2.419377440467483,
          1.9086049160882175,
          1.7854979714896781,
          1.8034980592669536,
          2.1079178842247943,
          2.7553729291014077,
          0,
          0,
          0,
          0,
          0,
          0.21616155301349205
         ]
        },
        {
         "name": "Sprinting [km]",
         "type": "bar",
         "x": [
          "E. Roebuck",
          "K. Casparij",
          "Y. Hasegawa",
          "Filippa Angeldahl",
          "Khadija Shaw",
          "L. Hemp",
          "A. Greenwood",
          "S. Houghton",
          "C. Kelly",
          "L. Aleixandri",
          "L. Coombs",
          "L. Ouahabi",
          "D. Castellanos",
          "M. Fowler",
          "S. Maciver",
          "Julie Blakstad",
          "H. Raso"
         ],
         "y": [
          0,
          0.10865409158485102,
          0.00585388572349175,
          0.07525270373038648,
          0.10807876828990051,
          0.18947437183611707,
          0.022879097598460248,
          0.06347559092060558,
          0.06973433894904187,
          0.00797429803959341,
          0.04267442076843372,
          0,
          0,
          0,
          0,
          0,
          0
         ]
        }
       ],
       "layout": {
        "barmode": "group",
        "template": {
         "data": {
          "bar": [
           {
            "error_x": {
             "color": "#2a3f5f"
            },
            "error_y": {
             "color": "#2a3f5f"
            },
            "marker": {
             "line": {
              "color": "white",
              "width": 0.5
             },
             "pattern": {
              "fillmode": "overlay",
              "size": 10,
              "solidity": 0.2
             }
            },
            "type": "bar"
           }
          ],
          "barpolar": [
           {
            "marker": {
             "line": {
              "color": "white",
              "width": 0.5
             },
             "pattern": {
              "fillmode": "overlay",
              "size": 10,
              "solidity": 0.2
             }
            },
            "type": "barpolar"
           }
          ],
          "carpet": [
           {
            "aaxis": {
             "endlinecolor": "#2a3f5f",
             "gridcolor": "#C8D4E3",
             "linecolor": "#C8D4E3",
             "minorgridcolor": "#C8D4E3",
             "startlinecolor": "#2a3f5f"
            },
            "baxis": {
             "endlinecolor": "#2a3f5f",
             "gridcolor": "#C8D4E3",
             "linecolor": "#C8D4E3",
             "minorgridcolor": "#C8D4E3",
             "startlinecolor": "#2a3f5f"
            },
            "type": "carpet"
           }
          ],
          "choropleth": [
           {
            "colorbar": {
             "outlinewidth": 0,
             "ticks": ""
            },
            "type": "choropleth"
           }
          ],
          "contour": [
           {
            "colorbar": {
             "outlinewidth": 0,
             "ticks": ""
            },
            "colorscale": [
             [
              0,
              "#0d0887"
             ],
             [
              0.1111111111111111,
              "#46039f"
             ],
             [
              0.2222222222222222,
              "#7201a8"
             ],
             [
              0.3333333333333333,
              "#9c179e"
             ],
             [
              0.4444444444444444,
              "#bd3786"
             ],
             [
              0.5555555555555556,
              "#d8576b"
             ],
             [
              0.6666666666666666,
              "#ed7953"
             ],
             [
              0.7777777777777778,
              "#fb9f3a"
             ],
             [
              0.8888888888888888,
              "#fdca26"
             ],
             [
              1,
              "#f0f921"
             ]
            ],
            "type": "contour"
           }
          ],
          "contourcarpet": [
           {
            "colorbar": {
             "outlinewidth": 0,
             "ticks": ""
            },
            "type": "contourcarpet"
           }
          ],
          "heatmap": [
           {
            "colorbar": {
             "outlinewidth": 0,
             "ticks": ""
            },
            "colorscale": [
             [
              0,
              "#0d0887"
             ],
             [
              0.1111111111111111,
              "#46039f"
             ],
             [
              0.2222222222222222,
              "#7201a8"
             ],
             [
              0.3333333333333333,
              "#9c179e"
             ],
             [
              0.4444444444444444,
              "#bd3786"
             ],
             [
              0.5555555555555556,
              "#d8576b"
             ],
             [
              0.6666666666666666,
              "#ed7953"
             ],
             [
              0.7777777777777778,
              "#fb9f3a"
             ],
             [
              0.8888888888888888,
              "#fdca26"
             ],
             [
              1,
              "#f0f921"
             ]
            ],
            "type": "heatmap"
           }
          ],
          "heatmapgl": [
           {
            "colorbar": {
             "outlinewidth": 0,
             "ticks": ""
            },
            "colorscale": [
             [
              0,
              "#0d0887"
             ],
             [
              0.1111111111111111,
              "#46039f"
             ],
             [
              0.2222222222222222,
              "#7201a8"
             ],
             [
              0.3333333333333333,
              "#9c179e"
             ],
             [
              0.4444444444444444,
              "#bd3786"
             ],
             [
              0.5555555555555556,
              "#d8576b"
             ],
             [
              0.6666666666666666,
              "#ed7953"
             ],
             [
              0.7777777777777778,
              "#fb9f3a"
             ],
             [
              0.8888888888888888,
              "#fdca26"
             ],
             [
              1,
              "#f0f921"
             ]
            ],
            "type": "heatmapgl"
           }
          ],
          "histogram": [
           {
            "marker": {
             "pattern": {
              "fillmode": "overlay",
              "size": 10,
              "solidity": 0.2
             }
            },
            "type": "histogram"
           }
          ],
          "histogram2d": [
           {
            "colorbar": {
             "outlinewidth": 0,
             "ticks": ""
            },
            "colorscale": [
             [
              0,
              "#0d0887"
             ],
             [
              0.1111111111111111,
              "#46039f"
             ],
             [
              0.2222222222222222,
              "#7201a8"
             ],
             [
              0.3333333333333333,
              "#9c179e"
             ],
             [
              0.4444444444444444,
              "#bd3786"
             ],
             [
              0.5555555555555556,
              "#d8576b"
             ],
             [
              0.6666666666666666,
              "#ed7953"
             ],
             [
              0.7777777777777778,
              "#fb9f3a"
             ],
             [
              0.8888888888888888,
              "#fdca26"
             ],
             [
              1,
              "#f0f921"
             ]
            ],
            "type": "histogram2d"
           }
          ],
          "histogram2dcontour": [
           {
            "colorbar": {
             "outlinewidth": 0,
             "ticks": ""
            },
            "colorscale": [
             [
              0,
              "#0d0887"
             ],
             [
              0.1111111111111111,
              "#46039f"
             ],
             [
              0.2222222222222222,
              "#7201a8"
             ],
             [
              0.3333333333333333,
              "#9c179e"
             ],
             [
              0.4444444444444444,
              "#bd3786"
             ],
             [
              0.5555555555555556,
              "#d8576b"
             ],
             [
              0.6666666666666666,
              "#ed7953"
             ],
             [
              0.7777777777777778,
              "#fb9f3a"
             ],
             [
              0.8888888888888888,
              "#fdca26"
             ],
             [
              1,
              "#f0f921"
             ]
            ],
            "type": "histogram2dcontour"
           }
          ],
          "mesh3d": [
           {
            "colorbar": {
             "outlinewidth": 0,
             "ticks": ""
            },
            "type": "mesh3d"
           }
          ],
          "parcoords": [
           {
            "line": {
             "colorbar": {
              "outlinewidth": 0,
              "ticks": ""
             }
            },
            "type": "parcoords"
           }
          ],
          "pie": [
           {
            "automargin": true,
            "type": "pie"
           }
          ],
          "scatter": [
           {
            "fillpattern": {
             "fillmode": "overlay",
             "size": 10,
             "solidity": 0.2
            },
            "type": "scatter"
           }
          ],
          "scatter3d": [
           {
            "line": {
             "colorbar": {
              "outlinewidth": 0,
              "ticks": ""
             }
            },
            "marker": {
             "colorbar": {
              "outlinewidth": 0,
              "ticks": ""
             }
            },
            "type": "scatter3d"
           }
          ],
          "scattercarpet": [
           {
            "marker": {
             "colorbar": {
              "outlinewidth": 0,
              "ticks": ""
             }
            },
            "type": "scattercarpet"
           }
          ],
          "scattergeo": [
           {
            "marker": {
             "colorbar": {
              "outlinewidth": 0,
              "ticks": ""
             }
            },
            "type": "scattergeo"
           }
          ],
          "scattergl": [
           {
            "marker": {
             "colorbar": {
              "outlinewidth": 0,
              "ticks": ""
             }
            },
            "type": "scattergl"
           }
          ],
          "scattermapbox": [
           {
            "marker": {
             "colorbar": {
              "outlinewidth": 0,
              "ticks": ""
             }
            },
            "type": "scattermapbox"
           }
          ],
          "scatterpolar": [
           {
            "marker": {
             "colorbar": {
              "outlinewidth": 0,
              "ticks": ""
             }
            },
            "type": "scatterpolar"
           }
          ],
          "scatterpolargl": [
           {
            "marker": {
             "colorbar": {
              "outlinewidth": 0,
              "ticks": ""
             }
            },
            "type": "scatterpolargl"
           }
          ],
          "scatterternary": [
           {
            "marker": {
             "colorbar": {
              "outlinewidth": 0,
              "ticks": ""
             }
            },
            "type": "scatterternary"
           }
          ],
          "surface": [
           {
            "colorbar": {
             "outlinewidth": 0,
             "ticks": ""
            },
            "colorscale": [
             [
              0,
              "#0d0887"
             ],
             [
              0.1111111111111111,
              "#46039f"
             ],
             [
              0.2222222222222222,
              "#7201a8"
             ],
             [
              0.3333333333333333,
              "#9c179e"
             ],
             [
              0.4444444444444444,
              "#bd3786"
             ],
             [
              0.5555555555555556,
              "#d8576b"
             ],
             [
              0.6666666666666666,
              "#ed7953"
             ],
             [
              0.7777777777777778,
              "#fb9f3a"
             ],
             [
              0.8888888888888888,
              "#fdca26"
             ],
             [
              1,
              "#f0f921"
             ]
            ],
            "type": "surface"
           }
          ],
          "table": [
           {
            "cells": {
             "fill": {
              "color": "#EBF0F8"
             },
             "line": {
              "color": "white"
             }
            },
            "header": {
             "fill": {
              "color": "#C8D4E3"
             },
             "line": {
              "color": "white"
             }
            },
            "type": "table"
           }
          ]
         },
         "layout": {
          "annotationdefaults": {
           "arrowcolor": "#2a3f5f",
           "arrowhead": 0,
           "arrowwidth": 1
          },
          "autotypenumbers": "strict",
          "coloraxis": {
           "colorbar": {
            "outlinewidth": 0,
            "ticks": ""
           }
          },
          "colorscale": {
           "diverging": [
            [
             0,
             "#8e0152"
            ],
            [
             0.1,
             "#c51b7d"
            ],
            [
             0.2,
             "#de77ae"
            ],
            [
             0.3,
             "#f1b6da"
            ],
            [
             0.4,
             "#fde0ef"
            ],
            [
             0.5,
             "#f7f7f7"
            ],
            [
             0.6,
             "#e6f5d0"
            ],
            [
             0.7,
             "#b8e186"
            ],
            [
             0.8,
             "#7fbc41"
            ],
            [
             0.9,
             "#4d9221"
            ],
            [
             1,
             "#276419"
            ]
           ],
           "sequential": [
            [
             0,
             "#0d0887"
            ],
            [
             0.1111111111111111,
             "#46039f"
            ],
            [
             0.2222222222222222,
             "#7201a8"
            ],
            [
             0.3333333333333333,
             "#9c179e"
            ],
            [
             0.4444444444444444,
             "#bd3786"
            ],
            [
             0.5555555555555556,
             "#d8576b"
            ],
            [
             0.6666666666666666,
             "#ed7953"
            ],
            [
             0.7777777777777778,
             "#fb9f3a"
            ],
            [
             0.8888888888888888,
             "#fdca26"
            ],
            [
             1,
             "#f0f921"
            ]
           ],
           "sequentialminus": [
            [
             0,
             "#0d0887"
            ],
            [
             0.1111111111111111,
             "#46039f"
            ],
            [
             0.2222222222222222,
             "#7201a8"
            ],
            [
             0.3333333333333333,
             "#9c179e"
            ],
            [
             0.4444444444444444,
             "#bd3786"
            ],
            [
             0.5555555555555556,
             "#d8576b"
            ],
            [
             0.6666666666666666,
             "#ed7953"
            ],
            [
             0.7777777777777778,
             "#fb9f3a"
            ],
            [
             0.8888888888888888,
             "#fdca26"
            ],
            [
             1,
             "#f0f921"
            ]
           ]
          },
          "colorway": [
           "#636efa",
           "#EF553B",
           "#00cc96",
           "#ab63fa",
           "#FFA15A",
           "#19d3f3",
           "#FF6692",
           "#B6E880",
           "#FF97FF",
           "#FECB52"
          ],
          "font": {
           "color": "#2a3f5f"
          },
          "geo": {
           "bgcolor": "white",
           "lakecolor": "white",
           "landcolor": "white",
           "showlakes": true,
           "showland": true,
           "subunitcolor": "#C8D4E3"
          },
          "hoverlabel": {
           "align": "left"
          },
          "hovermode": "closest",
          "mapbox": {
           "style": "light"
          },
          "paper_bgcolor": "white",
          "plot_bgcolor": "white",
          "polar": {
           "angularaxis": {
            "gridcolor": "#EBF0F8",
            "linecolor": "#EBF0F8",
            "ticks": ""
           },
           "bgcolor": "white",
           "radialaxis": {
            "gridcolor": "#EBF0F8",
            "linecolor": "#EBF0F8",
            "ticks": ""
           }
          },
          "scene": {
           "xaxis": {
            "backgroundcolor": "white",
            "gridcolor": "#DFE8F3",
            "gridwidth": 2,
            "linecolor": "#EBF0F8",
            "showbackground": true,
            "ticks": "",
            "zerolinecolor": "#EBF0F8"
           },
           "yaxis": {
            "backgroundcolor": "white",
            "gridcolor": "#DFE8F3",
            "gridwidth": 2,
            "linecolor": "#EBF0F8",
            "showbackground": true,
            "ticks": "",
            "zerolinecolor": "#EBF0F8"
           },
           "zaxis": {
            "backgroundcolor": "white",
            "gridcolor": "#DFE8F3",
            "gridwidth": 2,
            "linecolor": "#EBF0F8",
            "showbackground": true,
            "ticks": "",
            "zerolinecolor": "#EBF0F8"
           }
          },
          "shapedefaults": {
           "line": {
            "color": "#2a3f5f"
           }
          },
          "ternary": {
           "aaxis": {
            "gridcolor": "#DFE8F3",
            "linecolor": "#A2B1C6",
            "ticks": ""
           },
           "baxis": {
            "gridcolor": "#DFE8F3",
            "linecolor": "#A2B1C6",
            "ticks": ""
           },
           "bgcolor": "white",
           "caxis": {
            "gridcolor": "#DFE8F3",
            "linecolor": "#A2B1C6",
            "ticks": ""
           }
          },
          "title": {
           "x": 0.05
          },
          "xaxis": {
           "automargin": true,
           "gridcolor": "#EBF0F8",
           "linecolor": "#EBF0F8",
           "ticks": "",
           "title": {
            "standoff": 15
           },
           "zerolinecolor": "#EBF0F8",
           "zerolinewidth": 2
          },
          "yaxis": {
           "automargin": true,
           "gridcolor": "#EBF0F8",
           "linecolor": "#EBF0F8",
           "ticks": "",
           "title": {
            "standoff": 15
           },
           "zerolinecolor": "#EBF0F8",
           "zerolinewidth": 2
          }
         }
        },
        "xaxis": {
         "title": {
          "text": "Player"
         }
        },
        "yaxis": {
         "title": {
          "text": "Distance covered [km]"
         }
        }
       }
      }
     },
     "metadata": {},
     "output_type": "display_data"
    }
   ],
   "source": [
    "fig = go.Figure()\n",
    "\n",
    "fig.add_trace(\n",
    "    go.Bar(\n",
    "        x = df_summary['player'],\n",
    "        y = df_summary['Walking [km]'],\n",
    "        name = 'Walking [km]'\n",
    "    )\n",
    ")\n",
    "\n",
    "fig.add_trace(\n",
    "    go.Bar(\n",
    "        x = df_summary['player'],\n",
    "        y = df_summary['Jogging [km]'],\n",
    "        name = 'Jogging [km]'\n",
    "    )\n",
    ")\n",
    "\n",
    "fig.add_trace(\n",
    "    go.Bar(\n",
    "        x = df_summary['player'],\n",
    "        y = df_summary['Running [km]'],\n",
    "        name = 'Running [km]'\n",
    "    )\n",
    ")\n",
    "\n",
    "fig.add_trace(\n",
    "    go.Bar(\n",
    "        x = df_summary['player'],\n",
    "        y = df_summary['Sprinting [km]'],\n",
    "        name = 'Sprinting [km]'\n",
    "    )\n",
    ")\n",
    "\n",
    "fig.update_layout(barmode='group')\n",
    "fig.update_layout(\n",
    "    xaxis = {\n",
    "        'title' : 'Player'\n",
    "    },\n",
    "    yaxis = {\n",
    "        'title' : 'Distance covered [km]'\n",
    "    },\n",
    "    template=\"plotly_white\"\n",
    ")\n",
    "fig.show()"
   ]
  }
 ],
 "metadata": {
  "kernelspec": {
   "display_name": "Python 3",
   "language": "python",
   "name": "python3"
  },
  "language_info": {
   "codemirror_mode": {
    "name": "ipython",
    "version": 3
   },
   "file_extension": ".py",
   "mimetype": "text/x-python",
   "name": "python",
   "nbconvert_exporter": "python",
   "pygments_lexer": "ipython3",
   "version": "3.10.7"
  },
  "orig_nbformat": 4
 },
 "nbformat": 4,
 "nbformat_minor": 2
}
