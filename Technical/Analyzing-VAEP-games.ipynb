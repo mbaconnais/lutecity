{
 "cells": [
  {
   "attachments": {},
   "cell_type": "markdown",
   "metadata": {},
   "source": [
    "# Studying Manchester City - Arsenal using VAEP\n",
    "\n",
    "The idea of this notebook is to used the VAEP model trained in _Training-VAEP-model.ipynb_ and the matrix of distribution of VAEP values by events and positions to analyze the game of Manchester City - Arsenal game.\n",
    "\n",
    "We are going to use the other 5 games of the dataset to compute a mean VAEP per minute and per player in order to compare the game with the previous ones.\n",
    "\n",
    "Of course, once the model is built the idea is to ran\n",
    "\n",
    "**Summary**\n",
    "\n",
    "1. [Getting and transforming the data](#data)\n",
    "2. [Features & labels](#features)\n",
    "3. [Computing the VAEP values](#vaep)\n",
    "4. [Using the position to specialize the VAEP](#position)\n",
    "5. [Analysing a game](#analyse)\n",
    "6. [Providing substitute ideas](#substitute)"
   ]
  },
  {
   "cell_type": "code",
   "execution_count": 1,
   "metadata": {},
   "outputs": [],
   "source": [
    "# Import librairies\n",
    "import os\n",
    "import warnings\n",
    "import pandas as pd\n",
    "import tqdm\n",
    "import json\n",
    "import pickle\n",
    "import numpy as np\n",
    "from math import ceil\n",
    "\n",
    "# Socceraction\n",
    "from socceraction.data.statsbomb import StatsBombLoader\n",
    "import socceraction.spadl as spadl\n",
    "import socceraction.atomic.spadl as atomicspadl\n",
    "import socceraction.atomic.vaep.features as fs\n",
    "import socceraction.atomic.vaep.labels as lab\n",
    "import socceraction.atomic.vaep.formula as vaepformula\n",
    "\n",
    "# Viz\n",
    "import plotly.graph_objs as go\n",
    "\n",
    "# Others\n",
    "from helper_preprocessing import extract_dataframe_from_json\n",
    "\n",
    "pd.set_option('display.max_columns', None)\n",
    "warnings.simplefilter(action='ignore', category=pd.errors.PerformanceWarning)\n",
    "pd.options.mode.chained_assignment = None  # default='warn'"
   ]
  },
  {
   "attachments": {},
   "cell_type": "markdown",
   "metadata": {},
   "source": [
    "## Getting and transforming the data <a id=\"data\"></a>"
   ]
  },
  {
   "cell_type": "code",
   "execution_count": 2,
   "metadata": {},
   "outputs": [],
   "source": [
    "game_arsenal_id = 3852832"
   ]
  },
  {
   "cell_type": "code",
   "execution_count": 3,
   "metadata": {},
   "outputs": [
    {
     "data": {
      "text/html": [
       "<div>\n",
       "<style scoped>\n",
       "    .dataframe tbody tr th:only-of-type {\n",
       "        vertical-align: middle;\n",
       "    }\n",
       "\n",
       "    .dataframe tbody tr th {\n",
       "        vertical-align: top;\n",
       "    }\n",
       "\n",
       "    .dataframe thead th {\n",
       "        text-align: right;\n",
       "    }\n",
       "</style>\n",
       "<table border=\"1\" class=\"dataframe\">\n",
       "  <thead>\n",
       "    <tr style=\"text-align: right;\">\n",
       "      <th></th>\n",
       "      <th>game_day</th>\n",
       "      <th>home_team_id</th>\n",
       "      <th>away_team_id</th>\n",
       "      <th>game_date</th>\n",
       "      <th>home_score</th>\n",
       "      <th>away_score</th>\n",
       "    </tr>\n",
       "  </thead>\n",
       "  <tbody>\n",
       "    <tr>\n",
       "      <th>124</th>\n",
       "      <td>4</td>\n",
       "      <td>746</td>\n",
       "      <td>2652</td>\n",
       "      <td>2022-10-16 15:00:00</td>\n",
       "      <td>4.0</td>\n",
       "      <td>0.0</td>\n",
       "    </tr>\n",
       "    <tr>\n",
       "      <th>46</th>\n",
       "      <td>6</td>\n",
       "      <td>746</td>\n",
       "      <td>966</td>\n",
       "      <td>2022-10-30 16:00:00</td>\n",
       "      <td>2.0</td>\n",
       "      <td>1.0</td>\n",
       "    </tr>\n",
       "    <tr>\n",
       "      <th>108</th>\n",
       "      <td>9</td>\n",
       "      <td>746</td>\n",
       "      <td>965</td>\n",
       "      <td>2022-12-04 16:00:00</td>\n",
       "      <td>3.0</td>\n",
       "      <td>1.0</td>\n",
       "    </tr>\n",
       "    <tr>\n",
       "      <th>21</th>\n",
       "      <td>12</td>\n",
       "      <td>746</td>\n",
       "      <td>2647</td>\n",
       "      <td>2023-01-21 13:30:00</td>\n",
       "      <td>1.0</td>\n",
       "      <td>1.0</td>\n",
       "    </tr>\n",
       "    <tr>\n",
       "      <th>129</th>\n",
       "      <td>1</td>\n",
       "      <td>746</td>\n",
       "      <td>968</td>\n",
       "      <td>2023-02-11 14:30:00</td>\n",
       "      <td>2.0</td>\n",
       "      <td>1.0</td>\n",
       "    </tr>\n",
       "    <tr>\n",
       "      <th>13</th>\n",
       "      <td>14</td>\n",
       "      <td>746</td>\n",
       "      <td>749</td>\n",
       "      <td>2023-03-05 16:00:00</td>\n",
       "      <td>3.0</td>\n",
       "      <td>1.0</td>\n",
       "    </tr>\n",
       "  </tbody>\n",
       "</table>\n",
       "</div>"
      ],
      "text/plain": [
       "     game_day  home_team_id  away_team_id           game_date  home_score  \\\n",
       "124         4           746          2652 2022-10-16 15:00:00         4.0   \n",
       "46          6           746           966 2022-10-30 16:00:00         2.0   \n",
       "108         9           746           965 2022-12-04 16:00:00         3.0   \n",
       "21         12           746          2647 2023-01-21 13:30:00         1.0   \n",
       "129         1           746           968 2023-02-11 14:30:00         2.0   \n",
       "13         14           746           749 2023-03-05 16:00:00         3.0   \n",
       "\n",
       "     away_score  \n",
       "124         0.0  \n",
       "46          1.0  \n",
       "108         1.0  \n",
       "21          1.0  \n",
       "129         1.0  \n",
       "13          1.0  "
      ]
     },
     "execution_count": 3,
     "metadata": {},
     "output_type": "execute_result"
    }
   ],
   "source": [
    "SBL = StatsBombLoader(getter=\"local\", root=\"Data/StatsBomb-City-VAEP/Data/\")\n",
    "df_games = SBL.games(competition_id=37, season_id=235)\n",
    "\n",
    "# Using the games of Manchester City\n",
    "df_games_city = df_games[(df_games[\"home_team_id\"] == 746) & (~df_games[\"home_score\"].isna())]\n",
    "\n",
    "# Manchester United game is not in the data and is dropped\n",
    "df_games_city = df_games_city.drop(df_games_city[df_games_city[\"away_team_id\"] == 1475].index)\n",
    "\n",
    "df_games_city[[\"game_day\", \"home_team_id\", \"away_team_id\", \"game_date\", \"home_score\", \"away_score\"]].sort_values(by=\"game_date\")"
   ]
  },
  {
   "cell_type": "code",
   "execution_count": 4,
   "metadata": {},
   "outputs": [
    {
     "name": "stderr",
     "output_type": "stream",
     "text": [
      "Loading game data: 100%|██████████| 6/6 [00:04<00:00,  1.31it/s]\n"
     ]
    }
   ],
   "source": [
    "# Load and convert match data\n",
    "games_verbose = tqdm.tqdm(list(df_games_city.itertuples()), desc=\"Loading game data\")\n",
    "teams, players = [], []\n",
    "actions = {}\n",
    "atomic_actions = {}\n",
    "for game in games_verbose:\n",
    "    # load data\n",
    "    teams.append(SBL.teams(game.game_id))\n",
    "    players.append(SBL.players(game.game_id))\n",
    "    events = SBL.events(game.game_id)\n",
    "    \n",
    "    # convert data\n",
    "    actions = spadl.statsbomb.convert_to_actions(events, game.home_team_id)\n",
    "    atomic_actions[game.game_id] = atomicspadl.convert_to_atomic(actions)\n",
    "\n",
    "teams = pd.concat(teams).drop_duplicates(subset=\"team_id\")\n",
    "players = pd.concat(players)"
   ]
  },
  {
   "cell_type": "code",
   "execution_count": 5,
   "metadata": {},
   "outputs": [],
   "source": [
    "# Store converted SPADL Data in a h5-file\n",
    "datafolder = \"Data/data-spadl\""
   ]
  },
  {
   "attachments": {},
   "cell_type": "markdown",
   "metadata": {},
   "source": [
    "Transforming the data exactly what we did in the previous notebook for coding quicker"
   ]
  },
  {
   "cell_type": "code",
   "execution_count": 6,
   "metadata": {},
   "outputs": [],
   "source": [
    "# Create data folder if it doesn't exist\n",
    "if not os.path.exists(datafolder):\n",
    "    os.mkdir(datafolder)\n",
    "    print(f\"Directory {datafolder} created.\")\n",
    "\n",
    "spadl_h5 = os.path.join(datafolder, \"atomic-spadl-statsbomb.h5\")\n",
    "\n",
    "# Store all spadl data in h5-file\n",
    "with pd.HDFStore(spadl_h5) as spadlstore:\n",
    "    spadlstore[\"games\"] = df_games_city\n",
    "    spadlstore[\"teams\"] = teams\n",
    "    spadlstore[\"players\"] = players[['player_id', 'player_name', 'nickname']].drop_duplicates(subset='player_id')\n",
    "    spadlstore[\"player_games\"] = players[['player_id', 'game_id', 'team_id', 'is_starter', 'starting_position_id', 'starting_position_name', 'minutes_played']]\n",
    "    for game_id in atomic_actions.keys():\n",
    "        spadlstore[f\"atomic_actions/game_{game_id}\"] = atomic_actions[game_id]\n",
    "\n",
    "## Read the data and put it in the right format\n",
    "with pd.HDFStore(spadl_h5) as spadlstore:\n",
    "    games = (\n",
    "        spadlstore[\"games\"]\n",
    "        .merge(spadlstore[\"teams\"].add_prefix('home_'), how='left')\n",
    "        .merge(spadlstore[\"teams\"].add_prefix('away_'), how='left'))"
   ]
  },
  {
   "cell_type": "code",
   "execution_count": 7,
   "metadata": {},
   "outputs": [
    {
     "data": {
      "text/html": [
       "<div>\n",
       "<style scoped>\n",
       "    .dataframe tbody tr th:only-of-type {\n",
       "        vertical-align: middle;\n",
       "    }\n",
       "\n",
       "    .dataframe tbody tr th {\n",
       "        vertical-align: top;\n",
       "    }\n",
       "\n",
       "    .dataframe thead th {\n",
       "        text-align: right;\n",
       "    }\n",
       "</style>\n",
       "<table border=\"1\" class=\"dataframe\">\n",
       "  <thead>\n",
       "    <tr style=\"text-align: right;\">\n",
       "      <th></th>\n",
       "      <th>game_id</th>\n",
       "      <th>original_event_id</th>\n",
       "      <th>action_id</th>\n",
       "      <th>period_id</th>\n",
       "      <th>time_seconds</th>\n",
       "      <th>team_id</th>\n",
       "      <th>player_id</th>\n",
       "      <th>x</th>\n",
       "      <th>y</th>\n",
       "      <th>dx</th>\n",
       "      <th>dy</th>\n",
       "      <th>type_id</th>\n",
       "      <th>bodypart_id</th>\n",
       "      <th>type_name</th>\n",
       "      <th>bodypart_name</th>\n",
       "      <th>player_name</th>\n",
       "      <th>team_name</th>\n",
       "    </tr>\n",
       "  </thead>\n",
       "  <tbody>\n",
       "    <tr>\n",
       "      <th>653</th>\n",
       "      <td>3852832</td>\n",
       "      <td>fe504655-499e-43c2-a081-2657acfa125a</td>\n",
       "      <td>653</td>\n",
       "      <td>1</td>\n",
       "      <td>970.0</td>\n",
       "      <td>746</td>\n",
       "      <td>25554.0</td>\n",
       "      <td>35.117647</td>\n",
       "      <td>22.982278</td>\n",
       "      <td>-4.500000</td>\n",
       "      <td>4.992405</td>\n",
       "      <td>0</td>\n",
       "      <td>5</td>\n",
       "      <td>pass</td>\n",
       "      <td>foot_right</td>\n",
       "      <td>Khadija Monifa Shaw</td>\n",
       "      <td>Manchester City WFC</td>\n",
       "    </tr>\n",
       "    <tr>\n",
       "      <th>659</th>\n",
       "      <td>3852832</td>\n",
       "      <td>5820c1cc-7faa-4d1c-8e5e-aede657862cb</td>\n",
       "      <td>659</td>\n",
       "      <td>1</td>\n",
       "      <td>974.0</td>\n",
       "      <td>746</td>\n",
       "      <td>32210.0</td>\n",
       "      <td>32.382353</td>\n",
       "      <td>40.713924</td>\n",
       "      <td>-5.647059</td>\n",
       "      <td>0.516456</td>\n",
       "      <td>0</td>\n",
       "      <td>5</td>\n",
       "      <td>pass</td>\n",
       "      <td>foot_right</td>\n",
       "      <td>Laia Aleixandri</td>\n",
       "      <td>Manchester City WFC</td>\n",
       "    </tr>\n",
       "    <tr>\n",
       "      <th>2280</th>\n",
       "      <td>3852832</td>\n",
       "      <td>672fb667-c72b-4ef7-9413-0c9543b2c82e</td>\n",
       "      <td>2280</td>\n",
       "      <td>2</td>\n",
       "      <td>1255.5</td>\n",
       "      <td>968</td>\n",
       "      <td>10404.0</td>\n",
       "      <td>99.441176</td>\n",
       "      <td>35.635443</td>\n",
       "      <td>0.000000</td>\n",
       "      <td>0.000000</td>\n",
       "      <td>10</td>\n",
       "      <td>0</td>\n",
       "      <td>interception</td>\n",
       "      <td>foot</td>\n",
       "      <td>Noelle Maritz</td>\n",
       "      <td>Arsenal WFC</td>\n",
       "    </tr>\n",
       "  </tbody>\n",
       "</table>\n",
       "</div>"
      ],
      "text/plain": [
       "      game_id                     original_event_id  action_id  period_id  \\\n",
       "653   3852832  fe504655-499e-43c2-a081-2657acfa125a        653          1   \n",
       "659   3852832  5820c1cc-7faa-4d1c-8e5e-aede657862cb        659          1   \n",
       "2280  3852832  672fb667-c72b-4ef7-9413-0c9543b2c82e       2280          2   \n",
       "\n",
       "      time_seconds  team_id  player_id          x          y        dx  \\\n",
       "653          970.0      746    25554.0  35.117647  22.982278 -4.500000   \n",
       "659          974.0      746    32210.0  32.382353  40.713924 -5.647059   \n",
       "2280        1255.5      968    10404.0  99.441176  35.635443  0.000000   \n",
       "\n",
       "            dy  type_id  bodypart_id     type_name bodypart_name  \\\n",
       "653   4.992405        0            5          pass    foot_right   \n",
       "659   0.516456        0            5          pass    foot_right   \n",
       "2280  0.000000       10            0  interception          foot   \n",
       "\n",
       "              player_name            team_name  \n",
       "653   Khadija Monifa Shaw  Manchester City WFC  \n",
       "659       Laia Aleixandri  Manchester City WFC  \n",
       "2280        Noelle Maritz          Arsenal WFC  "
      ]
     },
     "execution_count": 7,
     "metadata": {},
     "output_type": "execute_result"
    }
   ],
   "source": [
    "# Choosing the Arsenal game \n",
    "with pd.HDFStore(spadl_h5) as spadlstore:\n",
    "    atomic_actions_mancity_arsenal = spadlstore[f\"atomic_actions/game_{game_arsenal_id}\"]\n",
    "    atomic_actions_mancity_arsenal = (\n",
    "        atomic_actions_mancity_arsenal\n",
    "        .merge(atomicspadl.actiontypes_df(), how=\"left\")\n",
    "        .merge(spadl.bodyparts_df(), how=\"left\")\n",
    "        .merge(spadlstore[\"players\"], how=\"left\")\n",
    "        .merge(spadlstore[\"teams\"], how=\"left\")\n",
    "    )\n",
    "\n",
    "# use nickname if available else use full name\n",
    "atomic_actions_mancity_arsenal[\"player_name\"] = atomic_actions_mancity_arsenal[[\"nickname\", \"player_name\"]].apply(lambda x: x[0] if x[0] else x[1],axis=1)\n",
    "del atomic_actions_mancity_arsenal['nickname']\n",
    "\n",
    "atomic_actions_mancity_arsenal.sample(3)\n"
   ]
  },
  {
   "attachments": {},
   "cell_type": "markdown",
   "metadata": {},
   "source": [
    "## Features & labels <a id=\"features\"></a>"
   ]
  },
  {
   "cell_type": "code",
   "execution_count": 8,
   "metadata": {},
   "outputs": [],
   "source": [
    "# Configure file and folder names\n",
    "spadl_h5 = os.path.join(datafolder, \"atomic-spadl-statsbomb.h5\")\n",
    "features_h5 = os.path.join(datafolder, \"atomic-features.h5\")\n",
    "labels_h5 = os.path.join(datafolder, \"atomic-labels.h5\")\n",
    "predictions_h5 = os.path.join(datafolder, \"atomic-predictions.h5\")"
   ]
  },
  {
   "cell_type": "code",
   "execution_count": 9,
   "metadata": {},
   "outputs": [
    {
     "name": "stderr",
     "output_type": "stream",
     "text": [
      "Generating and storing features in 'Data/data-spadl/atomic-features.h5': 100%|██████████| 6/6 [00:00<00:00,  8.88it/s]\n"
     ]
    },
    {
     "data": {
      "text/html": [
       "<div>\n",
       "<style scoped>\n",
       "    .dataframe tbody tr th:only-of-type {\n",
       "        vertical-align: middle;\n",
       "    }\n",
       "\n",
       "    .dataframe tbody tr th {\n",
       "        vertical-align: top;\n",
       "    }\n",
       "\n",
       "    .dataframe thead th {\n",
       "        text-align: right;\n",
       "    }\n",
       "</style>\n",
       "<table border=\"1\" class=\"dataframe\">\n",
       "  <thead>\n",
       "    <tr style=\"text-align: right;\">\n",
       "      <th></th>\n",
       "      <th>type_id_a0</th>\n",
       "      <th>type_id_a1</th>\n",
       "      <th>type_id_a2</th>\n",
       "      <th>type_pass_a0</th>\n",
       "      <th>type_cross_a0</th>\n",
       "      <th>type_throw_in_a0</th>\n",
       "      <th>type_freekick_crossed_a0</th>\n",
       "      <th>type_freekick_short_a0</th>\n",
       "      <th>type_corner_crossed_a0</th>\n",
       "      <th>type_corner_short_a0</th>\n",
       "      <th>type_take_on_a0</th>\n",
       "      <th>type_foul_a0</th>\n",
       "      <th>type_tackle_a0</th>\n",
       "      <th>type_interception_a0</th>\n",
       "      <th>type_shot_a0</th>\n",
       "      <th>type_shot_penalty_a0</th>\n",
       "      <th>type_shot_freekick_a0</th>\n",
       "      <th>type_keeper_save_a0</th>\n",
       "      <th>type_keeper_claim_a0</th>\n",
       "      <th>type_keeper_punch_a0</th>\n",
       "      <th>type_keeper_pick_up_a0</th>\n",
       "      <th>type_clearance_a0</th>\n",
       "      <th>type_bad_touch_a0</th>\n",
       "      <th>type_non_action_a0</th>\n",
       "      <th>type_dribble_a0</th>\n",
       "      <th>type_goalkick_a0</th>\n",
       "      <th>type_receival_a0</th>\n",
       "      <th>type_out_a0</th>\n",
       "      <th>type_offside_a0</th>\n",
       "      <th>type_goal_a0</th>\n",
       "      <th>type_owngoal_a0</th>\n",
       "      <th>type_yellow_card_a0</th>\n",
       "      <th>type_red_card_a0</th>\n",
       "      <th>type_corner_a0</th>\n",
       "      <th>type_freekick_a0</th>\n",
       "      <th>type_pass_a1</th>\n",
       "      <th>type_cross_a1</th>\n",
       "      <th>type_throw_in_a1</th>\n",
       "      <th>type_freekick_crossed_a1</th>\n",
       "      <th>type_freekick_short_a1</th>\n",
       "      <th>type_corner_crossed_a1</th>\n",
       "      <th>type_corner_short_a1</th>\n",
       "      <th>type_take_on_a1</th>\n",
       "      <th>type_foul_a1</th>\n",
       "      <th>type_tackle_a1</th>\n",
       "      <th>type_interception_a1</th>\n",
       "      <th>type_shot_a1</th>\n",
       "      <th>type_shot_penalty_a1</th>\n",
       "      <th>type_shot_freekick_a1</th>\n",
       "      <th>type_keeper_save_a1</th>\n",
       "      <th>type_keeper_claim_a1</th>\n",
       "      <th>type_keeper_punch_a1</th>\n",
       "      <th>type_keeper_pick_up_a1</th>\n",
       "      <th>type_clearance_a1</th>\n",
       "      <th>type_bad_touch_a1</th>\n",
       "      <th>type_non_action_a1</th>\n",
       "      <th>type_dribble_a1</th>\n",
       "      <th>type_goalkick_a1</th>\n",
       "      <th>type_receival_a1</th>\n",
       "      <th>type_out_a1</th>\n",
       "      <th>type_offside_a1</th>\n",
       "      <th>type_goal_a1</th>\n",
       "      <th>type_owngoal_a1</th>\n",
       "      <th>type_yellow_card_a1</th>\n",
       "      <th>type_red_card_a1</th>\n",
       "      <th>type_corner_a1</th>\n",
       "      <th>type_freekick_a1</th>\n",
       "      <th>type_pass_a2</th>\n",
       "      <th>type_cross_a2</th>\n",
       "      <th>type_throw_in_a2</th>\n",
       "      <th>type_freekick_crossed_a2</th>\n",
       "      <th>type_freekick_short_a2</th>\n",
       "      <th>type_corner_crossed_a2</th>\n",
       "      <th>type_corner_short_a2</th>\n",
       "      <th>type_take_on_a2</th>\n",
       "      <th>type_foul_a2</th>\n",
       "      <th>type_tackle_a2</th>\n",
       "      <th>type_interception_a2</th>\n",
       "      <th>type_shot_a2</th>\n",
       "      <th>type_shot_penalty_a2</th>\n",
       "      <th>type_shot_freekick_a2</th>\n",
       "      <th>type_keeper_save_a2</th>\n",
       "      <th>type_keeper_claim_a2</th>\n",
       "      <th>type_keeper_punch_a2</th>\n",
       "      <th>type_keeper_pick_up_a2</th>\n",
       "      <th>type_clearance_a2</th>\n",
       "      <th>type_bad_touch_a2</th>\n",
       "      <th>type_non_action_a2</th>\n",
       "      <th>type_dribble_a2</th>\n",
       "      <th>type_goalkick_a2</th>\n",
       "      <th>type_receival_a2</th>\n",
       "      <th>type_out_a2</th>\n",
       "      <th>type_offside_a2</th>\n",
       "      <th>type_goal_a2</th>\n",
       "      <th>type_owngoal_a2</th>\n",
       "      <th>type_yellow_card_a2</th>\n",
       "      <th>type_red_card_a2</th>\n",
       "      <th>type_corner_a2</th>\n",
       "      <th>type_freekick_a2</th>\n",
       "      <th>bodypart_id_a0</th>\n",
       "      <th>bodypart_id_a1</th>\n",
       "      <th>bodypart_id_a2</th>\n",
       "      <th>bodypart_foot_a0</th>\n",
       "      <th>bodypart_head_a0</th>\n",
       "      <th>bodypart_other_a0</th>\n",
       "      <th>bodypart_head/other_a0</th>\n",
       "      <th>bodypart_foot_a1</th>\n",
       "      <th>bodypart_head_a1</th>\n",
       "      <th>bodypart_other_a1</th>\n",
       "      <th>bodypart_head/other_a1</th>\n",
       "      <th>bodypart_foot_a2</th>\n",
       "      <th>bodypart_head_a2</th>\n",
       "      <th>bodypart_other_a2</th>\n",
       "      <th>bodypart_head/other_a2</th>\n",
       "      <th>goalscore_team</th>\n",
       "      <th>goalscore_opponent</th>\n",
       "      <th>goalscore_diff</th>\n",
       "      <th>x_a0</th>\n",
       "      <th>y_a0</th>\n",
       "      <th>x_a1</th>\n",
       "      <th>y_a1</th>\n",
       "      <th>x_a2</th>\n",
       "      <th>y_a2</th>\n",
       "      <th>dist_to_goal_a0</th>\n",
       "      <th>angle_to_goal_a0</th>\n",
       "      <th>dist_to_goal_a1</th>\n",
       "      <th>angle_to_goal_a1</th>\n",
       "      <th>dist_to_goal_a2</th>\n",
       "      <th>angle_to_goal_a2</th>\n",
       "      <th>mov_d_a0</th>\n",
       "      <th>mov_angle_a0</th>\n",
       "      <th>mov_d_a1</th>\n",
       "      <th>mov_angle_a1</th>\n",
       "      <th>mov_d_a2</th>\n",
       "      <th>mov_angle_a2</th>\n",
       "      <th>dx_a0</th>\n",
       "      <th>dy_a0</th>\n",
       "      <th>dx_a1</th>\n",
       "      <th>dy_a1</th>\n",
       "      <th>dx_a2</th>\n",
       "      <th>dy_a2</th>\n",
       "      <th>team_1</th>\n",
       "      <th>team_2</th>\n",
       "      <th>period_id_a0</th>\n",
       "      <th>time_seconds_a0</th>\n",
       "      <th>time_seconds_overall_a0</th>\n",
       "      <th>period_id_a1</th>\n",
       "      <th>time_seconds_a1</th>\n",
       "      <th>time_seconds_overall_a1</th>\n",
       "      <th>period_id_a2</th>\n",
       "      <th>time_seconds_a2</th>\n",
       "      <th>time_seconds_overall_a2</th>\n",
       "      <th>time_delta_1</th>\n",
       "      <th>time_delta_2</th>\n",
       "    </tr>\n",
       "  </thead>\n",
       "  <tbody>\n",
       "    <tr>\n",
       "      <th>604</th>\n",
       "      <td>10</td>\n",
       "      <td>18</td>\n",
       "      <td>19</td>\n",
       "      <td>False</td>\n",
       "      <td>False</td>\n",
       "      <td>False</td>\n",
       "      <td>False</td>\n",
       "      <td>False</td>\n",
       "      <td>False</td>\n",
       "      <td>False</td>\n",
       "      <td>False</td>\n",
       "      <td>False</td>\n",
       "      <td>False</td>\n",
       "      <td>False</td>\n",
       "      <td>False</td>\n",
       "      <td>False</td>\n",
       "      <td>False</td>\n",
       "      <td>False</td>\n",
       "      <td>False</td>\n",
       "      <td>False</td>\n",
       "      <td>False</td>\n",
       "      <td>False</td>\n",
       "      <td>False</td>\n",
       "      <td>False</td>\n",
       "      <td>False</td>\n",
       "      <td>False</td>\n",
       "      <td>False</td>\n",
       "      <td>False</td>\n",
       "      <td>False</td>\n",
       "      <td>False</td>\n",
       "      <td>False</td>\n",
       "      <td>False</td>\n",
       "      <td>False</td>\n",
       "      <td>False</td>\n",
       "      <td>False</td>\n",
       "      <td>False</td>\n",
       "      <td>False</td>\n",
       "      <td>False</td>\n",
       "      <td>False</td>\n",
       "      <td>False</td>\n",
       "      <td>False</td>\n",
       "      <td>False</td>\n",
       "      <td>False</td>\n",
       "      <td>False</td>\n",
       "      <td>False</td>\n",
       "      <td>False</td>\n",
       "      <td>False</td>\n",
       "      <td>False</td>\n",
       "      <td>False</td>\n",
       "      <td>False</td>\n",
       "      <td>False</td>\n",
       "      <td>False</td>\n",
       "      <td>False</td>\n",
       "      <td>True</td>\n",
       "      <td>False</td>\n",
       "      <td>False</td>\n",
       "      <td>False</td>\n",
       "      <td>False</td>\n",
       "      <td>False</td>\n",
       "      <td>False</td>\n",
       "      <td>False</td>\n",
       "      <td>False</td>\n",
       "      <td>False</td>\n",
       "      <td>False</td>\n",
       "      <td>False</td>\n",
       "      <td>False</td>\n",
       "      <td>False</td>\n",
       "      <td>False</td>\n",
       "      <td>False</td>\n",
       "      <td>False</td>\n",
       "      <td>False</td>\n",
       "      <td>False</td>\n",
       "      <td>False</td>\n",
       "      <td>False</td>\n",
       "      <td>False</td>\n",
       "      <td>False</td>\n",
       "      <td>False</td>\n",
       "      <td>False</td>\n",
       "      <td>False</td>\n",
       "      <td>False</td>\n",
       "      <td>False</td>\n",
       "      <td>False</td>\n",
       "      <td>False</td>\n",
       "      <td>False</td>\n",
       "      <td>False</td>\n",
       "      <td>False</td>\n",
       "      <td>True</td>\n",
       "      <td>False</td>\n",
       "      <td>False</td>\n",
       "      <td>False</td>\n",
       "      <td>False</td>\n",
       "      <td>False</td>\n",
       "      <td>False</td>\n",
       "      <td>False</td>\n",
       "      <td>False</td>\n",
       "      <td>False</td>\n",
       "      <td>False</td>\n",
       "      <td>False</td>\n",
       "      <td>False</td>\n",
       "      <td>0</td>\n",
       "      <td>0</td>\n",
       "      <td>0</td>\n",
       "      <td>True</td>\n",
       "      <td>False</td>\n",
       "      <td>False</td>\n",
       "      <td>False</td>\n",
       "      <td>True</td>\n",
       "      <td>False</td>\n",
       "      <td>False</td>\n",
       "      <td>False</td>\n",
       "      <td>True</td>\n",
       "      <td>False</td>\n",
       "      <td>False</td>\n",
       "      <td>False</td>\n",
       "      <td>0</td>\n",
       "      <td>1</td>\n",
       "      <td>-1</td>\n",
       "      <td>71.823529</td>\n",
       "      <td>30.643038</td>\n",
       "      <td>91.500000</td>\n",
       "      <td>37.615190</td>\n",
       "      <td>88.058824</td>\n",
       "      <td>30.987342</td>\n",
       "      <td>33.345875</td>\n",
       "      <td>0.100842</td>\n",
       "      <td>13.975679</td>\n",
       "      <td>0.261653</td>\n",
       "      <td>17.206963</td>\n",
       "      <td>0.175991</td>\n",
       "      <td>0.000000</td>\n",
       "      <td>0.000000</td>\n",
       "      <td>20.87521</td>\n",
       "      <td>-2.801057</td>\n",
       "      <td>0.000000</td>\n",
       "      <td>0.000000</td>\n",
       "      <td>-0.000000</td>\n",
       "      <td>-0.000000</td>\n",
       "      <td>-0.942576</td>\n",
       "      <td>-0.333992</td>\n",
       "      <td>-0.000000</td>\n",
       "      <td>-0.000000</td>\n",
       "      <td>False</td>\n",
       "      <td>True</td>\n",
       "      <td>1</td>\n",
       "      <td>901.0</td>\n",
       "      <td>901.0</td>\n",
       "      <td>1</td>\n",
       "      <td>900.0</td>\n",
       "      <td>900.0</td>\n",
       "      <td>1</td>\n",
       "      <td>899.0</td>\n",
       "      <td>899.0</td>\n",
       "      <td>1.0</td>\n",
       "      <td>2.0</td>\n",
       "    </tr>\n",
       "    <tr>\n",
       "      <th>1382</th>\n",
       "      <td>21</td>\n",
       "      <td>23</td>\n",
       "      <td>0</td>\n",
       "      <td>False</td>\n",
       "      <td>False</td>\n",
       "      <td>False</td>\n",
       "      <td>False</td>\n",
       "      <td>False</td>\n",
       "      <td>False</td>\n",
       "      <td>False</td>\n",
       "      <td>False</td>\n",
       "      <td>False</td>\n",
       "      <td>False</td>\n",
       "      <td>False</td>\n",
       "      <td>False</td>\n",
       "      <td>False</td>\n",
       "      <td>False</td>\n",
       "      <td>False</td>\n",
       "      <td>False</td>\n",
       "      <td>False</td>\n",
       "      <td>False</td>\n",
       "      <td>False</td>\n",
       "      <td>False</td>\n",
       "      <td>False</td>\n",
       "      <td>True</td>\n",
       "      <td>False</td>\n",
       "      <td>False</td>\n",
       "      <td>False</td>\n",
       "      <td>False</td>\n",
       "      <td>False</td>\n",
       "      <td>False</td>\n",
       "      <td>False</td>\n",
       "      <td>False</td>\n",
       "      <td>False</td>\n",
       "      <td>False</td>\n",
       "      <td>False</td>\n",
       "      <td>False</td>\n",
       "      <td>False</td>\n",
       "      <td>False</td>\n",
       "      <td>False</td>\n",
       "      <td>False</td>\n",
       "      <td>False</td>\n",
       "      <td>False</td>\n",
       "      <td>False</td>\n",
       "      <td>False</td>\n",
       "      <td>False</td>\n",
       "      <td>False</td>\n",
       "      <td>False</td>\n",
       "      <td>False</td>\n",
       "      <td>False</td>\n",
       "      <td>False</td>\n",
       "      <td>False</td>\n",
       "      <td>False</td>\n",
       "      <td>False</td>\n",
       "      <td>False</td>\n",
       "      <td>False</td>\n",
       "      <td>False</td>\n",
       "      <td>False</td>\n",
       "      <td>True</td>\n",
       "      <td>False</td>\n",
       "      <td>False</td>\n",
       "      <td>False</td>\n",
       "      <td>False</td>\n",
       "      <td>False</td>\n",
       "      <td>False</td>\n",
       "      <td>False</td>\n",
       "      <td>False</td>\n",
       "      <td>True</td>\n",
       "      <td>False</td>\n",
       "      <td>False</td>\n",
       "      <td>False</td>\n",
       "      <td>False</td>\n",
       "      <td>False</td>\n",
       "      <td>False</td>\n",
       "      <td>False</td>\n",
       "      <td>False</td>\n",
       "      <td>False</td>\n",
       "      <td>False</td>\n",
       "      <td>False</td>\n",
       "      <td>False</td>\n",
       "      <td>False</td>\n",
       "      <td>False</td>\n",
       "      <td>False</td>\n",
       "      <td>False</td>\n",
       "      <td>False</td>\n",
       "      <td>False</td>\n",
       "      <td>False</td>\n",
       "      <td>False</td>\n",
       "      <td>False</td>\n",
       "      <td>False</td>\n",
       "      <td>False</td>\n",
       "      <td>False</td>\n",
       "      <td>False</td>\n",
       "      <td>False</td>\n",
       "      <td>False</td>\n",
       "      <td>False</td>\n",
       "      <td>False</td>\n",
       "      <td>False</td>\n",
       "      <td>False</td>\n",
       "      <td>0</td>\n",
       "      <td>0</td>\n",
       "      <td>0</td>\n",
       "      <td>True</td>\n",
       "      <td>False</td>\n",
       "      <td>False</td>\n",
       "      <td>False</td>\n",
       "      <td>True</td>\n",
       "      <td>False</td>\n",
       "      <td>False</td>\n",
       "      <td>False</td>\n",
       "      <td>True</td>\n",
       "      <td>False</td>\n",
       "      <td>False</td>\n",
       "      <td>False</td>\n",
       "      <td>1</td>\n",
       "      <td>0</td>\n",
       "      <td>1</td>\n",
       "      <td>23.558824</td>\n",
       "      <td>11.103797</td>\n",
       "      <td>23.558824</td>\n",
       "      <td>11.103797</td>\n",
       "      <td>15.441176</td>\n",
       "      <td>7.230380</td>\n",
       "      <td>84.598471</td>\n",
       "      <td>0.274064</td>\n",
       "      <td>84.598471</td>\n",
       "      <td>0.274064</td>\n",
       "      <td>93.474036</td>\n",
       "      <td>0.290452</td>\n",
       "      <td>13.721861</td>\n",
       "      <td>0.419976</td>\n",
       "      <td>0.00000</td>\n",
       "      <td>0.000000</td>\n",
       "      <td>8.994418</td>\n",
       "      <td>0.445209</td>\n",
       "      <td>0.913099</td>\n",
       "      <td>0.407739</td>\n",
       "      <td>0.000000</td>\n",
       "      <td>0.000000</td>\n",
       "      <td>0.902521</td>\n",
       "      <td>0.430647</td>\n",
       "      <td>True</td>\n",
       "      <td>True</td>\n",
       "      <td>1</td>\n",
       "      <td>2535.0</td>\n",
       "      <td>2535.0</td>\n",
       "      <td>1</td>\n",
       "      <td>2534.5</td>\n",
       "      <td>2534.5</td>\n",
       "      <td>1</td>\n",
       "      <td>2534.0</td>\n",
       "      <td>2534.0</td>\n",
       "      <td>0.5</td>\n",
       "      <td>1.0</td>\n",
       "    </tr>\n",
       "  </tbody>\n",
       "</table>\n",
       "</div>"
      ],
      "text/plain": [
       "      type_id_a0  type_id_a1  type_id_a2  type_pass_a0  type_cross_a0  \\\n",
       "604           10          18          19         False          False   \n",
       "1382          21          23           0         False          False   \n",
       "\n",
       "      type_throw_in_a0  type_freekick_crossed_a0  type_freekick_short_a0  \\\n",
       "604              False                     False                   False   \n",
       "1382             False                     False                   False   \n",
       "\n",
       "      type_corner_crossed_a0  type_corner_short_a0  type_take_on_a0  \\\n",
       "604                    False                 False            False   \n",
       "1382                   False                 False            False   \n",
       "\n",
       "      type_foul_a0  type_tackle_a0  type_interception_a0  type_shot_a0  \\\n",
       "604          False           False                 False         False   \n",
       "1382         False           False                 False         False   \n",
       "\n",
       "      type_shot_penalty_a0  type_shot_freekick_a0  type_keeper_save_a0  \\\n",
       "604                  False                  False                False   \n",
       "1382                 False                  False                False   \n",
       "\n",
       "      type_keeper_claim_a0  type_keeper_punch_a0  type_keeper_pick_up_a0  \\\n",
       "604                  False                 False                   False   \n",
       "1382                 False                 False                   False   \n",
       "\n",
       "      type_clearance_a0  type_bad_touch_a0  type_non_action_a0  \\\n",
       "604               False              False               False   \n",
       "1382              False              False               False   \n",
       "\n",
       "      type_dribble_a0  type_goalkick_a0  type_receival_a0  type_out_a0  \\\n",
       "604             False             False             False        False   \n",
       "1382             True             False             False        False   \n",
       "\n",
       "      type_offside_a0  type_goal_a0  type_owngoal_a0  type_yellow_card_a0  \\\n",
       "604             False         False            False                False   \n",
       "1382            False         False            False                False   \n",
       "\n",
       "      type_red_card_a0  type_corner_a0  type_freekick_a0  type_pass_a1  \\\n",
       "604              False           False             False         False   \n",
       "1382             False           False             False         False   \n",
       "\n",
       "      type_cross_a1  type_throw_in_a1  type_freekick_crossed_a1  \\\n",
       "604           False             False                     False   \n",
       "1382          False             False                     False   \n",
       "\n",
       "      type_freekick_short_a1  type_corner_crossed_a1  type_corner_short_a1  \\\n",
       "604                    False                   False                 False   \n",
       "1382                   False                   False                 False   \n",
       "\n",
       "      type_take_on_a1  type_foul_a1  type_tackle_a1  type_interception_a1  \\\n",
       "604             False         False           False                 False   \n",
       "1382            False         False           False                 False   \n",
       "\n",
       "      type_shot_a1  type_shot_penalty_a1  type_shot_freekick_a1  \\\n",
       "604          False                 False                  False   \n",
       "1382         False                 False                  False   \n",
       "\n",
       "      type_keeper_save_a1  type_keeper_claim_a1  type_keeper_punch_a1  \\\n",
       "604                 False                 False                 False   \n",
       "1382                False                 False                 False   \n",
       "\n",
       "      type_keeper_pick_up_a1  type_clearance_a1  type_bad_touch_a1  \\\n",
       "604                    False               True              False   \n",
       "1382                   False              False              False   \n",
       "\n",
       "      type_non_action_a1  type_dribble_a1  type_goalkick_a1  type_receival_a1  \\\n",
       "604                False            False             False             False   \n",
       "1382               False            False             False              True   \n",
       "\n",
       "      type_out_a1  type_offside_a1  type_goal_a1  type_owngoal_a1  \\\n",
       "604         False            False         False            False   \n",
       "1382        False            False         False            False   \n",
       "\n",
       "      type_yellow_card_a1  type_red_card_a1  type_corner_a1  type_freekick_a1  \\\n",
       "604                 False             False           False             False   \n",
       "1382                False             False           False             False   \n",
       "\n",
       "      type_pass_a2  type_cross_a2  type_throw_in_a2  type_freekick_crossed_a2  \\\n",
       "604          False          False             False                     False   \n",
       "1382          True          False             False                     False   \n",
       "\n",
       "      type_freekick_short_a2  type_corner_crossed_a2  type_corner_short_a2  \\\n",
       "604                    False                   False                 False   \n",
       "1382                   False                   False                 False   \n",
       "\n",
       "      type_take_on_a2  type_foul_a2  type_tackle_a2  type_interception_a2  \\\n",
       "604             False         False           False                 False   \n",
       "1382            False         False           False                 False   \n",
       "\n",
       "      type_shot_a2  type_shot_penalty_a2  type_shot_freekick_a2  \\\n",
       "604          False                 False                  False   \n",
       "1382         False                 False                  False   \n",
       "\n",
       "      type_keeper_save_a2  type_keeper_claim_a2  type_keeper_punch_a2  \\\n",
       "604                 False                 False                 False   \n",
       "1382                False                 False                 False   \n",
       "\n",
       "      type_keeper_pick_up_a2  type_clearance_a2  type_bad_touch_a2  \\\n",
       "604                    False              False               True   \n",
       "1382                   False              False              False   \n",
       "\n",
       "      type_non_action_a2  type_dribble_a2  type_goalkick_a2  type_receival_a2  \\\n",
       "604                False            False             False             False   \n",
       "1382               False            False             False             False   \n",
       "\n",
       "      type_out_a2  type_offside_a2  type_goal_a2  type_owngoal_a2  \\\n",
       "604         False            False         False            False   \n",
       "1382        False            False         False            False   \n",
       "\n",
       "      type_yellow_card_a2  type_red_card_a2  type_corner_a2  type_freekick_a2  \\\n",
       "604                 False             False           False             False   \n",
       "1382                False             False           False             False   \n",
       "\n",
       "      bodypart_id_a0  bodypart_id_a1  bodypart_id_a2  bodypart_foot_a0  \\\n",
       "604                0               0               0              True   \n",
       "1382               0               0               0              True   \n",
       "\n",
       "      bodypart_head_a0  bodypart_other_a0  bodypart_head/other_a0  \\\n",
       "604              False              False                   False   \n",
       "1382             False              False                   False   \n",
       "\n",
       "      bodypart_foot_a1  bodypart_head_a1  bodypart_other_a1  \\\n",
       "604               True             False              False   \n",
       "1382              True             False              False   \n",
       "\n",
       "      bodypart_head/other_a1  bodypart_foot_a2  bodypart_head_a2  \\\n",
       "604                    False              True             False   \n",
       "1382                   False              True             False   \n",
       "\n",
       "      bodypart_other_a2  bodypart_head/other_a2  goalscore_team  \\\n",
       "604               False                   False               0   \n",
       "1382              False                   False               1   \n",
       "\n",
       "      goalscore_opponent  goalscore_diff       x_a0       y_a0       x_a1  \\\n",
       "604                    1              -1  71.823529  30.643038  91.500000   \n",
       "1382                   0               1  23.558824  11.103797  23.558824   \n",
       "\n",
       "           y_a1       x_a2       y_a2  dist_to_goal_a0  angle_to_goal_a0  \\\n",
       "604   37.615190  88.058824  30.987342        33.345875          0.100842   \n",
       "1382  11.103797  15.441176   7.230380        84.598471          0.274064   \n",
       "\n",
       "      dist_to_goal_a1  angle_to_goal_a1  dist_to_goal_a2  angle_to_goal_a2  \\\n",
       "604         13.975679          0.261653        17.206963          0.175991   \n",
       "1382        84.598471          0.274064        93.474036          0.290452   \n",
       "\n",
       "       mov_d_a0  mov_angle_a0  mov_d_a1  mov_angle_a1  mov_d_a2  mov_angle_a2  \\\n",
       "604    0.000000      0.000000  20.87521     -2.801057  0.000000      0.000000   \n",
       "1382  13.721861      0.419976   0.00000      0.000000  8.994418      0.445209   \n",
       "\n",
       "         dx_a0     dy_a0     dx_a1     dy_a1     dx_a2     dy_a2  team_1  \\\n",
       "604  -0.000000 -0.000000 -0.942576 -0.333992 -0.000000 -0.000000   False   \n",
       "1382  0.913099  0.407739  0.000000  0.000000  0.902521  0.430647    True   \n",
       "\n",
       "      team_2  period_id_a0  time_seconds_a0  time_seconds_overall_a0  \\\n",
       "604     True             1            901.0                    901.0   \n",
       "1382    True             1           2535.0                   2535.0   \n",
       "\n",
       "      period_id_a1  time_seconds_a1  time_seconds_overall_a1  period_id_a2  \\\n",
       "604              1            900.0                    900.0             1   \n",
       "1382             1           2534.5                   2534.5             1   \n",
       "\n",
       "      time_seconds_a2  time_seconds_overall_a2  time_delta_1  time_delta_2  \n",
       "604             899.0                    899.0           1.0           2.0  \n",
       "1382           2534.0                   2534.0           0.5           1.0  "
      ]
     },
     "execution_count": 9,
     "metadata": {},
     "output_type": "execute_result"
    }
   ],
   "source": [
    "# Computes features\n",
    "xfns = [\n",
    "    fs.actiontype,\n",
    "    fs.actiontype_onehot,\n",
    "    fs.bodypart,\n",
    "    fs.bodypart_onehot,\n",
    "    fs.goalscore,\n",
    "    fs.location,\n",
    "    fs.polar,\n",
    "    fs.movement_polar,\n",
    "    fs.direction,\n",
    "    fs.team,\n",
    "    fs.time,\n",
    "    fs.time_delta,\n",
    "]\n",
    "\n",
    "with pd.HDFStore(spadl_h5) as spadlstore, pd.HDFStore(features_h5) as featurestore:\n",
    "    for game in tqdm.tqdm(list(df_games_city.itertuples()),desc=f\"Generating and storing features in '{features_h5}'\"):\n",
    "        actions = spadlstore[f\"atomic_actions/game_{game.game_id}\"]\n",
    "\n",
    "        # Convert actions to gamestate\n",
    "        gamestates = fs.gamestates(atomicspadl.add_names(actions), 3) # A voir pourquoi pas 3 ?\n",
    "        gamestates = fs.play_left_to_right(gamestates, game.home_team_id)\n",
    "\n",
    "        X = pd.concat([fn(gamestates) for fn in xfns], axis=1)\n",
    "        featurestore[f\"game_{game.game_id}\"] = X\n",
    "\n",
    "X.sample(2)"
   ]
  },
  {
   "cell_type": "code",
   "execution_count": 10,
   "metadata": {},
   "outputs": [
    {
     "name": "stderr",
     "output_type": "stream",
     "text": [
      "Computing and storing labels in Data/data-spadl/atomic-labels.h5: 100%|██████████| 6/6 [00:00<00:00, 11.60it/s]\n"
     ]
    },
    {
     "data": {
      "text/html": [
       "<div>\n",
       "<style scoped>\n",
       "    .dataframe tbody tr th:only-of-type {\n",
       "        vertical-align: middle;\n",
       "    }\n",
       "\n",
       "    .dataframe tbody tr th {\n",
       "        vertical-align: top;\n",
       "    }\n",
       "\n",
       "    .dataframe thead th {\n",
       "        text-align: right;\n",
       "    }\n",
       "</style>\n",
       "<table border=\"1\" class=\"dataframe\">\n",
       "  <thead>\n",
       "    <tr style=\"text-align: right;\">\n",
       "      <th></th>\n",
       "      <th>scores</th>\n",
       "      <th>concedes</th>\n",
       "    </tr>\n",
       "  </thead>\n",
       "  <tbody>\n",
       "    <tr>\n",
       "      <th>2157</th>\n",
       "      <td>False</td>\n",
       "      <td>False</td>\n",
       "    </tr>\n",
       "    <tr>\n",
       "      <th>367</th>\n",
       "      <td>False</td>\n",
       "      <td>False</td>\n",
       "    </tr>\n",
       "  </tbody>\n",
       "</table>\n",
       "</div>"
      ],
      "text/plain": [
       "      scores  concedes\n",
       "2157   False     False\n",
       "367    False     False"
      ]
     },
     "execution_count": 10,
     "metadata": {},
     "output_type": "execute_result"
    }
   ],
   "source": [
    "# Compute Labels \n",
    "yfns = [lab.scores, lab.concedes]\n",
    "\n",
    "with pd.HDFStore(spadl_h5) as spadlstore, pd.HDFStore(labels_h5) as labelstore:\n",
    "    for game in tqdm.tqdm(list(df_games_city.itertuples()), desc=f\"Computing and storing labels in {labels_h5}\"):\n",
    "        actions = spadlstore[f\"atomic_actions/game_{game.game_id}\"]\n",
    "        Y = pd.concat([fn(atomicspadl.add_names(actions)) for fn in yfns], axis=1)\n",
    "        labelstore[f\"game_{game.game_id}\"] = Y\n",
    "\n",
    "Y.sample(2)"
   ]
  },
  {
   "attachments": {},
   "cell_type": "markdown",
   "metadata": {},
   "source": [
    "## Computing the VAEP values <a id=\"vaep\"></a>"
   ]
  },
  {
   "cell_type": "code",
   "execution_count": 11,
   "metadata": {},
   "outputs": [],
   "source": [
    "# Recovering the model trained previously\n",
    "pkl_filename =  os.path.join(\"modeles/\", \"mixed_VAEP_model.pkl\")\n",
    "\n",
    "with open(pkl_filename, 'rb') as file:\n",
    "    models = pickle.load(file)"
   ]
  },
  {
   "cell_type": "code",
   "execution_count": 12,
   "metadata": {},
   "outputs": [],
   "source": [
    "# Listing the features\n",
    "nb_previous_actions = 3 \n",
    "\n",
    "list_features = [\n",
    "    #fs.actiontype,\n",
    "    fs.actiontype_onehot,\n",
    "    #fs.bodypart,\n",
    "    fs.bodypart_onehot,\n",
    "    fs.goalscore,\n",
    "    fs.location,\n",
    "    fs.polar,\n",
    "    fs.movement_polar,\n",
    "    fs.direction,\n",
    "    fs.team,\n",
    "    fs.time,\n",
    "    fs.time_delta,\n",
    "]\n",
    "\n",
    "Xcols = fs.feature_column_names(list_features, nb_prev_actions=nb_previous_actions)\n",
    "Ycols = [\"scores\", \"concedes\"]"
   ]
  },
  {
   "cell_type": "code",
   "execution_count": 13,
   "metadata": {},
   "outputs": [
    {
     "name": "stderr",
     "output_type": "stream",
     "text": [
      "Selecting features: 100%|██████████| 6/6 [00:00<00:00, 70.27it/s]\n"
     ]
    },
    {
     "data": {
      "text/html": [
       "<div>\n",
       "<style scoped>\n",
       "    .dataframe tbody tr th:only-of-type {\n",
       "        vertical-align: middle;\n",
       "    }\n",
       "\n",
       "    .dataframe tbody tr th {\n",
       "        vertical-align: top;\n",
       "    }\n",
       "\n",
       "    .dataframe thead th {\n",
       "        text-align: right;\n",
       "    }\n",
       "</style>\n",
       "<table border=\"1\" class=\"dataframe\">\n",
       "  <thead>\n",
       "    <tr style=\"text-align: right;\">\n",
       "      <th></th>\n",
       "      <th>type_pass_a0</th>\n",
       "      <th>type_cross_a0</th>\n",
       "      <th>type_throw_in_a0</th>\n",
       "      <th>type_freekick_crossed_a0</th>\n",
       "      <th>type_freekick_short_a0</th>\n",
       "      <th>type_corner_crossed_a0</th>\n",
       "      <th>type_corner_short_a0</th>\n",
       "      <th>type_take_on_a0</th>\n",
       "      <th>type_foul_a0</th>\n",
       "      <th>type_tackle_a0</th>\n",
       "      <th>type_interception_a0</th>\n",
       "      <th>type_shot_a0</th>\n",
       "      <th>type_shot_penalty_a0</th>\n",
       "      <th>type_shot_freekick_a0</th>\n",
       "      <th>type_keeper_save_a0</th>\n",
       "      <th>type_keeper_claim_a0</th>\n",
       "      <th>type_keeper_punch_a0</th>\n",
       "      <th>type_keeper_pick_up_a0</th>\n",
       "      <th>type_clearance_a0</th>\n",
       "      <th>type_bad_touch_a0</th>\n",
       "      <th>type_non_action_a0</th>\n",
       "      <th>type_dribble_a0</th>\n",
       "      <th>type_goalkick_a0</th>\n",
       "      <th>type_receival_a0</th>\n",
       "      <th>type_out_a0</th>\n",
       "      <th>type_offside_a0</th>\n",
       "      <th>type_goal_a0</th>\n",
       "      <th>type_owngoal_a0</th>\n",
       "      <th>type_yellow_card_a0</th>\n",
       "      <th>type_red_card_a0</th>\n",
       "      <th>type_corner_a0</th>\n",
       "      <th>type_freekick_a0</th>\n",
       "      <th>type_pass_a1</th>\n",
       "      <th>type_cross_a1</th>\n",
       "      <th>type_throw_in_a1</th>\n",
       "      <th>type_freekick_crossed_a1</th>\n",
       "      <th>type_freekick_short_a1</th>\n",
       "      <th>type_corner_crossed_a1</th>\n",
       "      <th>type_corner_short_a1</th>\n",
       "      <th>type_take_on_a1</th>\n",
       "      <th>type_foul_a1</th>\n",
       "      <th>type_tackle_a1</th>\n",
       "      <th>type_interception_a1</th>\n",
       "      <th>type_shot_a1</th>\n",
       "      <th>type_shot_penalty_a1</th>\n",
       "      <th>type_shot_freekick_a1</th>\n",
       "      <th>type_keeper_save_a1</th>\n",
       "      <th>type_keeper_claim_a1</th>\n",
       "      <th>type_keeper_punch_a1</th>\n",
       "      <th>type_keeper_pick_up_a1</th>\n",
       "      <th>type_clearance_a1</th>\n",
       "      <th>type_bad_touch_a1</th>\n",
       "      <th>type_non_action_a1</th>\n",
       "      <th>type_dribble_a1</th>\n",
       "      <th>type_goalkick_a1</th>\n",
       "      <th>type_receival_a1</th>\n",
       "      <th>type_out_a1</th>\n",
       "      <th>type_offside_a1</th>\n",
       "      <th>type_goal_a1</th>\n",
       "      <th>type_owngoal_a1</th>\n",
       "      <th>type_yellow_card_a1</th>\n",
       "      <th>type_red_card_a1</th>\n",
       "      <th>type_corner_a1</th>\n",
       "      <th>type_freekick_a1</th>\n",
       "      <th>type_pass_a2</th>\n",
       "      <th>type_cross_a2</th>\n",
       "      <th>type_throw_in_a2</th>\n",
       "      <th>type_freekick_crossed_a2</th>\n",
       "      <th>type_freekick_short_a2</th>\n",
       "      <th>type_corner_crossed_a2</th>\n",
       "      <th>type_corner_short_a2</th>\n",
       "      <th>type_take_on_a2</th>\n",
       "      <th>type_foul_a2</th>\n",
       "      <th>type_tackle_a2</th>\n",
       "      <th>type_interception_a2</th>\n",
       "      <th>type_shot_a2</th>\n",
       "      <th>type_shot_penalty_a2</th>\n",
       "      <th>type_shot_freekick_a2</th>\n",
       "      <th>type_keeper_save_a2</th>\n",
       "      <th>type_keeper_claim_a2</th>\n",
       "      <th>type_keeper_punch_a2</th>\n",
       "      <th>type_keeper_pick_up_a2</th>\n",
       "      <th>type_clearance_a2</th>\n",
       "      <th>type_bad_touch_a2</th>\n",
       "      <th>type_non_action_a2</th>\n",
       "      <th>type_dribble_a2</th>\n",
       "      <th>type_goalkick_a2</th>\n",
       "      <th>type_receival_a2</th>\n",
       "      <th>type_out_a2</th>\n",
       "      <th>type_offside_a2</th>\n",
       "      <th>type_goal_a2</th>\n",
       "      <th>type_owngoal_a2</th>\n",
       "      <th>type_yellow_card_a2</th>\n",
       "      <th>type_red_card_a2</th>\n",
       "      <th>type_corner_a2</th>\n",
       "      <th>type_freekick_a2</th>\n",
       "      <th>bodypart_foot_a0</th>\n",
       "      <th>bodypart_head_a0</th>\n",
       "      <th>bodypart_other_a0</th>\n",
       "      <th>bodypart_head/other_a0</th>\n",
       "      <th>bodypart_foot_a1</th>\n",
       "      <th>bodypart_head_a1</th>\n",
       "      <th>bodypart_other_a1</th>\n",
       "      <th>bodypart_head/other_a1</th>\n",
       "      <th>bodypart_foot_a2</th>\n",
       "      <th>bodypart_head_a2</th>\n",
       "      <th>bodypart_other_a2</th>\n",
       "      <th>bodypart_head/other_a2</th>\n",
       "      <th>goalscore_team</th>\n",
       "      <th>goalscore_opponent</th>\n",
       "      <th>goalscore_diff</th>\n",
       "      <th>x_a0</th>\n",
       "      <th>y_a0</th>\n",
       "      <th>x_a1</th>\n",
       "      <th>y_a1</th>\n",
       "      <th>x_a2</th>\n",
       "      <th>y_a2</th>\n",
       "      <th>dist_to_goal_a0</th>\n",
       "      <th>angle_to_goal_a0</th>\n",
       "      <th>dist_to_goal_a1</th>\n",
       "      <th>angle_to_goal_a1</th>\n",
       "      <th>dist_to_goal_a2</th>\n",
       "      <th>angle_to_goal_a2</th>\n",
       "      <th>mov_d_a0</th>\n",
       "      <th>mov_angle_a0</th>\n",
       "      <th>mov_d_a1</th>\n",
       "      <th>mov_angle_a1</th>\n",
       "      <th>mov_d_a2</th>\n",
       "      <th>mov_angle_a2</th>\n",
       "      <th>dx_a0</th>\n",
       "      <th>dy_a0</th>\n",
       "      <th>dx_a1</th>\n",
       "      <th>dy_a1</th>\n",
       "      <th>dx_a2</th>\n",
       "      <th>dy_a2</th>\n",
       "      <th>team_1</th>\n",
       "      <th>team_2</th>\n",
       "      <th>period_id_a0</th>\n",
       "      <th>time_seconds_a0</th>\n",
       "      <th>time_seconds_overall_a0</th>\n",
       "      <th>period_id_a1</th>\n",
       "      <th>time_seconds_a1</th>\n",
       "      <th>time_seconds_overall_a1</th>\n",
       "      <th>period_id_a2</th>\n",
       "      <th>time_seconds_a2</th>\n",
       "      <th>time_seconds_overall_a2</th>\n",
       "      <th>time_delta_1</th>\n",
       "      <th>time_delta_2</th>\n",
       "    </tr>\n",
       "  </thead>\n",
       "  <tbody>\n",
       "    <tr>\n",
       "      <th>10057</th>\n",
       "      <td>True</td>\n",
       "      <td>False</td>\n",
       "      <td>False</td>\n",
       "      <td>False</td>\n",
       "      <td>False</td>\n",
       "      <td>False</td>\n",
       "      <td>False</td>\n",
       "      <td>False</td>\n",
       "      <td>False</td>\n",
       "      <td>False</td>\n",
       "      <td>False</td>\n",
       "      <td>False</td>\n",
       "      <td>False</td>\n",
       "      <td>False</td>\n",
       "      <td>False</td>\n",
       "      <td>False</td>\n",
       "      <td>False</td>\n",
       "      <td>False</td>\n",
       "      <td>False</td>\n",
       "      <td>False</td>\n",
       "      <td>False</td>\n",
       "      <td>False</td>\n",
       "      <td>False</td>\n",
       "      <td>False</td>\n",
       "      <td>False</td>\n",
       "      <td>False</td>\n",
       "      <td>False</td>\n",
       "      <td>False</td>\n",
       "      <td>False</td>\n",
       "      <td>False</td>\n",
       "      <td>False</td>\n",
       "      <td>False</td>\n",
       "      <td>False</td>\n",
       "      <td>False</td>\n",
       "      <td>False</td>\n",
       "      <td>False</td>\n",
       "      <td>False</td>\n",
       "      <td>False</td>\n",
       "      <td>False</td>\n",
       "      <td>False</td>\n",
       "      <td>False</td>\n",
       "      <td>False</td>\n",
       "      <td>False</td>\n",
       "      <td>False</td>\n",
       "      <td>False</td>\n",
       "      <td>False</td>\n",
       "      <td>False</td>\n",
       "      <td>False</td>\n",
       "      <td>False</td>\n",
       "      <td>False</td>\n",
       "      <td>False</td>\n",
       "      <td>False</td>\n",
       "      <td>False</td>\n",
       "      <td>True</td>\n",
       "      <td>False</td>\n",
       "      <td>False</td>\n",
       "      <td>False</td>\n",
       "      <td>False</td>\n",
       "      <td>False</td>\n",
       "      <td>False</td>\n",
       "      <td>False</td>\n",
       "      <td>False</td>\n",
       "      <td>False</td>\n",
       "      <td>False</td>\n",
       "      <td>False</td>\n",
       "      <td>False</td>\n",
       "      <td>False</td>\n",
       "      <td>False</td>\n",
       "      <td>False</td>\n",
       "      <td>False</td>\n",
       "      <td>False</td>\n",
       "      <td>False</td>\n",
       "      <td>False</td>\n",
       "      <td>False</td>\n",
       "      <td>False</td>\n",
       "      <td>False</td>\n",
       "      <td>False</td>\n",
       "      <td>False</td>\n",
       "      <td>False</td>\n",
       "      <td>False</td>\n",
       "      <td>False</td>\n",
       "      <td>False</td>\n",
       "      <td>False</td>\n",
       "      <td>False</td>\n",
       "      <td>False</td>\n",
       "      <td>False</td>\n",
       "      <td>False</td>\n",
       "      <td>True</td>\n",
       "      <td>False</td>\n",
       "      <td>False</td>\n",
       "      <td>False</td>\n",
       "      <td>False</td>\n",
       "      <td>False</td>\n",
       "      <td>False</td>\n",
       "      <td>False</td>\n",
       "      <td>False</td>\n",
       "      <td>True</td>\n",
       "      <td>False</td>\n",
       "      <td>False</td>\n",
       "      <td>False</td>\n",
       "      <td>True</td>\n",
       "      <td>False</td>\n",
       "      <td>False</td>\n",
       "      <td>False</td>\n",
       "      <td>True</td>\n",
       "      <td>False</td>\n",
       "      <td>False</td>\n",
       "      <td>False</td>\n",
       "      <td>3</td>\n",
       "      <td>0</td>\n",
       "      <td>3</td>\n",
       "      <td>21.529412</td>\n",
       "      <td>40.025316</td>\n",
       "      <td>14.294118</td>\n",
       "      <td>39.853165</td>\n",
       "      <td>14.294118</td>\n",
       "      <td>39.853165</td>\n",
       "      <td>83.687774</td>\n",
       "      <td>0.07206</td>\n",
       "      <td>90.894536</td>\n",
       "      <td>0.06444</td>\n",
       "      <td>90.894536</td>\n",
       "      <td>0.064440</td>\n",
       "      <td>19.072825</td>\n",
       "      <td>-1.26051</td>\n",
       "      <td>7.237342</td>\n",
       "      <td>0.023789</td>\n",
       "      <td>0.000000</td>\n",
       "      <td>0.000000</td>\n",
       "      <td>0.305331</td>\n",
       "      <td>-0.952246</td>\n",
       "      <td>0.999717</td>\n",
       "      <td>0.023787</td>\n",
       "      <td>0.000000</td>\n",
       "      <td>0.000000</td>\n",
       "      <td>True</td>\n",
       "      <td>True</td>\n",
       "      <td>1</td>\n",
       "      <td>1927.0</td>\n",
       "      <td>1927.0</td>\n",
       "      <td>1</td>\n",
       "      <td>1925.0</td>\n",
       "      <td>1925.0</td>\n",
       "      <td>1</td>\n",
       "      <td>1924.0</td>\n",
       "      <td>1924.0</td>\n",
       "      <td>2.0</td>\n",
       "      <td>3.0</td>\n",
       "    </tr>\n",
       "    <tr>\n",
       "      <th>12757</th>\n",
       "      <td>False</td>\n",
       "      <td>False</td>\n",
       "      <td>False</td>\n",
       "      <td>False</td>\n",
       "      <td>False</td>\n",
       "      <td>False</td>\n",
       "      <td>False</td>\n",
       "      <td>False</td>\n",
       "      <td>False</td>\n",
       "      <td>False</td>\n",
       "      <td>False</td>\n",
       "      <td>False</td>\n",
       "      <td>False</td>\n",
       "      <td>False</td>\n",
       "      <td>False</td>\n",
       "      <td>False</td>\n",
       "      <td>False</td>\n",
       "      <td>False</td>\n",
       "      <td>False</td>\n",
       "      <td>False</td>\n",
       "      <td>False</td>\n",
       "      <td>True</td>\n",
       "      <td>False</td>\n",
       "      <td>False</td>\n",
       "      <td>False</td>\n",
       "      <td>False</td>\n",
       "      <td>False</td>\n",
       "      <td>False</td>\n",
       "      <td>False</td>\n",
       "      <td>False</td>\n",
       "      <td>False</td>\n",
       "      <td>False</td>\n",
       "      <td>False</td>\n",
       "      <td>False</td>\n",
       "      <td>False</td>\n",
       "      <td>False</td>\n",
       "      <td>False</td>\n",
       "      <td>False</td>\n",
       "      <td>False</td>\n",
       "      <td>False</td>\n",
       "      <td>False</td>\n",
       "      <td>False</td>\n",
       "      <td>False</td>\n",
       "      <td>False</td>\n",
       "      <td>False</td>\n",
       "      <td>False</td>\n",
       "      <td>False</td>\n",
       "      <td>False</td>\n",
       "      <td>False</td>\n",
       "      <td>False</td>\n",
       "      <td>False</td>\n",
       "      <td>False</td>\n",
       "      <td>False</td>\n",
       "      <td>False</td>\n",
       "      <td>False</td>\n",
       "      <td>True</td>\n",
       "      <td>False</td>\n",
       "      <td>False</td>\n",
       "      <td>False</td>\n",
       "      <td>False</td>\n",
       "      <td>False</td>\n",
       "      <td>False</td>\n",
       "      <td>False</td>\n",
       "      <td>False</td>\n",
       "      <td>True</td>\n",
       "      <td>False</td>\n",
       "      <td>False</td>\n",
       "      <td>False</td>\n",
       "      <td>False</td>\n",
       "      <td>False</td>\n",
       "      <td>False</td>\n",
       "      <td>False</td>\n",
       "      <td>False</td>\n",
       "      <td>False</td>\n",
       "      <td>False</td>\n",
       "      <td>False</td>\n",
       "      <td>False</td>\n",
       "      <td>False</td>\n",
       "      <td>False</td>\n",
       "      <td>False</td>\n",
       "      <td>False</td>\n",
       "      <td>False</td>\n",
       "      <td>False</td>\n",
       "      <td>False</td>\n",
       "      <td>False</td>\n",
       "      <td>False</td>\n",
       "      <td>False</td>\n",
       "      <td>False</td>\n",
       "      <td>False</td>\n",
       "      <td>False</td>\n",
       "      <td>False</td>\n",
       "      <td>False</td>\n",
       "      <td>False</td>\n",
       "      <td>False</td>\n",
       "      <td>False</td>\n",
       "      <td>False</td>\n",
       "      <td>True</td>\n",
       "      <td>False</td>\n",
       "      <td>False</td>\n",
       "      <td>False</td>\n",
       "      <td>True</td>\n",
       "      <td>False</td>\n",
       "      <td>False</td>\n",
       "      <td>False</td>\n",
       "      <td>True</td>\n",
       "      <td>False</td>\n",
       "      <td>False</td>\n",
       "      <td>False</td>\n",
       "      <td>0</td>\n",
       "      <td>0</td>\n",
       "      <td>0</td>\n",
       "      <td>24.529412</td>\n",
       "      <td>34.086076</td>\n",
       "      <td>24.529412</td>\n",
       "      <td>34.086076</td>\n",
       "      <td>30.441176</td>\n",
       "      <td>40.886076</td>\n",
       "      <td>80.470634</td>\n",
       "      <td>0.00107</td>\n",
       "      <td>80.470634</td>\n",
       "      <td>0.00107</td>\n",
       "      <td>74.876139</td>\n",
       "      <td>0.092096</td>\n",
       "      <td>0.000000</td>\n",
       "      <td>0.00000</td>\n",
       "      <td>0.000000</td>\n",
       "      <td>0.000000</td>\n",
       "      <td>9.010492</td>\n",
       "      <td>-2.286433</td>\n",
       "      <td>0.000000</td>\n",
       "      <td>0.000000</td>\n",
       "      <td>0.000000</td>\n",
       "      <td>0.000000</td>\n",
       "      <td>-0.656098</td>\n",
       "      <td>-0.754676</td>\n",
       "      <td>True</td>\n",
       "      <td>True</td>\n",
       "      <td>1</td>\n",
       "      <td>843.0</td>\n",
       "      <td>843.0</td>\n",
       "      <td>1</td>\n",
       "      <td>842.5</td>\n",
       "      <td>842.5</td>\n",
       "      <td>1</td>\n",
       "      <td>842.0</td>\n",
       "      <td>842.0</td>\n",
       "      <td>0.5</td>\n",
       "      <td>1.0</td>\n",
       "    </tr>\n",
       "  </tbody>\n",
       "</table>\n",
       "</div>"
      ],
      "text/plain": [
       "       type_pass_a0  type_cross_a0  type_throw_in_a0  \\\n",
       "10057          True          False             False   \n",
       "12757         False          False             False   \n",
       "\n",
       "       type_freekick_crossed_a0  type_freekick_short_a0  \\\n",
       "10057                     False                   False   \n",
       "12757                     False                   False   \n",
       "\n",
       "       type_corner_crossed_a0  type_corner_short_a0  type_take_on_a0  \\\n",
       "10057                   False                 False            False   \n",
       "12757                   False                 False            False   \n",
       "\n",
       "       type_foul_a0  type_tackle_a0  type_interception_a0  type_shot_a0  \\\n",
       "10057         False           False                 False         False   \n",
       "12757         False           False                 False         False   \n",
       "\n",
       "       type_shot_penalty_a0  type_shot_freekick_a0  type_keeper_save_a0  \\\n",
       "10057                 False                  False                False   \n",
       "12757                 False                  False                False   \n",
       "\n",
       "       type_keeper_claim_a0  type_keeper_punch_a0  type_keeper_pick_up_a0  \\\n",
       "10057                 False                 False                   False   \n",
       "12757                 False                 False                   False   \n",
       "\n",
       "       type_clearance_a0  type_bad_touch_a0  type_non_action_a0  \\\n",
       "10057              False              False               False   \n",
       "12757              False              False               False   \n",
       "\n",
       "       type_dribble_a0  type_goalkick_a0  type_receival_a0  type_out_a0  \\\n",
       "10057            False             False             False        False   \n",
       "12757             True             False             False        False   \n",
       "\n",
       "       type_offside_a0  type_goal_a0  type_owngoal_a0  type_yellow_card_a0  \\\n",
       "10057            False         False            False                False   \n",
       "12757            False         False            False                False   \n",
       "\n",
       "       type_red_card_a0  type_corner_a0  type_freekick_a0  type_pass_a1  \\\n",
       "10057             False           False             False         False   \n",
       "12757             False           False             False         False   \n",
       "\n",
       "       type_cross_a1  type_throw_in_a1  type_freekick_crossed_a1  \\\n",
       "10057          False             False                     False   \n",
       "12757          False             False                     False   \n",
       "\n",
       "       type_freekick_short_a1  type_corner_crossed_a1  type_corner_short_a1  \\\n",
       "10057                   False                   False                 False   \n",
       "12757                   False                   False                 False   \n",
       "\n",
       "       type_take_on_a1  type_foul_a1  type_tackle_a1  type_interception_a1  \\\n",
       "10057            False         False           False                 False   \n",
       "12757            False         False           False                 False   \n",
       "\n",
       "       type_shot_a1  type_shot_penalty_a1  type_shot_freekick_a1  \\\n",
       "10057         False                 False                  False   \n",
       "12757         False                 False                  False   \n",
       "\n",
       "       type_keeper_save_a1  type_keeper_claim_a1  type_keeper_punch_a1  \\\n",
       "10057                False                 False                 False   \n",
       "12757                False                 False                 False   \n",
       "\n",
       "       type_keeper_pick_up_a1  type_clearance_a1  type_bad_touch_a1  \\\n",
       "10057                   False              False              False   \n",
       "12757                   False              False              False   \n",
       "\n",
       "       type_non_action_a1  type_dribble_a1  type_goalkick_a1  \\\n",
       "10057               False             True             False   \n",
       "12757               False            False             False   \n",
       "\n",
       "       type_receival_a1  type_out_a1  type_offside_a1  type_goal_a1  \\\n",
       "10057             False        False            False         False   \n",
       "12757              True        False            False         False   \n",
       "\n",
       "       type_owngoal_a1  type_yellow_card_a1  type_red_card_a1  type_corner_a1  \\\n",
       "10057            False                False             False           False   \n",
       "12757            False                False             False           False   \n",
       "\n",
       "       type_freekick_a1  type_pass_a2  type_cross_a2  type_throw_in_a2  \\\n",
       "10057             False         False          False             False   \n",
       "12757             False          True          False             False   \n",
       "\n",
       "       type_freekick_crossed_a2  type_freekick_short_a2  \\\n",
       "10057                     False                   False   \n",
       "12757                     False                   False   \n",
       "\n",
       "       type_corner_crossed_a2  type_corner_short_a2  type_take_on_a2  \\\n",
       "10057                   False                 False            False   \n",
       "12757                   False                 False            False   \n",
       "\n",
       "       type_foul_a2  type_tackle_a2  type_interception_a2  type_shot_a2  \\\n",
       "10057         False           False                 False         False   \n",
       "12757         False           False                 False         False   \n",
       "\n",
       "       type_shot_penalty_a2  type_shot_freekick_a2  type_keeper_save_a2  \\\n",
       "10057                 False                  False                False   \n",
       "12757                 False                  False                False   \n",
       "\n",
       "       type_keeper_claim_a2  type_keeper_punch_a2  type_keeper_pick_up_a2  \\\n",
       "10057                 False                 False                   False   \n",
       "12757                 False                 False                   False   \n",
       "\n",
       "       type_clearance_a2  type_bad_touch_a2  type_non_action_a2  \\\n",
       "10057              False              False               False   \n",
       "12757              False              False               False   \n",
       "\n",
       "       type_dribble_a2  type_goalkick_a2  type_receival_a2  type_out_a2  \\\n",
       "10057            False             False              True        False   \n",
       "12757            False             False             False        False   \n",
       "\n",
       "       type_offside_a2  type_goal_a2  type_owngoal_a2  type_yellow_card_a2  \\\n",
       "10057            False         False            False                False   \n",
       "12757            False         False            False                False   \n",
       "\n",
       "       type_red_card_a2  type_corner_a2  type_freekick_a2  bodypart_foot_a0  \\\n",
       "10057             False           False             False              True   \n",
       "12757             False           False             False              True   \n",
       "\n",
       "       bodypart_head_a0  bodypart_other_a0  bodypart_head/other_a0  \\\n",
       "10057             False              False                   False   \n",
       "12757             False              False                   False   \n",
       "\n",
       "       bodypart_foot_a1  bodypart_head_a1  bodypart_other_a1  \\\n",
       "10057              True             False              False   \n",
       "12757              True             False              False   \n",
       "\n",
       "       bodypart_head/other_a1  bodypart_foot_a2  bodypart_head_a2  \\\n",
       "10057                   False              True             False   \n",
       "12757                   False              True             False   \n",
       "\n",
       "       bodypart_other_a2  bodypart_head/other_a2  goalscore_team  \\\n",
       "10057              False                   False               3   \n",
       "12757              False                   False               0   \n",
       "\n",
       "       goalscore_opponent  goalscore_diff       x_a0       y_a0       x_a1  \\\n",
       "10057                   0               3  21.529412  40.025316  14.294118   \n",
       "12757                   0               0  24.529412  34.086076  24.529412   \n",
       "\n",
       "            y_a1       x_a2       y_a2  dist_to_goal_a0  angle_to_goal_a0  \\\n",
       "10057  39.853165  14.294118  39.853165        83.687774           0.07206   \n",
       "12757  34.086076  30.441176  40.886076        80.470634           0.00107   \n",
       "\n",
       "       dist_to_goal_a1  angle_to_goal_a1  dist_to_goal_a2  angle_to_goal_a2  \\\n",
       "10057        90.894536           0.06444        90.894536          0.064440   \n",
       "12757        80.470634           0.00107        74.876139          0.092096   \n",
       "\n",
       "        mov_d_a0  mov_angle_a0  mov_d_a1  mov_angle_a1  mov_d_a2  \\\n",
       "10057  19.072825      -1.26051  7.237342      0.023789  0.000000   \n",
       "12757   0.000000       0.00000  0.000000      0.000000  9.010492   \n",
       "\n",
       "       mov_angle_a2     dx_a0     dy_a0     dx_a1     dy_a1     dx_a2  \\\n",
       "10057      0.000000  0.305331 -0.952246  0.999717  0.023787  0.000000   \n",
       "12757     -2.286433  0.000000  0.000000  0.000000  0.000000 -0.656098   \n",
       "\n",
       "          dy_a2  team_1  team_2  period_id_a0  time_seconds_a0  \\\n",
       "10057  0.000000    True    True             1           1927.0   \n",
       "12757 -0.754676    True    True             1            843.0   \n",
       "\n",
       "       time_seconds_overall_a0  period_id_a1  time_seconds_a1  \\\n",
       "10057                   1927.0             1           1925.0   \n",
       "12757                    843.0             1            842.5   \n",
       "\n",
       "       time_seconds_overall_a1  period_id_a2  time_seconds_a2  \\\n",
       "10057                   1925.0             1           1924.0   \n",
       "12757                    842.5             1            842.0   \n",
       "\n",
       "       time_seconds_overall_a2  time_delta_1  time_delta_2  \n",
       "10057                   1924.0           2.0           3.0  \n",
       "12757                    842.0           0.5           1.0  "
      ]
     },
     "execution_count": 13,
     "metadata": {},
     "output_type": "execute_result"
    }
   ],
   "source": [
    "# Creating the X matrix with the features for every game\n",
    "X = []\n",
    "for game_id in tqdm.tqdm(df_games_city.game_id, desc=\"Selecting features\"):\n",
    "    Xi = pd.read_hdf(features_h5, f\"game_{game_id}\")\n",
    "    X.append(Xi[Xcols])\n",
    "X = pd.concat(X).reset_index(drop=True)\n",
    "X.sample(2)"
   ]
  },
  {
   "cell_type": "code",
   "execution_count": 14,
   "metadata": {},
   "outputs": [
    {
     "data": {
      "text/html": [
       "<div>\n",
       "<style scoped>\n",
       "    .dataframe tbody tr th:only-of-type {\n",
       "        vertical-align: middle;\n",
       "    }\n",
       "\n",
       "    .dataframe tbody tr th {\n",
       "        vertical-align: top;\n",
       "    }\n",
       "\n",
       "    .dataframe thead th {\n",
       "        text-align: right;\n",
       "    }\n",
       "</style>\n",
       "<table border=\"1\" class=\"dataframe\">\n",
       "  <thead>\n",
       "    <tr style=\"text-align: right;\">\n",
       "      <th></th>\n",
       "      <th>scores</th>\n",
       "      <th>concedes</th>\n",
       "    </tr>\n",
       "  </thead>\n",
       "  <tbody>\n",
       "    <tr>\n",
       "      <th>6047</th>\n",
       "      <td>0.001686</td>\n",
       "      <td>0.000304</td>\n",
       "    </tr>\n",
       "    <tr>\n",
       "      <th>3558</th>\n",
       "      <td>0.000898</td>\n",
       "      <td>0.000480</td>\n",
       "    </tr>\n",
       "  </tbody>\n",
       "</table>\n",
       "</div>"
      ],
      "text/plain": [
       "        scores  concedes\n",
       "6047  0.001686  0.000304\n",
       "3558  0.000898  0.000480"
      ]
     },
     "execution_count": 14,
     "metadata": {},
     "output_type": "execute_result"
    }
   ],
   "source": [
    "# Computing the vaep values\n",
    "Y_pred = pd.DataFrame()\n",
    "for col in [\"scores\", \"concedes\"]:\n",
    "    Y_pred[col] = [p[1] for p in models[col].predict_proba(X)]\n",
    "\n",
    "Y_pred.sample(2)"
   ]
  },
  {
   "cell_type": "code",
   "execution_count": 15,
   "metadata": {},
   "outputs": [
    {
     "name": "stderr",
     "output_type": "stream",
     "text": [
      "Loading game ids: 100%|██████████| 6/6 [00:00<00:00, 69.13it/s]\n"
     ]
    }
   ],
   "source": [
    "# get rows with game id per action\n",
    "A = []\n",
    "for game_id in tqdm.tqdm(games.game_id, \"Loading game ids\"):\n",
    "    Ai = pd.read_hdf(spadl_h5, f\"atomic_actions/game_{game_id}\")\n",
    "    A.append(Ai[[\"game_id\"]])\n",
    "A = pd.concat(A)\n",
    "A = A.reset_index(drop=True)"
   ]
  },
  {
   "cell_type": "code",
   "execution_count": 16,
   "metadata": {},
   "outputs": [
    {
     "name": "stderr",
     "output_type": "stream",
     "text": [
      "Saving predictions per game: 100%|██████████| 6/6 [00:00<00:00, 62.27it/s]\n"
     ]
    }
   ],
   "source": [
    "# concatenate action game id rows with predictions and save per game\n",
    "df_complete = pd.concat([A, Y_pred], axis=1)\n",
    "grouped_predictions = df_complete.groupby(\"game_id\")\n",
    "for k, df in tqdm.tqdm(grouped_predictions, desc=\"Saving predictions per game\"):\n",
    "    df = df.reset_index(drop=True)\n",
    "    df[Y_pred.columns].to_hdf(predictions_h5, f\"game_{int(k)}\")"
   ]
  },
  {
   "cell_type": "code",
   "execution_count": 17,
   "metadata": {},
   "outputs": [
    {
     "name": "stderr",
     "output_type": "stream",
     "text": [
      "Loading actions: 100%|██████████| 6/6 [00:00<00:00, 17.55it/s]\n"
     ]
    },
    {
     "data": {
      "text/html": [
       "<div>\n",
       "<style scoped>\n",
       "    .dataframe tbody tr th:only-of-type {\n",
       "        vertical-align: middle;\n",
       "    }\n",
       "\n",
       "    .dataframe tbody tr th {\n",
       "        vertical-align: top;\n",
       "    }\n",
       "\n",
       "    .dataframe thead th {\n",
       "        text-align: right;\n",
       "    }\n",
       "</style>\n",
       "<table border=\"1\" class=\"dataframe\">\n",
       "  <thead>\n",
       "    <tr style=\"text-align: right;\">\n",
       "      <th></th>\n",
       "      <th>game_id</th>\n",
       "      <th>original_event_id</th>\n",
       "      <th>action_id</th>\n",
       "      <th>period_id</th>\n",
       "      <th>time_seconds</th>\n",
       "      <th>team_id</th>\n",
       "      <th>player_id</th>\n",
       "      <th>x</th>\n",
       "      <th>y</th>\n",
       "      <th>dx</th>\n",
       "      <th>dy</th>\n",
       "      <th>type_id</th>\n",
       "      <th>bodypart_id</th>\n",
       "      <th>type_name</th>\n",
       "      <th>bodypart_name</th>\n",
       "      <th>player_name</th>\n",
       "      <th>nickname</th>\n",
       "      <th>jersey_number</th>\n",
       "      <th>is_starter</th>\n",
       "      <th>starting_position_id</th>\n",
       "      <th>starting_position_name</th>\n",
       "      <th>minutes_played</th>\n",
       "      <th>team_name</th>\n",
       "      <th>scores</th>\n",
       "      <th>concedes</th>\n",
       "      <th>offensive_value</th>\n",
       "      <th>defensive_value</th>\n",
       "      <th>vaep_value</th>\n",
       "    </tr>\n",
       "  </thead>\n",
       "  <tbody>\n",
       "    <tr>\n",
       "      <th>0</th>\n",
       "      <td>3852832</td>\n",
       "      <td>edbc9819-3d24-4c37-adc0-06949261903b</td>\n",
       "      <td>0</td>\n",
       "      <td>1</td>\n",
       "      <td>0.0</td>\n",
       "      <td>746</td>\n",
       "      <td>25554.0</td>\n",
       "      <td>52.058824</td>\n",
       "      <td>34.430380</td>\n",
       "      <td>-13.764706</td>\n",
       "      <td>3.184810</td>\n",
       "      <td>0</td>\n",
       "      <td>5</td>\n",
       "      <td>pass</td>\n",
       "      <td>foot_right</td>\n",
       "      <td>Khadija Monifa Shaw</td>\n",
       "      <td>None</td>\n",
       "      <td>21</td>\n",
       "      <td>True</td>\n",
       "      <td>23</td>\n",
       "      <td>Center Forward</td>\n",
       "      <td>100</td>\n",
       "      <td>Manchester City WFC</td>\n",
       "      <td>0.000522</td>\n",
       "      <td>0.000555</td>\n",
       "      <td>0.000000</td>\n",
       "      <td>-0.000000</td>\n",
       "      <td>0.000000</td>\n",
       "    </tr>\n",
       "    <tr>\n",
       "      <th>1</th>\n",
       "      <td>3852832</td>\n",
       "      <td>edbc9819-3d24-4c37-adc0-06949261903b</td>\n",
       "      <td>1</td>\n",
       "      <td>1</td>\n",
       "      <td>0.5</td>\n",
       "      <td>746</td>\n",
       "      <td>25632.0</td>\n",
       "      <td>38.294118</td>\n",
       "      <td>37.615190</td>\n",
       "      <td>0.000000</td>\n",
       "      <td>0.000000</td>\n",
       "      <td>23</td>\n",
       "      <td>0</td>\n",
       "      <td>receival</td>\n",
       "      <td>foot</td>\n",
       "      <td>Yui Hasegawa</td>\n",
       "      <td>None</td>\n",
       "      <td>25</td>\n",
       "      <td>True</td>\n",
       "      <td>10</td>\n",
       "      <td>Center Defensive Midfield</td>\n",
       "      <td>100</td>\n",
       "      <td>Manchester City WFC</td>\n",
       "      <td>0.000936</td>\n",
       "      <td>0.000758</td>\n",
       "      <td>0.000414</td>\n",
       "      <td>-0.000203</td>\n",
       "      <td>0.000211</td>\n",
       "    </tr>\n",
       "    <tr>\n",
       "      <th>2</th>\n",
       "      <td>3852832</td>\n",
       "      <td>ce398ea2-769b-43d0-8911-a71d6ad7ce82</td>\n",
       "      <td>2</td>\n",
       "      <td>1</td>\n",
       "      <td>1.0</td>\n",
       "      <td>746</td>\n",
       "      <td>25632.0</td>\n",
       "      <td>38.294118</td>\n",
       "      <td>37.615190</td>\n",
       "      <td>1.235294</td>\n",
       "      <td>0.172152</td>\n",
       "      <td>21</td>\n",
       "      <td>0</td>\n",
       "      <td>dribble</td>\n",
       "      <td>foot</td>\n",
       "      <td>Yui Hasegawa</td>\n",
       "      <td>None</td>\n",
       "      <td>25</td>\n",
       "      <td>True</td>\n",
       "      <td>10</td>\n",
       "      <td>Center Defensive Midfield</td>\n",
       "      <td>100</td>\n",
       "      <td>Manchester City WFC</td>\n",
       "      <td>0.001365</td>\n",
       "      <td>0.000901</td>\n",
       "      <td>0.000429</td>\n",
       "      <td>-0.000143</td>\n",
       "      <td>0.000286</td>\n",
       "    </tr>\n",
       "    <tr>\n",
       "      <th>3</th>\n",
       "      <td>3852832</td>\n",
       "      <td>9fdba1c7-4244-43fd-b0fc-b6f944407c1f</td>\n",
       "      <td>3</td>\n",
       "      <td>1</td>\n",
       "      <td>2.0</td>\n",
       "      <td>746</td>\n",
       "      <td>25632.0</td>\n",
       "      <td>39.529412</td>\n",
       "      <td>37.787342</td>\n",
       "      <td>-12.617647</td>\n",
       "      <td>-16.956962</td>\n",
       "      <td>0</td>\n",
       "      <td>5</td>\n",
       "      <td>pass</td>\n",
       "      <td>foot_right</td>\n",
       "      <td>Yui Hasegawa</td>\n",
       "      <td>None</td>\n",
       "      <td>25</td>\n",
       "      <td>True</td>\n",
       "      <td>10</td>\n",
       "      <td>Center Defensive Midfield</td>\n",
       "      <td>100</td>\n",
       "      <td>Manchester City WFC</td>\n",
       "      <td>0.000629</td>\n",
       "      <td>0.000602</td>\n",
       "      <td>-0.000736</td>\n",
       "      <td>0.000299</td>\n",
       "      <td>-0.000437</td>\n",
       "    </tr>\n",
       "    <tr>\n",
       "      <th>4</th>\n",
       "      <td>3852832</td>\n",
       "      <td>9fdba1c7-4244-43fd-b0fc-b6f944407c1f</td>\n",
       "      <td>4</td>\n",
       "      <td>1</td>\n",
       "      <td>2.5</td>\n",
       "      <td>746</td>\n",
       "      <td>10185.0</td>\n",
       "      <td>26.911765</td>\n",
       "      <td>20.830380</td>\n",
       "      <td>0.000000</td>\n",
       "      <td>0.000000</td>\n",
       "      <td>23</td>\n",
       "      <td>0</td>\n",
       "      <td>receival</td>\n",
       "      <td>foot</td>\n",
       "      <td>Stephanie Houghton</td>\n",
       "      <td>None</td>\n",
       "      <td>6</td>\n",
       "      <td>True</td>\n",
       "      <td>3</td>\n",
       "      <td>Right Center Back</td>\n",
       "      <td>100</td>\n",
       "      <td>Manchester City WFC</td>\n",
       "      <td>0.000753</td>\n",
       "      <td>0.000589</td>\n",
       "      <td>0.000124</td>\n",
       "      <td>0.000013</td>\n",
       "      <td>0.000137</td>\n",
       "    </tr>\n",
       "    <tr>\n",
       "      <th>...</th>\n",
       "      <td>...</td>\n",
       "      <td>...</td>\n",
       "      <td>...</td>\n",
       "      <td>...</td>\n",
       "      <td>...</td>\n",
       "      <td>...</td>\n",
       "      <td>...</td>\n",
       "      <td>...</td>\n",
       "      <td>...</td>\n",
       "      <td>...</td>\n",
       "      <td>...</td>\n",
       "      <td>...</td>\n",
       "      <td>...</td>\n",
       "      <td>...</td>\n",
       "      <td>...</td>\n",
       "      <td>...</td>\n",
       "      <td>...</td>\n",
       "      <td>...</td>\n",
       "      <td>...</td>\n",
       "      <td>...</td>\n",
       "      <td>...</td>\n",
       "      <td>...</td>\n",
       "      <td>...</td>\n",
       "      <td>...</td>\n",
       "      <td>...</td>\n",
       "      <td>...</td>\n",
       "      <td>...</td>\n",
       "      <td>...</td>\n",
       "    </tr>\n",
       "    <tr>\n",
       "      <th>18513</th>\n",
       "      <td>3856040</td>\n",
       "      <td>a83836bd-cded-4d49-8156-6da7b6f4298d</td>\n",
       "      <td>3256</td>\n",
       "      <td>2</td>\n",
       "      <td>3040.0</td>\n",
       "      <td>746</td>\n",
       "      <td>4649.0</td>\n",
       "      <td>5.911765</td>\n",
       "      <td>18.420253</td>\n",
       "      <td>1.941176</td>\n",
       "      <td>0.000000</td>\n",
       "      <td>21</td>\n",
       "      <td>0</td>\n",
       "      <td>dribble</td>\n",
       "      <td>foot</td>\n",
       "      <td>Esme Beth Morgan</td>\n",
       "      <td>Esme Morgan</td>\n",
       "      <td>14</td>\n",
       "      <td>False</td>\n",
       "      <td>0</td>\n",
       "      <td>Substitute</td>\n",
       "      <td>12</td>\n",
       "      <td>Manchester City WFC</td>\n",
       "      <td>0.002152</td>\n",
       "      <td>0.001568</td>\n",
       "      <td>0.001254</td>\n",
       "      <td>0.000344</td>\n",
       "      <td>0.001597</td>\n",
       "    </tr>\n",
       "    <tr>\n",
       "      <th>18514</th>\n",
       "      <td>3856040</td>\n",
       "      <td>c33b1ed4-5f74-4058-b0cc-140feaba7c06</td>\n",
       "      <td>3257</td>\n",
       "      <td>2</td>\n",
       "      <td>3040.0</td>\n",
       "      <td>746</td>\n",
       "      <td>4649.0</td>\n",
       "      <td>7.852941</td>\n",
       "      <td>18.420253</td>\n",
       "      <td>-4.323529</td>\n",
       "      <td>11.275949</td>\n",
       "      <td>0</td>\n",
       "      <td>5</td>\n",
       "      <td>pass</td>\n",
       "      <td>foot_right</td>\n",
       "      <td>Esme Beth Morgan</td>\n",
       "      <td>Esme Morgan</td>\n",
       "      <td>14</td>\n",
       "      <td>False</td>\n",
       "      <td>0</td>\n",
       "      <td>Substitute</td>\n",
       "      <td>12</td>\n",
       "      <td>Manchester City WFC</td>\n",
       "      <td>0.000763</td>\n",
       "      <td>0.002578</td>\n",
       "      <td>-0.001389</td>\n",
       "      <td>-0.001010</td>\n",
       "      <td>-0.002399</td>\n",
       "    </tr>\n",
       "    <tr>\n",
       "      <th>18515</th>\n",
       "      <td>3856040</td>\n",
       "      <td>c33b1ed4-5f74-4058-b0cc-140feaba7c06</td>\n",
       "      <td>3258</td>\n",
       "      <td>2</td>\n",
       "      <td>3041.0</td>\n",
       "      <td>746</td>\n",
       "      <td>4637.0</td>\n",
       "      <td>3.529412</td>\n",
       "      <td>29.696203</td>\n",
       "      <td>0.000000</td>\n",
       "      <td>0.000000</td>\n",
       "      <td>23</td>\n",
       "      <td>0</td>\n",
       "      <td>receival</td>\n",
       "      <td>foot</td>\n",
       "      <td>Ellie Roebuck</td>\n",
       "      <td>None</td>\n",
       "      <td>1</td>\n",
       "      <td>True</td>\n",
       "      <td>1</td>\n",
       "      <td>Goalkeeper</td>\n",
       "      <td>97</td>\n",
       "      <td>Manchester City WFC</td>\n",
       "      <td>0.001252</td>\n",
       "      <td>0.004574</td>\n",
       "      <td>0.000490</td>\n",
       "      <td>-0.001996</td>\n",
       "      <td>-0.001506</td>\n",
       "    </tr>\n",
       "    <tr>\n",
       "      <th>18516</th>\n",
       "      <td>3856040</td>\n",
       "      <td>52778e78-722d-44c4-99f4-8918fee40eec</td>\n",
       "      <td>3259</td>\n",
       "      <td>2</td>\n",
       "      <td>3042.0</td>\n",
       "      <td>746</td>\n",
       "      <td>4637.0</td>\n",
       "      <td>3.529412</td>\n",
       "      <td>29.696203</td>\n",
       "      <td>0.000000</td>\n",
       "      <td>0.000000</td>\n",
       "      <td>21</td>\n",
       "      <td>0</td>\n",
       "      <td>dribble</td>\n",
       "      <td>foot</td>\n",
       "      <td>Ellie Roebuck</td>\n",
       "      <td>None</td>\n",
       "      <td>1</td>\n",
       "      <td>True</td>\n",
       "      <td>1</td>\n",
       "      <td>Goalkeeper</td>\n",
       "      <td>97</td>\n",
       "      <td>Manchester City WFC</td>\n",
       "      <td>0.000825</td>\n",
       "      <td>0.005466</td>\n",
       "      <td>-0.000428</td>\n",
       "      <td>-0.000892</td>\n",
       "      <td>-0.001320</td>\n",
       "    </tr>\n",
       "    <tr>\n",
       "      <th>18517</th>\n",
       "      <td>3856040</td>\n",
       "      <td>b91dfe6b-a077-4060-8903-793a034df671</td>\n",
       "      <td>3260</td>\n",
       "      <td>2</td>\n",
       "      <td>3042.0</td>\n",
       "      <td>746</td>\n",
       "      <td>4637.0</td>\n",
       "      <td>3.529412</td>\n",
       "      <td>29.696203</td>\n",
       "      <td>19.235294</td>\n",
       "      <td>3.270886</td>\n",
       "      <td>0</td>\n",
       "      <td>5</td>\n",
       "      <td>pass</td>\n",
       "      <td>foot_right</td>\n",
       "      <td>Ellie Roebuck</td>\n",
       "      <td>None</td>\n",
       "      <td>1</td>\n",
       "      <td>True</td>\n",
       "      <td>1</td>\n",
       "      <td>Goalkeeper</td>\n",
       "      <td>97</td>\n",
       "      <td>Manchester City WFC</td>\n",
       "      <td>0.001573</td>\n",
       "      <td>0.003570</td>\n",
       "      <td>0.000749</td>\n",
       "      <td>0.001896</td>\n",
       "      <td>0.002644</td>\n",
       "    </tr>\n",
       "  </tbody>\n",
       "</table>\n",
       "<p>18518 rows × 28 columns</p>\n",
       "</div>"
      ],
      "text/plain": [
       "       game_id                     original_event_id  action_id  period_id  \\\n",
       "0      3852832  edbc9819-3d24-4c37-adc0-06949261903b          0          1   \n",
       "1      3852832  edbc9819-3d24-4c37-adc0-06949261903b          1          1   \n",
       "2      3852832  ce398ea2-769b-43d0-8911-a71d6ad7ce82          2          1   \n",
       "3      3852832  9fdba1c7-4244-43fd-b0fc-b6f944407c1f          3          1   \n",
       "4      3852832  9fdba1c7-4244-43fd-b0fc-b6f944407c1f          4          1   \n",
       "...        ...                                   ...        ...        ...   \n",
       "18513  3856040  a83836bd-cded-4d49-8156-6da7b6f4298d       3256          2   \n",
       "18514  3856040  c33b1ed4-5f74-4058-b0cc-140feaba7c06       3257          2   \n",
       "18515  3856040  c33b1ed4-5f74-4058-b0cc-140feaba7c06       3258          2   \n",
       "18516  3856040  52778e78-722d-44c4-99f4-8918fee40eec       3259          2   \n",
       "18517  3856040  b91dfe6b-a077-4060-8903-793a034df671       3260          2   \n",
       "\n",
       "       time_seconds  team_id  player_id          x          y         dx  \\\n",
       "0               0.0      746    25554.0  52.058824  34.430380 -13.764706   \n",
       "1               0.5      746    25632.0  38.294118  37.615190   0.000000   \n",
       "2               1.0      746    25632.0  38.294118  37.615190   1.235294   \n",
       "3               2.0      746    25632.0  39.529412  37.787342 -12.617647   \n",
       "4               2.5      746    10185.0  26.911765  20.830380   0.000000   \n",
       "...             ...      ...        ...        ...        ...        ...   \n",
       "18513        3040.0      746     4649.0   5.911765  18.420253   1.941176   \n",
       "18514        3040.0      746     4649.0   7.852941  18.420253  -4.323529   \n",
       "18515        3041.0      746     4637.0   3.529412  29.696203   0.000000   \n",
       "18516        3042.0      746     4637.0   3.529412  29.696203   0.000000   \n",
       "18517        3042.0      746     4637.0   3.529412  29.696203  19.235294   \n",
       "\n",
       "              dy  type_id  bodypart_id type_name bodypart_name  \\\n",
       "0       3.184810        0            5      pass    foot_right   \n",
       "1       0.000000       23            0  receival          foot   \n",
       "2       0.172152       21            0   dribble          foot   \n",
       "3     -16.956962        0            5      pass    foot_right   \n",
       "4       0.000000       23            0  receival          foot   \n",
       "...          ...      ...          ...       ...           ...   \n",
       "18513   0.000000       21            0   dribble          foot   \n",
       "18514  11.275949        0            5      pass    foot_right   \n",
       "18515   0.000000       23            0  receival          foot   \n",
       "18516   0.000000       21            0   dribble          foot   \n",
       "18517   3.270886        0            5      pass    foot_right   \n",
       "\n",
       "               player_name     nickname  jersey_number  is_starter  \\\n",
       "0      Khadija Monifa Shaw         None             21        True   \n",
       "1             Yui Hasegawa         None             25        True   \n",
       "2             Yui Hasegawa         None             25        True   \n",
       "3             Yui Hasegawa         None             25        True   \n",
       "4       Stephanie Houghton         None              6        True   \n",
       "...                    ...          ...            ...         ...   \n",
       "18513     Esme Beth Morgan  Esme Morgan             14       False   \n",
       "18514     Esme Beth Morgan  Esme Morgan             14       False   \n",
       "18515        Ellie Roebuck         None              1        True   \n",
       "18516        Ellie Roebuck         None              1        True   \n",
       "18517        Ellie Roebuck         None              1        True   \n",
       "\n",
       "       starting_position_id     starting_position_name  minutes_played  \\\n",
       "0                        23             Center Forward             100   \n",
       "1                        10  Center Defensive Midfield             100   \n",
       "2                        10  Center Defensive Midfield             100   \n",
       "3                        10  Center Defensive Midfield             100   \n",
       "4                         3          Right Center Back             100   \n",
       "...                     ...                        ...             ...   \n",
       "18513                     0                 Substitute              12   \n",
       "18514                     0                 Substitute              12   \n",
       "18515                     1                 Goalkeeper              97   \n",
       "18516                     1                 Goalkeeper              97   \n",
       "18517                     1                 Goalkeeper              97   \n",
       "\n",
       "                 team_name    scores  concedes  offensive_value  \\\n",
       "0      Manchester City WFC  0.000522  0.000555         0.000000   \n",
       "1      Manchester City WFC  0.000936  0.000758         0.000414   \n",
       "2      Manchester City WFC  0.001365  0.000901         0.000429   \n",
       "3      Manchester City WFC  0.000629  0.000602        -0.000736   \n",
       "4      Manchester City WFC  0.000753  0.000589         0.000124   \n",
       "...                    ...       ...       ...              ...   \n",
       "18513  Manchester City WFC  0.002152  0.001568         0.001254   \n",
       "18514  Manchester City WFC  0.000763  0.002578        -0.001389   \n",
       "18515  Manchester City WFC  0.001252  0.004574         0.000490   \n",
       "18516  Manchester City WFC  0.000825  0.005466        -0.000428   \n",
       "18517  Manchester City WFC  0.001573  0.003570         0.000749   \n",
       "\n",
       "       defensive_value  vaep_value  \n",
       "0            -0.000000    0.000000  \n",
       "1            -0.000203    0.000211  \n",
       "2            -0.000143    0.000286  \n",
       "3             0.000299   -0.000437  \n",
       "4             0.000013    0.000137  \n",
       "...                ...         ...  \n",
       "18513         0.000344    0.001597  \n",
       "18514        -0.001010   -0.002399  \n",
       "18515        -0.001996   -0.001506  \n",
       "18516        -0.000892   -0.001320  \n",
       "18517         0.001896    0.002644  \n",
       "\n",
       "[18518 rows x 28 columns]"
      ]
     },
     "execution_count": 17,
     "metadata": {},
     "output_type": "execute_result"
    }
   ],
   "source": [
    "#Compute VAEP values per action\n",
    "df_actions_vaep = []\n",
    "for game in tqdm.tqdm(list(df_games_city.itertuples()), desc=\"Loading actions\"):\n",
    "    actions = pd.read_hdf(spadl_h5, f\"atomic_actions/game_{game.game_id}\")\n",
    "    actions = (\n",
    "        atomicspadl.add_names(actions)\n",
    "        .merge(players, how=\"left\")\n",
    "        .merge(teams, how=\"left\",)\n",
    "        .sort_values([\"game_id\", \"period_id\", \"action_id\"])\n",
    "        .reset_index(drop=True)\n",
    "    )\n",
    "    preds = pd.read_hdf(predictions_h5, f\"game_{game.game_id}\")\n",
    "    values = vaepformula.value(actions, preds.scores, preds.concedes)\n",
    "    df_actions_vaep.append(pd.concat([actions, preds, values], axis=1))\n",
    "df_actions_vaep = pd.concat(df_actions_vaep).sort_values([\"game_id\", \"period_id\", \"time_seconds\"]).reset_index(drop=True)\n",
    "df_actions_vaep\n"
   ]
  },
  {
   "attachments": {},
   "cell_type": "markdown",
   "metadata": {},
   "source": [
    "## Use the position to specialized the VAEP <a id=\"position\"></a>"
   ]
  },
  {
   "cell_type": "code",
   "execution_count": 18,
   "metadata": {},
   "outputs": [
    {
     "data": {
      "text/plain": [
       "count    19.000000\n",
       "mean      0.680180\n",
       "std       0.127933\n",
       "min       0.466698\n",
       "25%       0.614366\n",
       "50%       0.650713\n",
       "75%       0.776564\n",
       "max       0.878507\n",
       "Name: offensive_value, dtype: float64"
      ]
     },
     "execution_count": 18,
     "metadata": {},
     "output_type": "execute_result"
    }
   ],
   "source": [
    "df_actions_vaep[df_actions_vaep.type_name == 'goal'][\"offensive_value\"].describe()"
   ]
  },
  {
   "cell_type": "code",
   "execution_count": 19,
   "metadata": {},
   "outputs": [
    {
     "data": {
      "text/plain": [
       "count    175.000000\n",
       "mean       0.065208\n",
       "std        0.073440\n",
       "min       -0.093760\n",
       "25%        0.023568\n",
       "50%        0.043097\n",
       "75%        0.093191\n",
       "max        0.479457\n",
       "Name: offensive_value, dtype: float64"
      ]
     },
     "execution_count": 19,
     "metadata": {},
     "output_type": "execute_result"
    }
   ],
   "source": [
    "df_actions_vaep[df_actions_vaep.type_name == 'shot'][\"offensive_value\"].describe()"
   ]
  },
  {
   "attachments": {},
   "cell_type": "markdown",
   "metadata": {},
   "source": [
    "The VAEP for a goal is really high compared to the other events. As we want to analyze the game of the player, we do not want a goal to make the VAEP skyrocks during a game. We are going to divide the offensive value"
   ]
  },
  {
   "cell_type": "code",
   "execution_count": 20,
   "metadata": {},
   "outputs": [],
   "source": [
    "df_actions_vaep[\"offensive_value\"] = df_actions_vaep.apply(\n",
    "    lambda x : x[\"offensive_value\"]/10 if x[\"type_name\"] == 'goal' else x[\"offensive_value\"], axis=1) "
   ]
  },
  {
   "attachments": {},
   "cell_type": "markdown",
   "metadata": {},
   "source": [
    "We are going to analyze the game with the real time played - so we do not have two '46mn', 1 for the extra-time in the 1st period and the other one at the beginning at the 2nd period. We are computing a \"real time in mn\" for this purpose"
   ]
  },
  {
   "cell_type": "code",
   "execution_count": 21,
   "metadata": {},
   "outputs": [],
   "source": [
    "# For every game, use a real time for every minute played\n",
    "list_to_concat = []\n",
    "for game_id in df_actions_vaep[\"game_id\"].unique():\n",
    "    df_game = df_actions_vaep[df_actions_vaep[\"game_id\"] == game_id]\n",
    "    df_game[\"real_time_mn\"] = df_game.apply(lambda x : round(x[\"time_seconds\"]/60, 3) if x[\"period_id\"] == 1 else None, axis=1) \n",
    "    max_time_first_period = df_game[\"real_time_mn\"].max()\n",
    "    df_game[\"real_time_mn\"] = df_game.apply(lambda x : round(x[\"time_seconds\"]/60 + max_time_first_period, 3) if x[\"period_id\"] == 2 else x[\"real_time_mn\"], axis=1) \n",
    "    df_game[\"round_real_time_mn\"] = df_game[\"real_time_mn\"].apply(ceil)\n",
    "    list_to_concat.append(df_game)\n",
    "\n",
    "df_actions_vaep = pd.concat(list_to_concat)"
   ]
  },
  {
   "cell_type": "code",
   "execution_count": 22,
   "metadata": {},
   "outputs": [],
   "source": [
    "# Add the positions by event\n",
    "list_to_concat = []\n",
    "for game_id in df_actions_vaep[\"game_id\"].unique():\n",
    "    df_events = SBL.events(game_id=game_id)\n",
    "    list_to_concat.append(df_events)\n",
    "\n",
    "df_events = pd.concat(list_to_concat)\n",
    "\n",
    "df_actions_vaep = df_actions_vaep.merge(df_events[[\"game_id\",\"event_id\", \"player_id\",\"position_name\"]].drop_duplicates(),\n",
    "            how='left', left_on=[\"game_id\",'original_event_id',\"player_id\"], right_on=['game_id',\"event_id\", \"player_id\"])\n"
   ]
  },
  {
   "cell_type": "code",
   "execution_count": 23,
   "metadata": {},
   "outputs": [],
   "source": [
    "# If the position name is not specified we take the starting position name\n",
    "df_actions_vaep.loc[\n",
    "    df_actions_vaep[\"position_name\"].isna(), \"position_name\"] = df_actions_vaep.loc[\n",
    "    df_actions_vaep[\"position_name\"].isna(), \"starting_position_name\"]\n",
    "\n",
    "# If there is no position name and the starting position name is substitute, do not specify a position name\n",
    "df_actions_vaep.loc[df_actions_vaep[\"position_name\"] == \"Substitute\", \"position_name\"] = np.NaN\n",
    "\n",
    "# If there is still no position, look at the common position of the player\n",
    "list_missing_position = df_actions_vaep[df_actions_vaep[\"position_name\"].isna()][\"player_id\"].unique()\n",
    "missing = df_events[[\"player_id\", \"position_name\"]].drop_duplicates()\n",
    "misssing = missing[missing[\"player_id\"].isin(list_missing_position)]\n",
    "missing = misssing.drop_duplicates(subset='player_id', keep=False)\n",
    "dict_missing = missing.set_index(\"player_id\").to_dict(\"index\")\n",
    "\n",
    "df_actions_vaep[\"position_name\"] = df_actions_vaep.apply(\n",
    "    lambda x : dict_missing[x[\"player_id\"]][\"position_name\"]\n",
    "    if (pd.isnull(x[\"position_name\"]) and x[\"player_id\"] in dict_missing.keys())\n",
    "    else x[\"position_name\"], axis=1)\n"
   ]
  },
  {
   "cell_type": "code",
   "execution_count": 24,
   "metadata": {},
   "outputs": [
    {
     "data": {
      "text/html": [
       "<div>\n",
       "<style scoped>\n",
       "    .dataframe tbody tr th:only-of-type {\n",
       "        vertical-align: middle;\n",
       "    }\n",
       "\n",
       "    .dataframe tbody tr th {\n",
       "        vertical-align: top;\n",
       "    }\n",
       "\n",
       "    .dataframe thead th {\n",
       "        text-align: right;\n",
       "    }\n",
       "</style>\n",
       "<table border=\"1\" class=\"dataframe\">\n",
       "  <thead>\n",
       "    <tr style=\"text-align: right;\">\n",
       "      <th></th>\n",
       "      <th>type_name</th>\n",
       "      <th>poste_type</th>\n",
       "      <th>offensive_value_mean</th>\n",
       "      <th>offensive_value_std</th>\n",
       "      <th>defensive_value_mean</th>\n",
       "      <th>defensive_value_std</th>\n",
       "    </tr>\n",
       "  </thead>\n",
       "  <tbody>\n",
       "    <tr>\n",
       "      <th>1</th>\n",
       "      <td>bad_touch</td>\n",
       "      <td>Defender</td>\n",
       "      <td>-0.008133</td>\n",
       "      <td>0.020782</td>\n",
       "      <td>-0.013119</td>\n",
       "      <td>0.084050</td>\n",
       "    </tr>\n",
       "    <tr>\n",
       "      <th>2</th>\n",
       "      <td>bad_touch</td>\n",
       "      <td>Forward</td>\n",
       "      <td>-0.012378</td>\n",
       "      <td>0.023891</td>\n",
       "      <td>-0.001613</td>\n",
       "      <td>0.019895</td>\n",
       "    </tr>\n",
       "    <tr>\n",
       "      <th>3</th>\n",
       "      <td>bad_touch</td>\n",
       "      <td>Goalkeeper</td>\n",
       "      <td>-0.000240</td>\n",
       "      <td>0.000176</td>\n",
       "      <td>-0.469585</td>\n",
       "      <td>0.346637</td>\n",
       "    </tr>\n",
       "    <tr>\n",
       "      <th>4</th>\n",
       "      <td>bad_touch</td>\n",
       "      <td>Midfield</td>\n",
       "      <td>-0.008805</td>\n",
       "      <td>0.018521</td>\n",
       "      <td>-0.002241</td>\n",
       "      <td>0.016161</td>\n",
       "    </tr>\n",
       "    <tr>\n",
       "      <th>5</th>\n",
       "      <td>clearance</td>\n",
       "      <td>Defender</td>\n",
       "      <td>0.000505</td>\n",
       "      <td>0.001339</td>\n",
       "      <td>0.001565</td>\n",
       "      <td>0.026696</td>\n",
       "    </tr>\n",
       "  </tbody>\n",
       "</table>\n",
       "</div>"
      ],
      "text/plain": [
       "   type_name  poste_type  offensive_value_mean  offensive_value_std  \\\n",
       "1  bad_touch    Defender             -0.008133             0.020782   \n",
       "2  bad_touch     Forward             -0.012378             0.023891   \n",
       "3  bad_touch  Goalkeeper             -0.000240             0.000176   \n",
       "4  bad_touch    Midfield             -0.008805             0.018521   \n",
       "5  clearance    Defender              0.000505             0.001339   \n",
       "\n",
       "   defensive_value_mean  defensive_value_std  \n",
       "1             -0.013119             0.084050  \n",
       "2             -0.001613             0.019895  \n",
       "3             -0.469585             0.346637  \n",
       "4             -0.002241             0.016161  \n",
       "5              0.001565             0.026696  "
      ]
     },
     "execution_count": 24,
     "metadata": {},
     "output_type": "execute_result"
    }
   ],
   "source": [
    "# Get the matrix computed previously\n",
    "matrix = pd.read_csv(\"matrice_vaep.csv\")\n",
    "matrix = matrix.drop(index=0).drop(columns=\"Unnamed: 0\")\n",
    "\n",
    "matrix.rename(columns={\n",
    "    \"offensive_value\" : \"offensive_value_mean\",\n",
    "    \"offensive_value.1\" : \"offensive_value_std\",\n",
    "    \"defensive_value\" : \"defensive_value_mean\",\n",
    "    \"defensive_value.1\" : \"defensive_value_std\",\n",
    "}, inplace=True)\n",
    "\n",
    "matrix = matrix.astype(\n",
    "    {\n",
    "    \"offensive_value_mean\" : float,\n",
    "    \"offensive_value_std\" : float,\n",
    "    \"defensive_value_mean\" : float,\n",
    "    \"defensive_value_std\" : float}\n",
    ")\n",
    "matrix.head()"
   ]
  },
  {
   "cell_type": "code",
   "execution_count": 25,
   "metadata": {},
   "outputs": [
    {
     "data": {
      "text/plain": [
       "{'type': 'Defender', 'offensive': 0.2, 'defensive': 0.8}"
      ]
     },
     "execution_count": 25,
     "metadata": {},
     "output_type": "execute_result"
    }
   ],
   "source": [
    "# Weight the offensive and defensive values regarding the position of the name\n",
    "value_poste = pd.read_csv(\"poste.csv\", sep=\";\").set_index(\"position_name\").to_dict(\"index\")\n",
    "value_poste[\"Center Back\"]"
   ]
  },
  {
   "cell_type": "code",
   "execution_count": 26,
   "metadata": {},
   "outputs": [
    {
     "data": {
      "text/html": [
       "<div>\n",
       "<style scoped>\n",
       "    .dataframe tbody tr th:only-of-type {\n",
       "        vertical-align: middle;\n",
       "    }\n",
       "\n",
       "    .dataframe tbody tr th {\n",
       "        vertical-align: top;\n",
       "    }\n",
       "\n",
       "    .dataframe thead th {\n",
       "        text-align: right;\n",
       "    }\n",
       "</style>\n",
       "<table border=\"1\" class=\"dataframe\">\n",
       "  <thead>\n",
       "    <tr style=\"text-align: right;\">\n",
       "      <th></th>\n",
       "      <th>game_id</th>\n",
       "      <th>player_name</th>\n",
       "      <th>position_name</th>\n",
       "      <th>poste_type</th>\n",
       "    </tr>\n",
       "  </thead>\n",
       "  <tbody>\n",
       "    <tr>\n",
       "      <th>7645</th>\n",
       "      <td>3855961</td>\n",
       "      <td>Laura Coombs</td>\n",
       "      <td>Left Center Midfield</td>\n",
       "      <td>Midfield</td>\n",
       "    </tr>\n",
       "    <tr>\n",
       "      <th>10445</th>\n",
       "      <td>3855980</td>\n",
       "      <td>Katie Robinson</td>\n",
       "      <td>Right Midfield</td>\n",
       "      <td>Midfield</td>\n",
       "    </tr>\n",
       "    <tr>\n",
       "      <th>1008</th>\n",
       "      <td>3852832</td>\n",
       "      <td>Laia Aleixandri López</td>\n",
       "      <td>Left Back</td>\n",
       "      <td>Defender</td>\n",
       "    </tr>\n",
       "  </tbody>\n",
       "</table>\n",
       "</div>"
      ],
      "text/plain": [
       "       game_id            player_name         position_name poste_type\n",
       "7645   3855961           Laura Coombs  Left Center Midfield   Midfield\n",
       "10445  3855980         Katie Robinson        Right Midfield   Midfield\n",
       "1008   3852832  Laia Aleixandri López             Left Back   Defender"
      ]
     },
     "execution_count": 26,
     "metadata": {},
     "output_type": "execute_result"
    }
   ],
   "source": [
    "df_actions_vaep[\"poste_type\"] = df_actions_vaep[\"position_name\"].apply(lambda x : value_poste[x][\"type\"] if not pd.isnull(x) else None)\n",
    "df_actions_vaep[[\"game_id\", \"player_name\", \"position_name\", \"poste_type\"]].sample(3)"
   ]
  },
  {
   "cell_type": "code",
   "execution_count": 27,
   "metadata": {},
   "outputs": [],
   "source": [
    "# Add the distribution information to the dataframe\n",
    "df_actions_vaep = df_actions_vaep.merge(matrix, how='left', on=[\"poste_type\", \"type_name\"])"
   ]
  },
  {
   "cell_type": "code",
   "execution_count": 28,
   "metadata": {},
   "outputs": [],
   "source": [
    "# Adjust the offensive and defensive values of the events regarding the distribution\n",
    "df_actions_vaep[\"adjusted_offensive\"] = (\n",
    "    (df_actions_vaep[\"offensive_value\"] - df_actions_vaep[\"offensive_value_mean\"]) / (df_actions_vaep[\"offensive_value_std\"]))\n",
    "df_actions_vaep[\"adjusted_defensive\"] = (\n",
    "    (df_actions_vaep[\"defensive_value\"] - df_actions_vaep[\"defensive_value_mean\"]) / (df_actions_vaep[\"defensive_value_std\"]))"
   ]
  },
  {
   "cell_type": "code",
   "execution_count": 29,
   "metadata": {},
   "outputs": [],
   "source": [
    "# Adjust the offensive and defensive values of the events regarding the roles they have\n",
    "df_actions_vaep[\"offensive_part\"] = df_actions_vaep[\"position_name\"].apply(\n",
    "                lambda x : value_poste[x][\"offensive\"] if not pd.isnull(x) else None)\n",
    "df_actions_vaep[\"defensive_part\"] = df_actions_vaep[\"position_name\"].apply(\n",
    "                lambda x : value_poste[x][\"defensive\"] if not pd.isnull(x) else None)"
   ]
  },
  {
   "cell_type": "code",
   "execution_count": 30,
   "metadata": {},
   "outputs": [],
   "source": [
    "# Create an adjusted VAEP \n",
    "df_actions_vaep[\"adjusted_vaep\"] = df_actions_vaep.apply(lambda x : \n",
    "                    ((x[\"offensive_part\"] * x[\"adjusted_offensive\"]) + (x[\"defensive_part\"] * x[\"adjusted_defensive\"])) , axis=1)"
   ]
  },
  {
   "attachments": {},
   "cell_type": "markdown",
   "metadata": {},
   "source": [
    "## Analysing a game <a id=\"analyse\"></a>"
   ]
  },
  {
   "cell_type": "code",
   "execution_count": 31,
   "metadata": {},
   "outputs": [],
   "source": [
    "# Divinding the data between the preivous games and the arsenal game\n",
    "df_previous_games = df_actions_vaep[df_actions_vaep[\"game_id\"] != game_arsenal_id]\n",
    "df_arsenal_game = df_actions_vaep[df_actions_vaep[\"game_id\"] == game_arsenal_id]"
   ]
  },
  {
   "cell_type": "code",
   "execution_count": 32,
   "metadata": {},
   "outputs": [
    {
     "data": {
      "text/plain": [
       "51.067"
      ]
     },
     "execution_count": 32,
     "metadata": {},
     "output_type": "execute_result"
    }
   ],
   "source": [
    "a = df_arsenal_game[df_arsenal_game.period_id == 1].iloc[-1][\"real_time_mn\"]\n",
    "a"
   ]
  },
  {
   "cell_type": "code",
   "execution_count": 33,
   "metadata": {},
   "outputs": [],
   "source": [
    "def compute_cumulative_vaep(df_game:pd.DataFrame) -> pd.DataFrame:\n",
    "    \"\"\"\n",
    "    Compute the cumulative adjusted vaep of a game\n",
    "\n",
    "    Arg: df_game (pd.DataFrame)\n",
    "    Returns: pd.DataFrame: \n",
    "    \"\"\"\n",
    "    \n",
    "    list_calcul_by_mn = []\n",
    "    tmp_final_match = df_game[\"real_time_mn\"].iloc[-1]\n",
    "\n",
    "    for time in range(3, ceil(tmp_final_match)+1, 1):\n",
    "\n",
    "        end_of_1st = df_game[df_game.period_id == 1].iloc[-1][\"real_time_mn\"]\n",
    "\n",
    "        df_game_time = df_game[df_game[\"real_time_mn\"] < time]\n",
    "    \n",
    "        # Compute each player's number of actions and total VAEP values\n",
    "        playersR = (\n",
    "            df_game_time[[\"game_id\", \"player_id\",\"jersey_number\", \"team_name\",\"adjusted_vaep\"]]\n",
    "            .groupby([\"player_id\", \"jersey_number\",\"team_name\",\"game_id\"])\n",
    "            .sum()\n",
    "            .reset_index()\n",
    "        )\n",
    "        # Add player names\n",
    "        playersR = playersR.merge(players[players.game_id == game_arsenal_id]\n",
    "                                [[\"player_id\", \"player_name\", \"is_starter\",\"minutes_played\"]].drop_duplicates()\n",
    "                                , how=\"left\")\n",
    "        \n",
    "        # Work on a visual clock time\n",
    "        period = df_game_time[\"period_id\"].iloc[-1]\n",
    "\n",
    "        playersR[\"time\"] = time\n",
    "        playersR[\"period\"] = period\n",
    "        \n",
    "        list_calcul_by_mn.append(playersR)\n",
    "\n",
    "    calcul_by_mn = pd.concat(list_calcul_by_mn)\n",
    "\n",
    "    # Change time format\n",
    "    calcul_by_mn['official_clock'] = np.where(calcul_by_mn['period'] == 1,\n",
    "                        np.where(calcul_by_mn['time'] > 45,\n",
    "                                calcul_by_mn['time'].apply(lambda x: str(45) + \"'+\" + str(x - 45)),\n",
    "                                calcul_by_mn['time'].astype(str)\n",
    "                        ), \n",
    "                        np.where(calcul_by_mn['time'] > 45 + end_of_1st,\n",
    "                                calcul_by_mn['time'].apply(lambda x: str(90) + \"'+\" + str(round(x - end_of_1st-45))),\n",
    "                                calcul_by_mn['time'].apply(lambda x: str(round(x-end_of_1st)+45))\n",
    "                        ),\n",
    "                        )\n",
    "    return calcul_by_mn"
   ]
  },
  {
   "attachments": {},
   "cell_type": "markdown",
   "metadata": {},
   "source": [
    "The 5 previous games"
   ]
  },
  {
   "cell_type": "code",
   "execution_count": 34,
   "metadata": {},
   "outputs": [
    {
     "data": {
      "text/html": [
       "<div>\n",
       "<style scoped>\n",
       "    .dataframe tbody tr th:only-of-type {\n",
       "        vertical-align: middle;\n",
       "    }\n",
       "\n",
       "    .dataframe tbody tr th {\n",
       "        vertical-align: top;\n",
       "    }\n",
       "\n",
       "    .dataframe thead th {\n",
       "        text-align: right;\n",
       "    }\n",
       "</style>\n",
       "<table border=\"1\" class=\"dataframe\">\n",
       "  <thead>\n",
       "    <tr style=\"text-align: right;\">\n",
       "      <th></th>\n",
       "      <th>player_id</th>\n",
       "      <th>jersey_number</th>\n",
       "      <th>team_name</th>\n",
       "      <th>game_id</th>\n",
       "      <th>adjusted_vaep</th>\n",
       "      <th>player_name</th>\n",
       "      <th>is_starter</th>\n",
       "      <th>minutes_played</th>\n",
       "      <th>time</th>\n",
       "      <th>period</th>\n",
       "      <th>official_clock</th>\n",
       "    </tr>\n",
       "  </thead>\n",
       "  <tbody>\n",
       "    <tr>\n",
       "      <th>17</th>\n",
       "      <td>32210.0</td>\n",
       "      <td>4</td>\n",
       "      <td>Manchester City WFC</td>\n",
       "      <td>3855961</td>\n",
       "      <td>-6.177066</td>\n",
       "      <td>Laia Aleixandri López</td>\n",
       "      <td>True</td>\n",
       "      <td>100.0</td>\n",
       "      <td>28</td>\n",
       "      <td>1</td>\n",
       "      <td>28</td>\n",
       "    </tr>\n",
       "    <tr>\n",
       "      <th>7</th>\n",
       "      <td>15421.0</td>\n",
       "      <td>10</td>\n",
       "      <td>Aston Villa</td>\n",
       "      <td>3856030</td>\n",
       "      <td>-0.885153</td>\n",
       "      <td>NaN</td>\n",
       "      <td>NaN</td>\n",
       "      <td>NaN</td>\n",
       "      <td>6</td>\n",
       "      <td>1</td>\n",
       "      <td>6</td>\n",
       "    </tr>\n",
       "    <tr>\n",
       "      <th>1</th>\n",
       "      <td>4649.0</td>\n",
       "      <td>14</td>\n",
       "      <td>Manchester City WFC</td>\n",
       "      <td>3855947</td>\n",
       "      <td>-1.309512</td>\n",
       "      <td>NaN</td>\n",
       "      <td>NaN</td>\n",
       "      <td>NaN</td>\n",
       "      <td>5</td>\n",
       "      <td>1</td>\n",
       "      <td>5</td>\n",
       "    </tr>\n",
       "  </tbody>\n",
       "</table>\n",
       "</div>"
      ],
      "text/plain": [
       "    player_id  jersey_number            team_name  game_id  adjusted_vaep  \\\n",
       "17    32210.0              4  Manchester City WFC  3855961      -6.177066   \n",
       "7     15421.0             10          Aston Villa  3856030      -0.885153   \n",
       "1      4649.0             14  Manchester City WFC  3855947      -1.309512   \n",
       "\n",
       "              player_name is_starter  minutes_played  time  period  \\\n",
       "17  Laia Aleixandri López       True           100.0    28       1   \n",
       "7                     NaN        NaN             NaN     6       1   \n",
       "1                     NaN        NaN             NaN     5       1   \n",
       "\n",
       "   official_clock  \n",
       "17             28  \n",
       "7               6  \n",
       "1               5  "
      ]
     },
     "execution_count": 34,
     "metadata": {},
     "output_type": "execute_result"
    }
   ],
   "source": [
    "list_to_concat = []\n",
    "\n",
    "for game_id in df_previous_games.game_id.unique():\n",
    "    df_game = df_previous_games[df_previous_games.game_id == game_id]\n",
    "    df = compute_cumulative_vaep(df_game)\n",
    "    list_to_concat.append(df)\n",
    "\n",
    "df = pd.concat(list_to_concat)\n",
    "df.sample(3)"
   ]
  },
  {
   "cell_type": "code",
   "execution_count": 35,
   "metadata": {},
   "outputs": [
    {
     "data": {
      "text/html": [
       "<div>\n",
       "<style scoped>\n",
       "    .dataframe tbody tr th:only-of-type {\n",
       "        vertical-align: middle;\n",
       "    }\n",
       "\n",
       "    .dataframe tbody tr th {\n",
       "        vertical-align: top;\n",
       "    }\n",
       "\n",
       "    .dataframe thead th {\n",
       "        text-align: right;\n",
       "    }\n",
       "</style>\n",
       "<table border=\"1\" class=\"dataframe\">\n",
       "  <thead>\n",
       "    <tr style=\"text-align: right;\">\n",
       "      <th></th>\n",
       "      <th>player_name</th>\n",
       "      <th>player_id</th>\n",
       "      <th>team_name</th>\n",
       "      <th>time</th>\n",
       "      <th>adjusted_vaep</th>\n",
       "    </tr>\n",
       "  </thead>\n",
       "  <tbody>\n",
       "    <tr>\n",
       "      <th>0</th>\n",
       "      <td>Alex Greenwood</td>\n",
       "      <td>10252.0</td>\n",
       "      <td>Manchester City WFC</td>\n",
       "      <td>3</td>\n",
       "      <td>-0.278111</td>\n",
       "    </tr>\n",
       "    <tr>\n",
       "      <th>1</th>\n",
       "      <td>Alex Greenwood</td>\n",
       "      <td>10252.0</td>\n",
       "      <td>Manchester City WFC</td>\n",
       "      <td>4</td>\n",
       "      <td>-0.441717</td>\n",
       "    </tr>\n",
       "    <tr>\n",
       "      <th>2</th>\n",
       "      <td>Alex Greenwood</td>\n",
       "      <td>10252.0</td>\n",
       "      <td>Manchester City WFC</td>\n",
       "      <td>5</td>\n",
       "      <td>-0.703733</td>\n",
       "    </tr>\n",
       "    <tr>\n",
       "      <th>3</th>\n",
       "      <td>Alex Greenwood</td>\n",
       "      <td>10252.0</td>\n",
       "      <td>Manchester City WFC</td>\n",
       "      <td>6</td>\n",
       "      <td>-0.726911</td>\n",
       "    </tr>\n",
       "    <tr>\n",
       "      <th>4</th>\n",
       "      <td>Alex Greenwood</td>\n",
       "      <td>10252.0</td>\n",
       "      <td>Manchester City WFC</td>\n",
       "      <td>7</td>\n",
       "      <td>-1.184834</td>\n",
       "    </tr>\n",
       "    <tr>\n",
       "      <th>...</th>\n",
       "      <td>...</td>\n",
       "      <td>...</td>\n",
       "      <td>...</td>\n",
       "      <td>...</td>\n",
       "      <td>...</td>\n",
       "    </tr>\n",
       "    <tr>\n",
       "      <th>1110</th>\n",
       "      <td>Yui Hasegawa</td>\n",
       "      <td>25632.0</td>\n",
       "      <td>Manchester City WFC</td>\n",
       "      <td>96</td>\n",
       "      <td>-11.347006</td>\n",
       "    </tr>\n",
       "    <tr>\n",
       "      <th>1111</th>\n",
       "      <td>Yui Hasegawa</td>\n",
       "      <td>25632.0</td>\n",
       "      <td>Manchester City WFC</td>\n",
       "      <td>97</td>\n",
       "      <td>-11.254228</td>\n",
       "    </tr>\n",
       "    <tr>\n",
       "      <th>1112</th>\n",
       "      <td>Yui Hasegawa</td>\n",
       "      <td>25632.0</td>\n",
       "      <td>Manchester City WFC</td>\n",
       "      <td>98</td>\n",
       "      <td>-15.281961</td>\n",
       "    </tr>\n",
       "    <tr>\n",
       "      <th>1113</th>\n",
       "      <td>Yui Hasegawa</td>\n",
       "      <td>25632.0</td>\n",
       "      <td>Manchester City WFC</td>\n",
       "      <td>99</td>\n",
       "      <td>-14.579383</td>\n",
       "    </tr>\n",
       "    <tr>\n",
       "      <th>1114</th>\n",
       "      <td>Yui Hasegawa</td>\n",
       "      <td>25632.0</td>\n",
       "      <td>Manchester City WFC</td>\n",
       "      <td>100</td>\n",
       "      <td>-14.579383</td>\n",
       "    </tr>\n",
       "  </tbody>\n",
       "</table>\n",
       "<p>1115 rows × 5 columns</p>\n",
       "</div>"
      ],
      "text/plain": [
       "         player_name  player_id            team_name  time  adjusted_vaep\n",
       "0     Alex Greenwood    10252.0  Manchester City WFC     3      -0.278111\n",
       "1     Alex Greenwood    10252.0  Manchester City WFC     4      -0.441717\n",
       "2     Alex Greenwood    10252.0  Manchester City WFC     5      -0.703733\n",
       "3     Alex Greenwood    10252.0  Manchester City WFC     6      -0.726911\n",
       "4     Alex Greenwood    10252.0  Manchester City WFC     7      -1.184834\n",
       "...              ...        ...                  ...   ...            ...\n",
       "1110    Yui Hasegawa    25632.0  Manchester City WFC    96     -11.347006\n",
       "1111    Yui Hasegawa    25632.0  Manchester City WFC    97     -11.254228\n",
       "1112    Yui Hasegawa    25632.0  Manchester City WFC    98     -15.281961\n",
       "1113    Yui Hasegawa    25632.0  Manchester City WFC    99     -14.579383\n",
       "1114    Yui Hasegawa    25632.0  Manchester City WFC   100     -14.579383\n",
       "\n",
       "[1115 rows x 5 columns]"
      ]
     },
     "execution_count": 35,
     "metadata": {},
     "output_type": "execute_result"
    }
   ],
   "source": [
    "# Analyzing mn par mn what the players did\n",
    "df_previous_games_grouped = df.groupby([\"player_name\",\"player_id\",\"team_name\",\"time\"]).mean()[[\"adjusted_vaep\"]]\n",
    "df_previous_games_grouped = df_previous_games_grouped.reset_index()\n",
    "df_previous_games_grouped"
   ]
  },
  {
   "cell_type": "code",
   "execution_count": 36,
   "metadata": {},
   "outputs": [],
   "source": [
    "df_previous_games_grouped.to_csv(\"export/other_games_grouped_cumulative_vaep.csv\", index=False)"
   ]
  },
  {
   "attachments": {},
   "cell_type": "markdown",
   "metadata": {},
   "source": [
    "Arsenal game -  Computed the cumulative VAEP per minute played"
   ]
  },
  {
   "cell_type": "code",
   "execution_count": 37,
   "metadata": {},
   "outputs": [],
   "source": [
    "arsenal_data = compute_cumulative_vaep(df_arsenal_game)"
   ]
  },
  {
   "cell_type": "code",
   "execution_count": 38,
   "metadata": {},
   "outputs": [],
   "source": [
    "arsenal_data.to_csv(\"export/arsenal_game_cumulative_vaep.csv\", index=False)"
   ]
  },
  {
   "attachments": {},
   "cell_type": "markdown",
   "metadata": {},
   "source": [
    "Gather data in one graph"
   ]
  },
  {
   "cell_type": "code",
   "execution_count": 39,
   "metadata": {},
   "outputs": [],
   "source": [
    "def trace_player(player:str, df_games:pd.DataFrame, df_previous_games_grouped:pd.DataFrame):\n",
    "    df_previous = df_previous_games_grouped[df_previous_games_grouped[\"player_name\"] == player]\n",
    "    df_game = df_games[df_games[\"player_name\"] == player]\n",
    "\n",
    "    fig = go.Figure(\n",
    "        data =[\n",
    "            {'x': df_game.time, 'y': df_game.adjusted_vaep, 'name' : \"Arsenal Game\"},\n",
    "            {'x': df_previous.time, 'y': df_previous.adjusted_vaep, 'name' : \"Mean\"}\n",
    "            ],\n",
    "        layout=go.Layout(\n",
    "            title=go.layout.Title(text=player)))\n",
    "    fig.show()"
   ]
  },
  {
   "cell_type": "code",
   "execution_count": 40,
   "metadata": {},
   "outputs": [
    {
     "data": {
      "application/vnd.plotly.v1+json": {
       "config": {
        "plotlyServerURL": "https://plot.ly"
       },
       "data": [
        {
         "name": "Arsenal Game",
         "type": "scatter",
         "x": [
          3,
          4,
          5,
          6,
          7,
          8,
          9,
          10,
          11,
          12,
          13,
          14,
          15,
          16,
          17,
          18,
          19,
          20,
          21,
          22,
          23,
          24,
          25,
          26,
          27,
          28,
          29,
          30,
          31,
          32,
          33,
          34,
          35,
          36,
          37,
          38,
          39,
          40,
          41,
          42,
          43,
          44,
          45,
          46,
          47,
          48,
          49,
          50,
          51,
          52,
          53,
          54,
          55,
          56,
          57,
          58,
          59,
          60,
          61,
          62,
          63,
          64,
          65,
          66,
          67,
          68,
          69,
          70,
          71,
          72,
          73,
          74,
          75,
          76,
          77,
          78,
          79,
          80,
          81,
          82,
          83,
          84,
          85,
          86,
          87,
          88,
          89,
          90,
          91,
          92,
          93,
          94,
          95,
          96,
          97,
          98,
          99,
          100,
          101
         ],
         "y": [
          0.6536323226670433,
          0.7933795036352054,
          0.7933795036352054,
          0.7933795036352054,
          0.7933795036352054,
          -1.0639889198693402,
          -1.0639889198693402,
          -1.1949051466912488,
          -1.1949051466912488,
          -1.1949051466912488,
          -1.1366240111610728,
          -1.1366240111610728,
          -1.1366240111610728,
          -1.5176756858710967,
          -0.9072250876811638,
          -0.9072250876811638,
          -0.9072250876811638,
          -0.7558373120749962,
          -0.7558373120749962,
          -0.7558373120749962,
          -0.7558373120749962,
          -0.7558373120749962,
          -0.7558373120749962,
          -0.7558373120749962,
          -0.4338244867201372,
          1.6490068426056639,
          1.6490068426056639,
          0.9978484631961232,
          0.9978484631961232,
          3.190099619591983,
          3.190099619591983,
          3.190099619591983,
          3.190099619591983,
          4.752410122746162,
          4.17372008585258,
          4.17372008585258,
          4.17372008585258,
          4.17372008585258,
          4.17372008585258,
          3.7254826782441524,
          7.348692858728509,
          7.348692858728509,
          7.348692858728509,
          7.348692858728509,
          7.348692858728509,
          7.348692858728509,
          7.348692858728509,
          7.348692858728509,
          7.782621234354633,
          7.782621234354633,
          7.782621234354633,
          7.782621234354633,
          6.396943658287656,
          6.326457211056555,
          5.680521930986874,
          6.143231018914719,
          6.0817481368351,
          6.0817481368351,
          5.726909319717427,
          5.726909319717427,
          10.188059020273911,
          10.188059020273911,
          10.188059020273911,
          10.188059020273911,
          11.388726887990115,
          10.64578232655052,
          10.64578232655052,
          10.64578232655052,
          10.64578232655052,
          11.006805877814147,
          10.855788013669716,
          10.436461122170199,
          11.786222546345178,
          11.786222546345178,
          11.786222546345178,
          11.786222546345178,
          11.786222546345178,
          11.786222546345178,
          11.786222546345178,
          12.23671727127584,
          11.500330568138716,
          0.3735193486141348,
          -1.4877755538494617,
          -1.4877755538494617,
          -1.4877755538494617,
          -1.4877755538494617,
          -1.7014648307592242,
          -1.13296081362645,
          -1.13296081362645,
          -1.13296081362645,
          -1.13296081362645,
          -1.13296081362645,
          -1.13296081362645,
          -1.13296081362645,
          -1.13296081362645,
          -1.13296081362645,
          -1.13296081362645,
          -1.13296081362645,
          -1.13296081362645
         ]
        },
        {
         "name": "Mean",
         "type": "scatter",
         "x": [
          3,
          4,
          5,
          6,
          7,
          8,
          9,
          10,
          11,
          12,
          13,
          14,
          15,
          16,
          17,
          18,
          19,
          20,
          21,
          22,
          23,
          24,
          25,
          26,
          27,
          28,
          29,
          30,
          31,
          32,
          33,
          34,
          35,
          36,
          37,
          38,
          39,
          40,
          41,
          42,
          43,
          44,
          45,
          46,
          47,
          48,
          49,
          50,
          51,
          52,
          53,
          54,
          55,
          56,
          57,
          58,
          59,
          60,
          61,
          62,
          63,
          64,
          65,
          66,
          67,
          68,
          69,
          70,
          71,
          72,
          73,
          74,
          75,
          76,
          77,
          78,
          79,
          80,
          81,
          82,
          83,
          84,
          85,
          86,
          87,
          88,
          89,
          90,
          91,
          92,
          93,
          94,
          95,
          96,
          97,
          98,
          99,
          100
         ],
         "y": [
          -1.3227794149024217,
          -1.6316286385526038,
          -1.6985611096369913,
          -2.0953674995401554,
          -2.1468680490079968,
          -2.078437983921715,
          -1.2693027410542554,
          -1.3843051189837026,
          -1.098065732515717,
          -1.3590267695698004,
          -1.377075012736084,
          -1.2253811607817657,
          -1.187568541964244,
          -1.1202841771080776,
          -1.587391801754,
          -1.9345728203862897,
          -1.9098491900589845,
          -1.6684390559082936,
          -1.678871604448064,
          -1.6792062108491232,
          -1.647439281281029,
          -1.4328071160344436,
          -0.686552164732906,
          -0.8485485337598238,
          -0.8485485337598238,
          -0.9732609020903201,
          -1.0125824678206843,
          -0.7876379747001312,
          -0.8005235027673805,
          -0.757801157537844,
          -0.492075248122931,
          -0.48179631470287604,
          -1.08681777827158,
          0.13928564179995284,
          0.06043880924839797,
          -0.0976661502449467,
          -0.3760314651167331,
          -0.587734113487679,
          -0.6594251253548501,
          -1.1837277393927168,
          -1.3592570100621661,
          -1.4219936573787755,
          -1.6774428417373908,
          -1.6774428417373908,
          -2.36864270857705,
          -2.4484721010187376,
          -2.3493200222908657,
          -2.288680194368039,
          -2.4687578091652744,
          -2.308714864362942,
          -2.083805559971894,
          -2.086267912113137,
          -2.2069424624735405,
          -2.294216352042789,
          -1.2967893604854364,
          -0.8703749975106903,
          -0.28933087900602883,
          -0.4750839956660375,
          -0.7910055819049177,
          -0.8149398644699699,
          -0.8061670960904224,
          -0.7252588409819601,
          -0.9581480499275742,
          -0.9206800221453317,
          -1.0878964693022304,
          -1.3143921957850995,
          -1.3519032866872984,
          -1.3846169781120852,
          -1.1989600337442998,
          -0.6952433856846154,
          -0.7952359698997287,
          -1.0405872650840278,
          -1.050770663870121,
          -1.050770663870121,
          -1.0878114620939099,
          -1.1965162772429925,
          -1.1965162772429925,
          -1.1965162772429925,
          -1.2866176850368691,
          -1.3498148502331335,
          -1.2736148008732981,
          -1.2736148008732981,
          -1.2736148008732981,
          -1.2736148008732981,
          -1.2736148008732981,
          -1.3784682249976326,
          -1.448998485704337,
          -1.5790462180567866,
          -1.5790462180567866,
          -1.5601133326463517,
          -1.6524480314499777,
          -1.7374135614409163,
          -1.7374135614409163,
          -1.831232612071485,
          -7.599286209136544,
          -10.216489718696218,
          -6.0657293032560675,
          -6.0657293032560675
         ]
        }
       ],
       "layout": {
        "template": {
         "data": {
          "bar": [
           {
            "error_x": {
             "color": "#2a3f5f"
            },
            "error_y": {
             "color": "#2a3f5f"
            },
            "marker": {
             "line": {
              "color": "#E5ECF6",
              "width": 0.5
             },
             "pattern": {
              "fillmode": "overlay",
              "size": 10,
              "solidity": 0.2
             }
            },
            "type": "bar"
           }
          ],
          "barpolar": [
           {
            "marker": {
             "line": {
              "color": "#E5ECF6",
              "width": 0.5
             },
             "pattern": {
              "fillmode": "overlay",
              "size": 10,
              "solidity": 0.2
             }
            },
            "type": "barpolar"
           }
          ],
          "carpet": [
           {
            "aaxis": {
             "endlinecolor": "#2a3f5f",
             "gridcolor": "white",
             "linecolor": "white",
             "minorgridcolor": "white",
             "startlinecolor": "#2a3f5f"
            },
            "baxis": {
             "endlinecolor": "#2a3f5f",
             "gridcolor": "white",
             "linecolor": "white",
             "minorgridcolor": "white",
             "startlinecolor": "#2a3f5f"
            },
            "type": "carpet"
           }
          ],
          "choropleth": [
           {
            "colorbar": {
             "outlinewidth": 0,
             "ticks": ""
            },
            "type": "choropleth"
           }
          ],
          "contour": [
           {
            "colorbar": {
             "outlinewidth": 0,
             "ticks": ""
            },
            "colorscale": [
             [
              0,
              "#0d0887"
             ],
             [
              0.1111111111111111,
              "#46039f"
             ],
             [
              0.2222222222222222,
              "#7201a8"
             ],
             [
              0.3333333333333333,
              "#9c179e"
             ],
             [
              0.4444444444444444,
              "#bd3786"
             ],
             [
              0.5555555555555556,
              "#d8576b"
             ],
             [
              0.6666666666666666,
              "#ed7953"
             ],
             [
              0.7777777777777778,
              "#fb9f3a"
             ],
             [
              0.8888888888888888,
              "#fdca26"
             ],
             [
              1,
              "#f0f921"
             ]
            ],
            "type": "contour"
           }
          ],
          "contourcarpet": [
           {
            "colorbar": {
             "outlinewidth": 0,
             "ticks": ""
            },
            "type": "contourcarpet"
           }
          ],
          "heatmap": [
           {
            "colorbar": {
             "outlinewidth": 0,
             "ticks": ""
            },
            "colorscale": [
             [
              0,
              "#0d0887"
             ],
             [
              0.1111111111111111,
              "#46039f"
             ],
             [
              0.2222222222222222,
              "#7201a8"
             ],
             [
              0.3333333333333333,
              "#9c179e"
             ],
             [
              0.4444444444444444,
              "#bd3786"
             ],
             [
              0.5555555555555556,
              "#d8576b"
             ],
             [
              0.6666666666666666,
              "#ed7953"
             ],
             [
              0.7777777777777778,
              "#fb9f3a"
             ],
             [
              0.8888888888888888,
              "#fdca26"
             ],
             [
              1,
              "#f0f921"
             ]
            ],
            "type": "heatmap"
           }
          ],
          "heatmapgl": [
           {
            "colorbar": {
             "outlinewidth": 0,
             "ticks": ""
            },
            "colorscale": [
             [
              0,
              "#0d0887"
             ],
             [
              0.1111111111111111,
              "#46039f"
             ],
             [
              0.2222222222222222,
              "#7201a8"
             ],
             [
              0.3333333333333333,
              "#9c179e"
             ],
             [
              0.4444444444444444,
              "#bd3786"
             ],
             [
              0.5555555555555556,
              "#d8576b"
             ],
             [
              0.6666666666666666,
              "#ed7953"
             ],
             [
              0.7777777777777778,
              "#fb9f3a"
             ],
             [
              0.8888888888888888,
              "#fdca26"
             ],
             [
              1,
              "#f0f921"
             ]
            ],
            "type": "heatmapgl"
           }
          ],
          "histogram": [
           {
            "marker": {
             "pattern": {
              "fillmode": "overlay",
              "size": 10,
              "solidity": 0.2
             }
            },
            "type": "histogram"
           }
          ],
          "histogram2d": [
           {
            "colorbar": {
             "outlinewidth": 0,
             "ticks": ""
            },
            "colorscale": [
             [
              0,
              "#0d0887"
             ],
             [
              0.1111111111111111,
              "#46039f"
             ],
             [
              0.2222222222222222,
              "#7201a8"
             ],
             [
              0.3333333333333333,
              "#9c179e"
             ],
             [
              0.4444444444444444,
              "#bd3786"
             ],
             [
              0.5555555555555556,
              "#d8576b"
             ],
             [
              0.6666666666666666,
              "#ed7953"
             ],
             [
              0.7777777777777778,
              "#fb9f3a"
             ],
             [
              0.8888888888888888,
              "#fdca26"
             ],
             [
              1,
              "#f0f921"
             ]
            ],
            "type": "histogram2d"
           }
          ],
          "histogram2dcontour": [
           {
            "colorbar": {
             "outlinewidth": 0,
             "ticks": ""
            },
            "colorscale": [
             [
              0,
              "#0d0887"
             ],
             [
              0.1111111111111111,
              "#46039f"
             ],
             [
              0.2222222222222222,
              "#7201a8"
             ],
             [
              0.3333333333333333,
              "#9c179e"
             ],
             [
              0.4444444444444444,
              "#bd3786"
             ],
             [
              0.5555555555555556,
              "#d8576b"
             ],
             [
              0.6666666666666666,
              "#ed7953"
             ],
             [
              0.7777777777777778,
              "#fb9f3a"
             ],
             [
              0.8888888888888888,
              "#fdca26"
             ],
             [
              1,
              "#f0f921"
             ]
            ],
            "type": "histogram2dcontour"
           }
          ],
          "mesh3d": [
           {
            "colorbar": {
             "outlinewidth": 0,
             "ticks": ""
            },
            "type": "mesh3d"
           }
          ],
          "parcoords": [
           {
            "line": {
             "colorbar": {
              "outlinewidth": 0,
              "ticks": ""
             }
            },
            "type": "parcoords"
           }
          ],
          "pie": [
           {
            "automargin": true,
            "type": "pie"
           }
          ],
          "scatter": [
           {
            "marker": {
             "colorbar": {
              "outlinewidth": 0,
              "ticks": ""
             }
            },
            "type": "scatter"
           }
          ],
          "scatter3d": [
           {
            "line": {
             "colorbar": {
              "outlinewidth": 0,
              "ticks": ""
             }
            },
            "marker": {
             "colorbar": {
              "outlinewidth": 0,
              "ticks": ""
             }
            },
            "type": "scatter3d"
           }
          ],
          "scattercarpet": [
           {
            "marker": {
             "colorbar": {
              "outlinewidth": 0,
              "ticks": ""
             }
            },
            "type": "scattercarpet"
           }
          ],
          "scattergeo": [
           {
            "marker": {
             "colorbar": {
              "outlinewidth": 0,
              "ticks": ""
             }
            },
            "type": "scattergeo"
           }
          ],
          "scattergl": [
           {
            "marker": {
             "colorbar": {
              "outlinewidth": 0,
              "ticks": ""
             }
            },
            "type": "scattergl"
           }
          ],
          "scattermapbox": [
           {
            "marker": {
             "colorbar": {
              "outlinewidth": 0,
              "ticks": ""
             }
            },
            "type": "scattermapbox"
           }
          ],
          "scatterpolar": [
           {
            "marker": {
             "colorbar": {
              "outlinewidth": 0,
              "ticks": ""
             }
            },
            "type": "scatterpolar"
           }
          ],
          "scatterpolargl": [
           {
            "marker": {
             "colorbar": {
              "outlinewidth": 0,
              "ticks": ""
             }
            },
            "type": "scatterpolargl"
           }
          ],
          "scatterternary": [
           {
            "marker": {
             "colorbar": {
              "outlinewidth": 0,
              "ticks": ""
             }
            },
            "type": "scatterternary"
           }
          ],
          "surface": [
           {
            "colorbar": {
             "outlinewidth": 0,
             "ticks": ""
            },
            "colorscale": [
             [
              0,
              "#0d0887"
             ],
             [
              0.1111111111111111,
              "#46039f"
             ],
             [
              0.2222222222222222,
              "#7201a8"
             ],
             [
              0.3333333333333333,
              "#9c179e"
             ],
             [
              0.4444444444444444,
              "#bd3786"
             ],
             [
              0.5555555555555556,
              "#d8576b"
             ],
             [
              0.6666666666666666,
              "#ed7953"
             ],
             [
              0.7777777777777778,
              "#fb9f3a"
             ],
             [
              0.8888888888888888,
              "#fdca26"
             ],
             [
              1,
              "#f0f921"
             ]
            ],
            "type": "surface"
           }
          ],
          "table": [
           {
            "cells": {
             "fill": {
              "color": "#EBF0F8"
             },
             "line": {
              "color": "white"
             }
            },
            "header": {
             "fill": {
              "color": "#C8D4E3"
             },
             "line": {
              "color": "white"
             }
            },
            "type": "table"
           }
          ]
         },
         "layout": {
          "annotationdefaults": {
           "arrowcolor": "#2a3f5f",
           "arrowhead": 0,
           "arrowwidth": 1
          },
          "autotypenumbers": "strict",
          "coloraxis": {
           "colorbar": {
            "outlinewidth": 0,
            "ticks": ""
           }
          },
          "colorscale": {
           "diverging": [
            [
             0,
             "#8e0152"
            ],
            [
             0.1,
             "#c51b7d"
            ],
            [
             0.2,
             "#de77ae"
            ],
            [
             0.3,
             "#f1b6da"
            ],
            [
             0.4,
             "#fde0ef"
            ],
            [
             0.5,
             "#f7f7f7"
            ],
            [
             0.6,
             "#e6f5d0"
            ],
            [
             0.7,
             "#b8e186"
            ],
            [
             0.8,
             "#7fbc41"
            ],
            [
             0.9,
             "#4d9221"
            ],
            [
             1,
             "#276419"
            ]
           ],
           "sequential": [
            [
             0,
             "#0d0887"
            ],
            [
             0.1111111111111111,
             "#46039f"
            ],
            [
             0.2222222222222222,
             "#7201a8"
            ],
            [
             0.3333333333333333,
             "#9c179e"
            ],
            [
             0.4444444444444444,
             "#bd3786"
            ],
            [
             0.5555555555555556,
             "#d8576b"
            ],
            [
             0.6666666666666666,
             "#ed7953"
            ],
            [
             0.7777777777777778,
             "#fb9f3a"
            ],
            [
             0.8888888888888888,
             "#fdca26"
            ],
            [
             1,
             "#f0f921"
            ]
           ],
           "sequentialminus": [
            [
             0,
             "#0d0887"
            ],
            [
             0.1111111111111111,
             "#46039f"
            ],
            [
             0.2222222222222222,
             "#7201a8"
            ],
            [
             0.3333333333333333,
             "#9c179e"
            ],
            [
             0.4444444444444444,
             "#bd3786"
            ],
            [
             0.5555555555555556,
             "#d8576b"
            ],
            [
             0.6666666666666666,
             "#ed7953"
            ],
            [
             0.7777777777777778,
             "#fb9f3a"
            ],
            [
             0.8888888888888888,
             "#fdca26"
            ],
            [
             1,
             "#f0f921"
            ]
           ]
          },
          "colorway": [
           "#636efa",
           "#EF553B",
           "#00cc96",
           "#ab63fa",
           "#FFA15A",
           "#19d3f3",
           "#FF6692",
           "#B6E880",
           "#FF97FF",
           "#FECB52"
          ],
          "font": {
           "color": "#2a3f5f"
          },
          "geo": {
           "bgcolor": "white",
           "lakecolor": "white",
           "landcolor": "#E5ECF6",
           "showlakes": true,
           "showland": true,
           "subunitcolor": "white"
          },
          "hoverlabel": {
           "align": "left"
          },
          "hovermode": "closest",
          "mapbox": {
           "style": "light"
          },
          "paper_bgcolor": "white",
          "plot_bgcolor": "#E5ECF6",
          "polar": {
           "angularaxis": {
            "gridcolor": "white",
            "linecolor": "white",
            "ticks": ""
           },
           "bgcolor": "#E5ECF6",
           "radialaxis": {
            "gridcolor": "white",
            "linecolor": "white",
            "ticks": ""
           }
          },
          "scene": {
           "xaxis": {
            "backgroundcolor": "#E5ECF6",
            "gridcolor": "white",
            "gridwidth": 2,
            "linecolor": "white",
            "showbackground": true,
            "ticks": "",
            "zerolinecolor": "white"
           },
           "yaxis": {
            "backgroundcolor": "#E5ECF6",
            "gridcolor": "white",
            "gridwidth": 2,
            "linecolor": "white",
            "showbackground": true,
            "ticks": "",
            "zerolinecolor": "white"
           },
           "zaxis": {
            "backgroundcolor": "#E5ECF6",
            "gridcolor": "white",
            "gridwidth": 2,
            "linecolor": "white",
            "showbackground": true,
            "ticks": "",
            "zerolinecolor": "white"
           }
          },
          "shapedefaults": {
           "line": {
            "color": "#2a3f5f"
           }
          },
          "ternary": {
           "aaxis": {
            "gridcolor": "white",
            "linecolor": "white",
            "ticks": ""
           },
           "baxis": {
            "gridcolor": "white",
            "linecolor": "white",
            "ticks": ""
           },
           "bgcolor": "#E5ECF6",
           "caxis": {
            "gridcolor": "white",
            "linecolor": "white",
            "ticks": ""
           }
          },
          "title": {
           "x": 0.05
          },
          "xaxis": {
           "automargin": true,
           "gridcolor": "white",
           "linecolor": "white",
           "ticks": "",
           "title": {
            "standoff": 15
           },
           "zerolinecolor": "white",
           "zerolinewidth": 2
          },
          "yaxis": {
           "automargin": true,
           "gridcolor": "white",
           "linecolor": "white",
           "ticks": "",
           "title": {
            "standoff": 15
           },
           "zerolinecolor": "white",
           "zerolinewidth": 2
          }
         }
        },
        "title": {
         "text": "Chloe Kelly"
        }
       }
      }
     },
     "metadata": {},
     "output_type": "display_data"
    }
   ],
   "source": [
    "trace_player(\"Chloe Kelly\", arsenal_data, df_previous_games_grouped)"
   ]
  },
  {
   "cell_type": "code",
   "execution_count": 41,
   "metadata": {},
   "outputs": [
    {
     "data": {
      "application/vnd.plotly.v1+json": {
       "config": {
        "plotlyServerURL": "https://plot.ly"
       },
       "data": [
        {
         "name": "Arsenal Game",
         "type": "scatter",
         "x": [
          4,
          5,
          6,
          7,
          8,
          9,
          10,
          11,
          12,
          13,
          14,
          15,
          16,
          17,
          18,
          19,
          20,
          21,
          22,
          23,
          24,
          25,
          26,
          27,
          28,
          29,
          30,
          31,
          32,
          33,
          34,
          35,
          36,
          37,
          38,
          39,
          40,
          41,
          42,
          43,
          44,
          45,
          46,
          47,
          48,
          49,
          50,
          51,
          52,
          53,
          54,
          55,
          56,
          57,
          58,
          59,
          60,
          61,
          62,
          63,
          64,
          65,
          66,
          67,
          68,
          69,
          70,
          71,
          72,
          73,
          74,
          75,
          76,
          77,
          78,
          79,
          80,
          81,
          82,
          83,
          84,
          85,
          86,
          87,
          88,
          89,
          90,
          91,
          92,
          93,
          94,
          95,
          96,
          97,
          98,
          99,
          100,
          101
         ],
         "y": [
          6.350132105878073,
          6.350132105878073,
          6.350132105878073,
          6.350132105878073,
          6.350132105878073,
          6.350132105878073,
          6.350132105878073,
          6.350132105878073,
          6.707442330435285,
          10.05152974465499,
          10.05152974465499,
          10.05152974465499,
          10.05152974465499,
          9.718944352712949,
          9.571152294299885,
          8.842373719121383,
          8.842373719121383,
          8.960149374228786,
          8.960149374228786,
          15.668201261691179,
          15.668201261691179,
          15.668201261691179,
          15.668201261691179,
          16.488078873138452,
          15.709660201778737,
          15.25443402765908,
          15.25443402765908,
          15.25443402765908,
          15.25443402765908,
          15.25443402765908,
          15.25443402765908,
          14.41142563161814,
          14.41142563161814,
          14.41142563161814,
          14.41142563161814,
          14.41142563161814,
          14.41142563161814,
          14.41142563161814,
          14.41142563161814,
          14.41142563161814,
          14.41142563161814,
          13.408414857085244,
          13.445990170494335,
          13.445990170494335,
          13.445990170494335,
          13.445990170494335,
          13.095152135115178,
          13.095152135115178,
          13.095152135115178,
          13.095152135115178,
          13.095152135115178,
          14.177037177598585,
          14.177037177598585,
          14.357904488041418,
          14.357904488041418,
          14.357904488041418,
          14.307320682118863,
          14.288002777689462,
          12.810635819088377,
          12.678953761302937,
          12.70696831309998,
          12.70696831309998,
          12.38694183970342,
          12.38694183970342,
          12.38694183970342,
          12.38694183970342,
          12.38694183970342,
          12.38694183970342,
          12.38694183970342,
          12.38694183970342,
          12.38694183970342,
          12.102448422725665,
          12.102448422725665,
          12.102448422725665,
          12.102448422725665,
          12.102448422725665,
          12.102448422725665,
          12.102448422725665,
          12.102448422725665,
          12.102448422725665,
          12.102448422725665,
          12.102448422725665,
          12.169440090282793,
          12.169440090282793,
          11.568922110621507,
          11.568922110621507,
          11.568922110621507,
          11.568922110621507,
          11.568922110621507,
          11.568922110621507,
          11.568922110621507,
          11.568922110621507,
          12.416159215744983,
          12.416159215744983,
          12.416159215744983,
          12.416159215744983,
          12.416159215744983,
          12.416159215744983
         ]
        },
        {
         "name": "Mean",
         "type": "scatter",
         "x": [
          3,
          4,
          5,
          6,
          7,
          8,
          9,
          10,
          11,
          12,
          13,
          14,
          15,
          16,
          17,
          18,
          19,
          20,
          21,
          22,
          23,
          24,
          25,
          26,
          27,
          28,
          29,
          30,
          31,
          32,
          33,
          34,
          35,
          36,
          37,
          38,
          39,
          40,
          41,
          42,
          43,
          44,
          45,
          46,
          47,
          48,
          49,
          50,
          51,
          52,
          53,
          54,
          55,
          56,
          57,
          58,
          59,
          60,
          61,
          62,
          63,
          64,
          65,
          66,
          67,
          68,
          69,
          70,
          71,
          72,
          73,
          74,
          75,
          76,
          77,
          78,
          79,
          80,
          81,
          82,
          83,
          84,
          85,
          86,
          87,
          88,
          89,
          90,
          91,
          92,
          93,
          94,
          95,
          96,
          97,
          98,
          99,
          100
         ],
         "y": [
          -0.2263540432832549,
          -0.30582115141896304,
          0.05410847245825334,
          0.21699898429043918,
          0.1800620640089966,
          0.14922657150986332,
          0.11901407354583318,
          0.12944362010242844,
          0.29405075224913857,
          0.8311679853839785,
          0.8258286932368789,
          0.5207501068435336,
          0.49025920843775933,
          0.3468101977105942,
          -0.08130306949057303,
          0.33209243262553917,
          0.2884359920388254,
          -0.3532900691890082,
          -0.2479368258013637,
          -0.23965396544822007,
          -0.23965396544822007,
          0.3658146028821208,
          0.2737661219705573,
          0.3871957560197483,
          0.602923941730265,
          0.5154096552448132,
          0.5154096552448132,
          0.42944123530513206,
          0.3186059487063868,
          0.3186059487063868,
          0.2643470823993962,
          0.36394347213830514,
          -0.10391034828896273,
          -0.2702814107195992,
          -0.4396764482928205,
          -0.4396764482928205,
          -0.18675041137939918,
          -0.11433220048090642,
          -0.11433220048090642,
          -0.37667725965282106,
          -0.6222128433157332,
          -0.6881971846772323,
          -1.2508133786605893,
          -1.7845689153630906,
          -2.20692213123346,
          -2.269108612173463,
          -2.4730383507631943,
          -2.9432233051948478,
          -3.11039757965549,
          -3.2403824015659786,
          -3.4837020992501335,
          -3.4690993640439443,
          -3.249015167428243,
          -3.2733140946410453,
          -3.6573128195537707,
          -3.60713078511108,
          -3.60713078511108,
          -3.888382550007985,
          -3.830889975788903,
          -3.696408262868114,
          -3.981171065216106,
          -3.981171065216106,
          -3.981171065216106,
          -3.3384675431249247,
          -3.688724438079616,
          -3.8720423407632083,
          -1.397195638657685,
          -1.397195638657685,
          -1.6232287164744306,
          -1.7376492939254056,
          -1.9175608447719354,
          -1.7688200236287925,
          -1.7441721784777555,
          -1.7490014852862923,
          -1.4657349797895511,
          -1.4657349797895511,
          -0.9000139961974631,
          -0.26909228949916475,
          -0.7049554709997568,
          -1.2926056818294205,
          -2.0453023614082984,
          -1.2325787780329605,
          -0.975323320295995,
          -0.9425508827293059,
          -0.9425508827293059,
          -0.9425508827293059,
          -0.9052707981150494,
          -0.23020907475137076,
          -0.5563881853597157,
          -0.5563881853597157,
          -0.4864965507146106,
          -0.5109426180183392,
          -0.577586484647703,
          -0.6136927476716032,
          -4.668100352117531,
          -7.842229802151864,
          -3.6558662674161284,
          -3.6558662674161284
         ]
        }
       ],
       "layout": {
        "template": {
         "data": {
          "bar": [
           {
            "error_x": {
             "color": "#2a3f5f"
            },
            "error_y": {
             "color": "#2a3f5f"
            },
            "marker": {
             "line": {
              "color": "#E5ECF6",
              "width": 0.5
             },
             "pattern": {
              "fillmode": "overlay",
              "size": 10,
              "solidity": 0.2
             }
            },
            "type": "bar"
           }
          ],
          "barpolar": [
           {
            "marker": {
             "line": {
              "color": "#E5ECF6",
              "width": 0.5
             },
             "pattern": {
              "fillmode": "overlay",
              "size": 10,
              "solidity": 0.2
             }
            },
            "type": "barpolar"
           }
          ],
          "carpet": [
           {
            "aaxis": {
             "endlinecolor": "#2a3f5f",
             "gridcolor": "white",
             "linecolor": "white",
             "minorgridcolor": "white",
             "startlinecolor": "#2a3f5f"
            },
            "baxis": {
             "endlinecolor": "#2a3f5f",
             "gridcolor": "white",
             "linecolor": "white",
             "minorgridcolor": "white",
             "startlinecolor": "#2a3f5f"
            },
            "type": "carpet"
           }
          ],
          "choropleth": [
           {
            "colorbar": {
             "outlinewidth": 0,
             "ticks": ""
            },
            "type": "choropleth"
           }
          ],
          "contour": [
           {
            "colorbar": {
             "outlinewidth": 0,
             "ticks": ""
            },
            "colorscale": [
             [
              0,
              "#0d0887"
             ],
             [
              0.1111111111111111,
              "#46039f"
             ],
             [
              0.2222222222222222,
              "#7201a8"
             ],
             [
              0.3333333333333333,
              "#9c179e"
             ],
             [
              0.4444444444444444,
              "#bd3786"
             ],
             [
              0.5555555555555556,
              "#d8576b"
             ],
             [
              0.6666666666666666,
              "#ed7953"
             ],
             [
              0.7777777777777778,
              "#fb9f3a"
             ],
             [
              0.8888888888888888,
              "#fdca26"
             ],
             [
              1,
              "#f0f921"
             ]
            ],
            "type": "contour"
           }
          ],
          "contourcarpet": [
           {
            "colorbar": {
             "outlinewidth": 0,
             "ticks": ""
            },
            "type": "contourcarpet"
           }
          ],
          "heatmap": [
           {
            "colorbar": {
             "outlinewidth": 0,
             "ticks": ""
            },
            "colorscale": [
             [
              0,
              "#0d0887"
             ],
             [
              0.1111111111111111,
              "#46039f"
             ],
             [
              0.2222222222222222,
              "#7201a8"
             ],
             [
              0.3333333333333333,
              "#9c179e"
             ],
             [
              0.4444444444444444,
              "#bd3786"
             ],
             [
              0.5555555555555556,
              "#d8576b"
             ],
             [
              0.6666666666666666,
              "#ed7953"
             ],
             [
              0.7777777777777778,
              "#fb9f3a"
             ],
             [
              0.8888888888888888,
              "#fdca26"
             ],
             [
              1,
              "#f0f921"
             ]
            ],
            "type": "heatmap"
           }
          ],
          "heatmapgl": [
           {
            "colorbar": {
             "outlinewidth": 0,
             "ticks": ""
            },
            "colorscale": [
             [
              0,
              "#0d0887"
             ],
             [
              0.1111111111111111,
              "#46039f"
             ],
             [
              0.2222222222222222,
              "#7201a8"
             ],
             [
              0.3333333333333333,
              "#9c179e"
             ],
             [
              0.4444444444444444,
              "#bd3786"
             ],
             [
              0.5555555555555556,
              "#d8576b"
             ],
             [
              0.6666666666666666,
              "#ed7953"
             ],
             [
              0.7777777777777778,
              "#fb9f3a"
             ],
             [
              0.8888888888888888,
              "#fdca26"
             ],
             [
              1,
              "#f0f921"
             ]
            ],
            "type": "heatmapgl"
           }
          ],
          "histogram": [
           {
            "marker": {
             "pattern": {
              "fillmode": "overlay",
              "size": 10,
              "solidity": 0.2
             }
            },
            "type": "histogram"
           }
          ],
          "histogram2d": [
           {
            "colorbar": {
             "outlinewidth": 0,
             "ticks": ""
            },
            "colorscale": [
             [
              0,
              "#0d0887"
             ],
             [
              0.1111111111111111,
              "#46039f"
             ],
             [
              0.2222222222222222,
              "#7201a8"
             ],
             [
              0.3333333333333333,
              "#9c179e"
             ],
             [
              0.4444444444444444,
              "#bd3786"
             ],
             [
              0.5555555555555556,
              "#d8576b"
             ],
             [
              0.6666666666666666,
              "#ed7953"
             ],
             [
              0.7777777777777778,
              "#fb9f3a"
             ],
             [
              0.8888888888888888,
              "#fdca26"
             ],
             [
              1,
              "#f0f921"
             ]
            ],
            "type": "histogram2d"
           }
          ],
          "histogram2dcontour": [
           {
            "colorbar": {
             "outlinewidth": 0,
             "ticks": ""
            },
            "colorscale": [
             [
              0,
              "#0d0887"
             ],
             [
              0.1111111111111111,
              "#46039f"
             ],
             [
              0.2222222222222222,
              "#7201a8"
             ],
             [
              0.3333333333333333,
              "#9c179e"
             ],
             [
              0.4444444444444444,
              "#bd3786"
             ],
             [
              0.5555555555555556,
              "#d8576b"
             ],
             [
              0.6666666666666666,
              "#ed7953"
             ],
             [
              0.7777777777777778,
              "#fb9f3a"
             ],
             [
              0.8888888888888888,
              "#fdca26"
             ],
             [
              1,
              "#f0f921"
             ]
            ],
            "type": "histogram2dcontour"
           }
          ],
          "mesh3d": [
           {
            "colorbar": {
             "outlinewidth": 0,
             "ticks": ""
            },
            "type": "mesh3d"
           }
          ],
          "parcoords": [
           {
            "line": {
             "colorbar": {
              "outlinewidth": 0,
              "ticks": ""
             }
            },
            "type": "parcoords"
           }
          ],
          "pie": [
           {
            "automargin": true,
            "type": "pie"
           }
          ],
          "scatter": [
           {
            "marker": {
             "colorbar": {
              "outlinewidth": 0,
              "ticks": ""
             }
            },
            "type": "scatter"
           }
          ],
          "scatter3d": [
           {
            "line": {
             "colorbar": {
              "outlinewidth": 0,
              "ticks": ""
             }
            },
            "marker": {
             "colorbar": {
              "outlinewidth": 0,
              "ticks": ""
             }
            },
            "type": "scatter3d"
           }
          ],
          "scattercarpet": [
           {
            "marker": {
             "colorbar": {
              "outlinewidth": 0,
              "ticks": ""
             }
            },
            "type": "scattercarpet"
           }
          ],
          "scattergeo": [
           {
            "marker": {
             "colorbar": {
              "outlinewidth": 0,
              "ticks": ""
             }
            },
            "type": "scattergeo"
           }
          ],
          "scattergl": [
           {
            "marker": {
             "colorbar": {
              "outlinewidth": 0,
              "ticks": ""
             }
            },
            "type": "scattergl"
           }
          ],
          "scattermapbox": [
           {
            "marker": {
             "colorbar": {
              "outlinewidth": 0,
              "ticks": ""
             }
            },
            "type": "scattermapbox"
           }
          ],
          "scatterpolar": [
           {
            "marker": {
             "colorbar": {
              "outlinewidth": 0,
              "ticks": ""
             }
            },
            "type": "scatterpolar"
           }
          ],
          "scatterpolargl": [
           {
            "marker": {
             "colorbar": {
              "outlinewidth": 0,
              "ticks": ""
             }
            },
            "type": "scatterpolargl"
           }
          ],
          "scatterternary": [
           {
            "marker": {
             "colorbar": {
              "outlinewidth": 0,
              "ticks": ""
             }
            },
            "type": "scatterternary"
           }
          ],
          "surface": [
           {
            "colorbar": {
             "outlinewidth": 0,
             "ticks": ""
            },
            "colorscale": [
             [
              0,
              "#0d0887"
             ],
             [
              0.1111111111111111,
              "#46039f"
             ],
             [
              0.2222222222222222,
              "#7201a8"
             ],
             [
              0.3333333333333333,
              "#9c179e"
             ],
             [
              0.4444444444444444,
              "#bd3786"
             ],
             [
              0.5555555555555556,
              "#d8576b"
             ],
             [
              0.6666666666666666,
              "#ed7953"
             ],
             [
              0.7777777777777778,
              "#fb9f3a"
             ],
             [
              0.8888888888888888,
              "#fdca26"
             ],
             [
              1,
              "#f0f921"
             ]
            ],
            "type": "surface"
           }
          ],
          "table": [
           {
            "cells": {
             "fill": {
              "color": "#EBF0F8"
             },
             "line": {
              "color": "white"
             }
            },
            "header": {
             "fill": {
              "color": "#C8D4E3"
             },
             "line": {
              "color": "white"
             }
            },
            "type": "table"
           }
          ]
         },
         "layout": {
          "annotationdefaults": {
           "arrowcolor": "#2a3f5f",
           "arrowhead": 0,
           "arrowwidth": 1
          },
          "autotypenumbers": "strict",
          "coloraxis": {
           "colorbar": {
            "outlinewidth": 0,
            "ticks": ""
           }
          },
          "colorscale": {
           "diverging": [
            [
             0,
             "#8e0152"
            ],
            [
             0.1,
             "#c51b7d"
            ],
            [
             0.2,
             "#de77ae"
            ],
            [
             0.3,
             "#f1b6da"
            ],
            [
             0.4,
             "#fde0ef"
            ],
            [
             0.5,
             "#f7f7f7"
            ],
            [
             0.6,
             "#e6f5d0"
            ],
            [
             0.7,
             "#b8e186"
            ],
            [
             0.8,
             "#7fbc41"
            ],
            [
             0.9,
             "#4d9221"
            ],
            [
             1,
             "#276419"
            ]
           ],
           "sequential": [
            [
             0,
             "#0d0887"
            ],
            [
             0.1111111111111111,
             "#46039f"
            ],
            [
             0.2222222222222222,
             "#7201a8"
            ],
            [
             0.3333333333333333,
             "#9c179e"
            ],
            [
             0.4444444444444444,
             "#bd3786"
            ],
            [
             0.5555555555555556,
             "#d8576b"
            ],
            [
             0.6666666666666666,
             "#ed7953"
            ],
            [
             0.7777777777777778,
             "#fb9f3a"
            ],
            [
             0.8888888888888888,
             "#fdca26"
            ],
            [
             1,
             "#f0f921"
            ]
           ],
           "sequentialminus": [
            [
             0,
             "#0d0887"
            ],
            [
             0.1111111111111111,
             "#46039f"
            ],
            [
             0.2222222222222222,
             "#7201a8"
            ],
            [
             0.3333333333333333,
             "#9c179e"
            ],
            [
             0.4444444444444444,
             "#bd3786"
            ],
            [
             0.5555555555555556,
             "#d8576b"
            ],
            [
             0.6666666666666666,
             "#ed7953"
            ],
            [
             0.7777777777777778,
             "#fb9f3a"
            ],
            [
             0.8888888888888888,
             "#fdca26"
            ],
            [
             1,
             "#f0f921"
            ]
           ]
          },
          "colorway": [
           "#636efa",
           "#EF553B",
           "#00cc96",
           "#ab63fa",
           "#FFA15A",
           "#19d3f3",
           "#FF6692",
           "#B6E880",
           "#FF97FF",
           "#FECB52"
          ],
          "font": {
           "color": "#2a3f5f"
          },
          "geo": {
           "bgcolor": "white",
           "lakecolor": "white",
           "landcolor": "#E5ECF6",
           "showlakes": true,
           "showland": true,
           "subunitcolor": "white"
          },
          "hoverlabel": {
           "align": "left"
          },
          "hovermode": "closest",
          "mapbox": {
           "style": "light"
          },
          "paper_bgcolor": "white",
          "plot_bgcolor": "#E5ECF6",
          "polar": {
           "angularaxis": {
            "gridcolor": "white",
            "linecolor": "white",
            "ticks": ""
           },
           "bgcolor": "#E5ECF6",
           "radialaxis": {
            "gridcolor": "white",
            "linecolor": "white",
            "ticks": ""
           }
          },
          "scene": {
           "xaxis": {
            "backgroundcolor": "#E5ECF6",
            "gridcolor": "white",
            "gridwidth": 2,
            "linecolor": "white",
            "showbackground": true,
            "ticks": "",
            "zerolinecolor": "white"
           },
           "yaxis": {
            "backgroundcolor": "#E5ECF6",
            "gridcolor": "white",
            "gridwidth": 2,
            "linecolor": "white",
            "showbackground": true,
            "ticks": "",
            "zerolinecolor": "white"
           },
           "zaxis": {
            "backgroundcolor": "#E5ECF6",
            "gridcolor": "white",
            "gridwidth": 2,
            "linecolor": "white",
            "showbackground": true,
            "ticks": "",
            "zerolinecolor": "white"
           }
          },
          "shapedefaults": {
           "line": {
            "color": "#2a3f5f"
           }
          },
          "ternary": {
           "aaxis": {
            "gridcolor": "white",
            "linecolor": "white",
            "ticks": ""
           },
           "baxis": {
            "gridcolor": "white",
            "linecolor": "white",
            "ticks": ""
           },
           "bgcolor": "#E5ECF6",
           "caxis": {
            "gridcolor": "white",
            "linecolor": "white",
            "ticks": ""
           }
          },
          "title": {
           "x": 0.05
          },
          "xaxis": {
           "automargin": true,
           "gridcolor": "white",
           "linecolor": "white",
           "ticks": "",
           "title": {
            "standoff": 15
           },
           "zerolinecolor": "white",
           "zerolinewidth": 2
          },
          "yaxis": {
           "automargin": true,
           "gridcolor": "white",
           "linecolor": "white",
           "ticks": "",
           "title": {
            "standoff": 15
           },
           "zerolinecolor": "white",
           "zerolinewidth": 2
          }
         }
        },
        "title": {
         "text": "Lauren Hemp"
        }
       }
      }
     },
     "metadata": {},
     "output_type": "display_data"
    }
   ],
   "source": [
    "trace_player(\"Lauren Hemp\", arsenal_data, df_previous_games_grouped)"
   ]
  },
  {
   "cell_type": "code",
   "execution_count": 42,
   "metadata": {},
   "outputs": [
    {
     "data": {
      "application/vnd.plotly.v1+json": {
       "config": {
        "plotlyServerURL": "https://plot.ly"
       },
       "data": [
        {
         "name": "Arsenal Game",
         "type": "scatter",
         "x": [
          3,
          4,
          5,
          6,
          7,
          8,
          9,
          10,
          11,
          12,
          13,
          14,
          15,
          16,
          17,
          18,
          19,
          20,
          21,
          22,
          23,
          24,
          25,
          26,
          27,
          28,
          29,
          30,
          31,
          32,
          33,
          34,
          35,
          36,
          37,
          38,
          39,
          40,
          41,
          42,
          43,
          44,
          45,
          46,
          47,
          48,
          49,
          50,
          51,
          52,
          53,
          54,
          55,
          56,
          57,
          58,
          59,
          60,
          61,
          62,
          63,
          64,
          65,
          66,
          67,
          68,
          69,
          70,
          71,
          72,
          73,
          74,
          75,
          76,
          77,
          78,
          79,
          80,
          81,
          82,
          83,
          84,
          85,
          86,
          87,
          88,
          89,
          90,
          91,
          92,
          93,
          94,
          95,
          96,
          97,
          98,
          99,
          100,
          101
         ],
         "y": [
          -0.02838127697536097,
          -0.02838127697536097,
          0.39432905425164955,
          0.43717609475988506,
          -0.07542889594822497,
          -0.35066069909275493,
          -0.8977717438342119,
          -0.8567060756605532,
          0.19259591625277556,
          0.10977309892329304,
          -1.1518112456036027,
          -1.1518112456036027,
          -1.157791501251695,
          2.230180535151449,
          2.2223832640356234,
          2.2223832640356234,
          1.4150431548756763,
          1.4150431548756763,
          0.9664690263257744,
          0.9664690263257744,
          0.8927679936311285,
          0.8927679936311285,
          0.8927679936311285,
          0.5636157182303553,
          0.5636157182303553,
          -0.2459390947778481,
          -0.5682820239207902,
          -1.0047803012158099,
          -2.0533063705488304,
          -2.0533063705488304,
          -2.0533063705488304,
          -2.0533063705488304,
          -2.5994814955961947,
          -2.526711749406154,
          -2.526711749406154,
          -2.526711749406154,
          -2.526711749406154,
          -2.489865298815746,
          -2.489865298815746,
          -3.1330310718326806,
          -3.0550759200054625,
          -3.0550759200054625,
          -3.0550759200054625,
          -3.0550759200054625,
          -3.0550759200054625,
          -3.0550759200054625,
          -2.4310340371434918,
          -2.4310340371434918,
          -2.4310340371434918,
          -2.2141319694164685,
          -2.2141319694164685,
          -2.3860977281289424,
          -2.819057511157002,
          -2.819057511157002,
          -2.2626431063904966,
          -2.2626431063904966,
          -2.2626431063904966,
          -2.6486098265463487,
          -2.6486098265463487,
          -2.6486098265463487,
          -2.2789011349189767,
          -2.2789011349189767,
          -2.2789011349189767,
          -2.803150529998206,
          -2.7230316851675367,
          -2.6936425329015927,
          -3.4659637198269238,
          -3.4659637198269238,
          -3.6013195319780964,
          -3.9595550123023413,
          -3.9595550123023413,
          -4.382295268929326,
          -4.382295268929326,
          -4.911381463317057,
          -4.911381463317057,
          -4.911381463317057,
          -4.911381463317057,
          -5.3619530180831685,
          -5.509631437518718,
          -5.509631437518718,
          -5.509631437518718,
          -5.509631437518718,
          -6.757026354522186,
          -6.6860273705893345,
          -6.6860273705893345,
          -6.722371779860826,
          -6.69254798705657,
          -6.69254798705657,
          -6.600541957952368,
          -5.518802784629952,
          -5.518802784629952,
          -5.815514946779137,
          -5.14165576572066,
          -2.3173994002248666,
          -1.6955376323984228,
          -1.6955376323984228,
          -1.6955376323984228,
          -1.8934571596870253,
          -1.8934571596870253
         ]
        },
        {
         "name": "Mean",
         "type": "scatter",
         "x": [
          3,
          4,
          5,
          6,
          7,
          8,
          9,
          10,
          11,
          12,
          13,
          14,
          15,
          16,
          17,
          18,
          19,
          20,
          21,
          22,
          23,
          24,
          25,
          26,
          27,
          28,
          29,
          30,
          31,
          32,
          33,
          34,
          35,
          36,
          37,
          38,
          39,
          40,
          41,
          42,
          43,
          44,
          45,
          46,
          47,
          48,
          49,
          50,
          51,
          52,
          53,
          54,
          55,
          56,
          57,
          58,
          59,
          60,
          61,
          62,
          63,
          64,
          65,
          66,
          67,
          68,
          69,
          70,
          71,
          72,
          73,
          74,
          75,
          76,
          77,
          78,
          79,
          80,
          81,
          82,
          83,
          84,
          85,
          86,
          87,
          88,
          89,
          90,
          91,
          92,
          93,
          94,
          95,
          96,
          97,
          98,
          99,
          100
         ],
         "y": [
          -1.7750821906047038,
          -1.7750821906047038,
          -1.9841235769775294,
          -2.3635986422861612,
          -2.3635986422861612,
          -2.6630663444696565,
          -2.7234372581247506,
          -3.1854201887946023,
          -3.2808472777162945,
          -4.286674280602196,
          -4.695397565931044,
          -4.967285006757182,
          -5.200571708175541,
          -5.200571708175541,
          -4.711738526861832,
          -4.902372331012004,
          -4.902372331012004,
          -4.902372331012004,
          -5.368203912264601,
          -5.368203912264601,
          -5.368203912264601,
          -5.368203912264601,
          -5.832779947380874,
          -5.832779947380874,
          -5.832779947380874,
          -5.832779947380874,
          -5.904117771610562,
          -6.097331500460696,
          -6.306592264903014,
          -6.503251610428252,
          -6.556375642070942,
          -6.787359681151032,
          -6.787359681151032,
          -6.787359681151032,
          -7.27068400613269,
          -7.52614753876617,
          -7.52614753876617,
          -7.822300939541048,
          -8.340871238851241,
          -8.340871238851241,
          -8.340871238851241,
          -8.822015325923646,
          -9.033733335056132,
          -9.293521223667419,
          -9.293521223667419,
          -10.057063404714658,
          -10.057063404714658,
          -10.267171211400623,
          -10.22211698474145,
          -10.22211698474145,
          -10.22211698474145,
          -10.22211698474145,
          -10.437632794656302,
          -9.516441486122758,
          -9.516441486122758,
          -9.516441486122758,
          -9.516441486122758,
          -9.617943977704707,
          -9.617943977704707,
          -9.847514030317546,
          -9.847514030317546,
          -10.375139723597654,
          -10.53785953333047,
          -8.844410889743743,
          -8.916535121192274,
          -8.916535121192274,
          -9.261078414793708,
          -9.283867045625428,
          -10.03669529185047,
          -10.03669529185047,
          -9.919081392359065,
          -9.407088175745052,
          -9.450919524128189,
          -9.450919524128189,
          -9.450919524128189,
          -9.61874126563962,
          -9.61874126563962,
          -10.412607733992658,
          -10.412607733992658,
          -10.489336510388,
          -10.611588724126534,
          -10.611588724126534,
          -11.181017127599748,
          -11.181017127599748,
          -11.181017127599748,
          -5.794522777906764,
          -5.794522777906764,
          -5.794522777906764,
          -6.853649803972598,
          -6.833572739412862,
          -6.833572739412862,
          -6.833572739412862,
          -7.021029067233462,
          -7.021029067233462,
          -7.263317494616192,
          -7.381841424862069,
          -3.5316003266666804,
          -3.5316003266666804
         ]
        }
       ],
       "layout": {
        "template": {
         "data": {
          "bar": [
           {
            "error_x": {
             "color": "#2a3f5f"
            },
            "error_y": {
             "color": "#2a3f5f"
            },
            "marker": {
             "line": {
              "color": "#E5ECF6",
              "width": 0.5
             },
             "pattern": {
              "fillmode": "overlay",
              "size": 10,
              "solidity": 0.2
             }
            },
            "type": "bar"
           }
          ],
          "barpolar": [
           {
            "marker": {
             "line": {
              "color": "#E5ECF6",
              "width": 0.5
             },
             "pattern": {
              "fillmode": "overlay",
              "size": 10,
              "solidity": 0.2
             }
            },
            "type": "barpolar"
           }
          ],
          "carpet": [
           {
            "aaxis": {
             "endlinecolor": "#2a3f5f",
             "gridcolor": "white",
             "linecolor": "white",
             "minorgridcolor": "white",
             "startlinecolor": "#2a3f5f"
            },
            "baxis": {
             "endlinecolor": "#2a3f5f",
             "gridcolor": "white",
             "linecolor": "white",
             "minorgridcolor": "white",
             "startlinecolor": "#2a3f5f"
            },
            "type": "carpet"
           }
          ],
          "choropleth": [
           {
            "colorbar": {
             "outlinewidth": 0,
             "ticks": ""
            },
            "type": "choropleth"
           }
          ],
          "contour": [
           {
            "colorbar": {
             "outlinewidth": 0,
             "ticks": ""
            },
            "colorscale": [
             [
              0,
              "#0d0887"
             ],
             [
              0.1111111111111111,
              "#46039f"
             ],
             [
              0.2222222222222222,
              "#7201a8"
             ],
             [
              0.3333333333333333,
              "#9c179e"
             ],
             [
              0.4444444444444444,
              "#bd3786"
             ],
             [
              0.5555555555555556,
              "#d8576b"
             ],
             [
              0.6666666666666666,
              "#ed7953"
             ],
             [
              0.7777777777777778,
              "#fb9f3a"
             ],
             [
              0.8888888888888888,
              "#fdca26"
             ],
             [
              1,
              "#f0f921"
             ]
            ],
            "type": "contour"
           }
          ],
          "contourcarpet": [
           {
            "colorbar": {
             "outlinewidth": 0,
             "ticks": ""
            },
            "type": "contourcarpet"
           }
          ],
          "heatmap": [
           {
            "colorbar": {
             "outlinewidth": 0,
             "ticks": ""
            },
            "colorscale": [
             [
              0,
              "#0d0887"
             ],
             [
              0.1111111111111111,
              "#46039f"
             ],
             [
              0.2222222222222222,
              "#7201a8"
             ],
             [
              0.3333333333333333,
              "#9c179e"
             ],
             [
              0.4444444444444444,
              "#bd3786"
             ],
             [
              0.5555555555555556,
              "#d8576b"
             ],
             [
              0.6666666666666666,
              "#ed7953"
             ],
             [
              0.7777777777777778,
              "#fb9f3a"
             ],
             [
              0.8888888888888888,
              "#fdca26"
             ],
             [
              1,
              "#f0f921"
             ]
            ],
            "type": "heatmap"
           }
          ],
          "heatmapgl": [
           {
            "colorbar": {
             "outlinewidth": 0,
             "ticks": ""
            },
            "colorscale": [
             [
              0,
              "#0d0887"
             ],
             [
              0.1111111111111111,
              "#46039f"
             ],
             [
              0.2222222222222222,
              "#7201a8"
             ],
             [
              0.3333333333333333,
              "#9c179e"
             ],
             [
              0.4444444444444444,
              "#bd3786"
             ],
             [
              0.5555555555555556,
              "#d8576b"
             ],
             [
              0.6666666666666666,
              "#ed7953"
             ],
             [
              0.7777777777777778,
              "#fb9f3a"
             ],
             [
              0.8888888888888888,
              "#fdca26"
             ],
             [
              1,
              "#f0f921"
             ]
            ],
            "type": "heatmapgl"
           }
          ],
          "histogram": [
           {
            "marker": {
             "pattern": {
              "fillmode": "overlay",
              "size": 10,
              "solidity": 0.2
             }
            },
            "type": "histogram"
           }
          ],
          "histogram2d": [
           {
            "colorbar": {
             "outlinewidth": 0,
             "ticks": ""
            },
            "colorscale": [
             [
              0,
              "#0d0887"
             ],
             [
              0.1111111111111111,
              "#46039f"
             ],
             [
              0.2222222222222222,
              "#7201a8"
             ],
             [
              0.3333333333333333,
              "#9c179e"
             ],
             [
              0.4444444444444444,
              "#bd3786"
             ],
             [
              0.5555555555555556,
              "#d8576b"
             ],
             [
              0.6666666666666666,
              "#ed7953"
             ],
             [
              0.7777777777777778,
              "#fb9f3a"
             ],
             [
              0.8888888888888888,
              "#fdca26"
             ],
             [
              1,
              "#f0f921"
             ]
            ],
            "type": "histogram2d"
           }
          ],
          "histogram2dcontour": [
           {
            "colorbar": {
             "outlinewidth": 0,
             "ticks": ""
            },
            "colorscale": [
             [
              0,
              "#0d0887"
             ],
             [
              0.1111111111111111,
              "#46039f"
             ],
             [
              0.2222222222222222,
              "#7201a8"
             ],
             [
              0.3333333333333333,
              "#9c179e"
             ],
             [
              0.4444444444444444,
              "#bd3786"
             ],
             [
              0.5555555555555556,
              "#d8576b"
             ],
             [
              0.6666666666666666,
              "#ed7953"
             ],
             [
              0.7777777777777778,
              "#fb9f3a"
             ],
             [
              0.8888888888888888,
              "#fdca26"
             ],
             [
              1,
              "#f0f921"
             ]
            ],
            "type": "histogram2dcontour"
           }
          ],
          "mesh3d": [
           {
            "colorbar": {
             "outlinewidth": 0,
             "ticks": ""
            },
            "type": "mesh3d"
           }
          ],
          "parcoords": [
           {
            "line": {
             "colorbar": {
              "outlinewidth": 0,
              "ticks": ""
             }
            },
            "type": "parcoords"
           }
          ],
          "pie": [
           {
            "automargin": true,
            "type": "pie"
           }
          ],
          "scatter": [
           {
            "marker": {
             "colorbar": {
              "outlinewidth": 0,
              "ticks": ""
             }
            },
            "type": "scatter"
           }
          ],
          "scatter3d": [
           {
            "line": {
             "colorbar": {
              "outlinewidth": 0,
              "ticks": ""
             }
            },
            "marker": {
             "colorbar": {
              "outlinewidth": 0,
              "ticks": ""
             }
            },
            "type": "scatter3d"
           }
          ],
          "scattercarpet": [
           {
            "marker": {
             "colorbar": {
              "outlinewidth": 0,
              "ticks": ""
             }
            },
            "type": "scattercarpet"
           }
          ],
          "scattergeo": [
           {
            "marker": {
             "colorbar": {
              "outlinewidth": 0,
              "ticks": ""
             }
            },
            "type": "scattergeo"
           }
          ],
          "scattergl": [
           {
            "marker": {
             "colorbar": {
              "outlinewidth": 0,
              "ticks": ""
             }
            },
            "type": "scattergl"
           }
          ],
          "scattermapbox": [
           {
            "marker": {
             "colorbar": {
              "outlinewidth": 0,
              "ticks": ""
             }
            },
            "type": "scattermapbox"
           }
          ],
          "scatterpolar": [
           {
            "marker": {
             "colorbar": {
              "outlinewidth": 0,
              "ticks": ""
             }
            },
            "type": "scatterpolar"
           }
          ],
          "scatterpolargl": [
           {
            "marker": {
             "colorbar": {
              "outlinewidth": 0,
              "ticks": ""
             }
            },
            "type": "scatterpolargl"
           }
          ],
          "scatterternary": [
           {
            "marker": {
             "colorbar": {
              "outlinewidth": 0,
              "ticks": ""
             }
            },
            "type": "scatterternary"
           }
          ],
          "surface": [
           {
            "colorbar": {
             "outlinewidth": 0,
             "ticks": ""
            },
            "colorscale": [
             [
              0,
              "#0d0887"
             ],
             [
              0.1111111111111111,
              "#46039f"
             ],
             [
              0.2222222222222222,
              "#7201a8"
             ],
             [
              0.3333333333333333,
              "#9c179e"
             ],
             [
              0.4444444444444444,
              "#bd3786"
             ],
             [
              0.5555555555555556,
              "#d8576b"
             ],
             [
              0.6666666666666666,
              "#ed7953"
             ],
             [
              0.7777777777777778,
              "#fb9f3a"
             ],
             [
              0.8888888888888888,
              "#fdca26"
             ],
             [
              1,
              "#f0f921"
             ]
            ],
            "type": "surface"
           }
          ],
          "table": [
           {
            "cells": {
             "fill": {
              "color": "#EBF0F8"
             },
             "line": {
              "color": "white"
             }
            },
            "header": {
             "fill": {
              "color": "#C8D4E3"
             },
             "line": {
              "color": "white"
             }
            },
            "type": "table"
           }
          ]
         },
         "layout": {
          "annotationdefaults": {
           "arrowcolor": "#2a3f5f",
           "arrowhead": 0,
           "arrowwidth": 1
          },
          "autotypenumbers": "strict",
          "coloraxis": {
           "colorbar": {
            "outlinewidth": 0,
            "ticks": ""
           }
          },
          "colorscale": {
           "diverging": [
            [
             0,
             "#8e0152"
            ],
            [
             0.1,
             "#c51b7d"
            ],
            [
             0.2,
             "#de77ae"
            ],
            [
             0.3,
             "#f1b6da"
            ],
            [
             0.4,
             "#fde0ef"
            ],
            [
             0.5,
             "#f7f7f7"
            ],
            [
             0.6,
             "#e6f5d0"
            ],
            [
             0.7,
             "#b8e186"
            ],
            [
             0.8,
             "#7fbc41"
            ],
            [
             0.9,
             "#4d9221"
            ],
            [
             1,
             "#276419"
            ]
           ],
           "sequential": [
            [
             0,
             "#0d0887"
            ],
            [
             0.1111111111111111,
             "#46039f"
            ],
            [
             0.2222222222222222,
             "#7201a8"
            ],
            [
             0.3333333333333333,
             "#9c179e"
            ],
            [
             0.4444444444444444,
             "#bd3786"
            ],
            [
             0.5555555555555556,
             "#d8576b"
            ],
            [
             0.6666666666666666,
             "#ed7953"
            ],
            [
             0.7777777777777778,
             "#fb9f3a"
            ],
            [
             0.8888888888888888,
             "#fdca26"
            ],
            [
             1,
             "#f0f921"
            ]
           ],
           "sequentialminus": [
            [
             0,
             "#0d0887"
            ],
            [
             0.1111111111111111,
             "#46039f"
            ],
            [
             0.2222222222222222,
             "#7201a8"
            ],
            [
             0.3333333333333333,
             "#9c179e"
            ],
            [
             0.4444444444444444,
             "#bd3786"
            ],
            [
             0.5555555555555556,
             "#d8576b"
            ],
            [
             0.6666666666666666,
             "#ed7953"
            ],
            [
             0.7777777777777778,
             "#fb9f3a"
            ],
            [
             0.8888888888888888,
             "#fdca26"
            ],
            [
             1,
             "#f0f921"
            ]
           ]
          },
          "colorway": [
           "#636efa",
           "#EF553B",
           "#00cc96",
           "#ab63fa",
           "#FFA15A",
           "#19d3f3",
           "#FF6692",
           "#B6E880",
           "#FF97FF",
           "#FECB52"
          ],
          "font": {
           "color": "#2a3f5f"
          },
          "geo": {
           "bgcolor": "white",
           "lakecolor": "white",
           "landcolor": "#E5ECF6",
           "showlakes": true,
           "showland": true,
           "subunitcolor": "white"
          },
          "hoverlabel": {
           "align": "left"
          },
          "hovermode": "closest",
          "mapbox": {
           "style": "light"
          },
          "paper_bgcolor": "white",
          "plot_bgcolor": "#E5ECF6",
          "polar": {
           "angularaxis": {
            "gridcolor": "white",
            "linecolor": "white",
            "ticks": ""
           },
           "bgcolor": "#E5ECF6",
           "radialaxis": {
            "gridcolor": "white",
            "linecolor": "white",
            "ticks": ""
           }
          },
          "scene": {
           "xaxis": {
            "backgroundcolor": "#E5ECF6",
            "gridcolor": "white",
            "gridwidth": 2,
            "linecolor": "white",
            "showbackground": true,
            "ticks": "",
            "zerolinecolor": "white"
           },
           "yaxis": {
            "backgroundcolor": "#E5ECF6",
            "gridcolor": "white",
            "gridwidth": 2,
            "linecolor": "white",
            "showbackground": true,
            "ticks": "",
            "zerolinecolor": "white"
           },
           "zaxis": {
            "backgroundcolor": "#E5ECF6",
            "gridcolor": "white",
            "gridwidth": 2,
            "linecolor": "white",
            "showbackground": true,
            "ticks": "",
            "zerolinecolor": "white"
           }
          },
          "shapedefaults": {
           "line": {
            "color": "#2a3f5f"
           }
          },
          "ternary": {
           "aaxis": {
            "gridcolor": "white",
            "linecolor": "white",
            "ticks": ""
           },
           "baxis": {
            "gridcolor": "white",
            "linecolor": "white",
            "ticks": ""
           },
           "bgcolor": "#E5ECF6",
           "caxis": {
            "gridcolor": "white",
            "linecolor": "white",
            "ticks": ""
           }
          },
          "title": {
           "x": 0.05
          },
          "xaxis": {
           "automargin": true,
           "gridcolor": "white",
           "linecolor": "white",
           "ticks": "",
           "title": {
            "standoff": 15
           },
           "zerolinecolor": "white",
           "zerolinewidth": 2
          },
          "yaxis": {
           "automargin": true,
           "gridcolor": "white",
           "linecolor": "white",
           "ticks": "",
           "title": {
            "standoff": 15
           },
           "zerolinecolor": "white",
           "zerolinewidth": 2
          }
         }
        },
        "title": {
         "text": "Stephanie Houghton"
        }
       }
      }
     },
     "metadata": {},
     "output_type": "display_data"
    }
   ],
   "source": [
    "trace_player(\"Stephanie Houghton\", arsenal_data, df_previous_games_grouped)"
   ]
  },
  {
   "cell_type": "code",
   "execution_count": 43,
   "metadata": {},
   "outputs": [
    {
     "data": {
      "application/vnd.plotly.v1+json": {
       "config": {
        "plotlyServerURL": "https://plot.ly"
       },
       "data": [
        {
         "name": "Arsenal Game",
         "type": "scatter",
         "x": [
          5,
          6,
          7,
          8,
          9,
          10,
          11,
          12,
          13,
          14,
          15,
          16,
          17,
          18,
          19,
          20,
          21,
          22,
          23,
          24,
          25,
          26,
          27,
          28,
          29,
          30,
          31,
          32,
          33,
          34,
          35,
          36,
          37,
          38,
          39,
          40,
          41,
          42,
          43,
          44,
          45,
          46,
          47,
          48,
          49,
          50,
          51,
          52,
          53,
          54,
          55,
          56,
          57,
          58,
          59,
          60,
          61,
          62,
          63,
          64,
          65,
          66,
          67,
          68,
          69,
          70,
          71,
          72,
          73,
          74,
          75,
          76,
          77,
          78,
          79,
          80,
          81,
          82,
          83,
          84,
          85,
          86,
          87,
          88,
          89,
          90,
          91,
          92,
          93,
          94,
          95,
          96,
          97,
          98,
          99,
          100,
          101
         ],
         "y": [
          -0.7270649476621933,
          -0.7270649476621933,
          -1.1984007364555065,
          -1.1984007364555065,
          -2.0230874745719505,
          -2.1663294864228413,
          -2.1663294864228413,
          -2.5808348003171346,
          -2.5808348003171346,
          6.617595164243462,
          6.617595164243462,
          6.387063847198518,
          6.387063847198518,
          6.078457113181267,
          5.848359287239083,
          5.848359287239083,
          4.944211992112997,
          4.944211992112997,
          4.944211992112997,
          4.944211992112997,
          4.944211992112997,
          4.645628941882046,
          4.667196943802471,
          4.667196943802471,
          4.667196943802471,
          4.667196943802471,
          4.667196943802471,
          4.667196943802471,
          4.667196943802471,
          4.667196943802471,
          4.057839991467329,
          4.057839991467329,
          4.057839991467329,
          3.7401522735581345,
          3.7401522735581345,
          3.502956715840559,
          3.3271227864845074,
          3.3271227864845074,
          3.3271227864845074,
          3.04660587275284,
          3.1922259610189503,
          3.1922259610189503,
          3.226070776100784,
          2.5182481169404896,
          2.5182481169404896,
          4.843595363178895,
          4.843595363178895,
          4.843595363178895,
          4.619126515390604,
          3.5064064312436507,
          3.5064064312436507,
          3.71995500678423,
          3.71995500678423,
          3.71995500678423,
          4.303349066241665,
          4.303349066241665,
          4.303349066241665,
          4.303349066241665,
          4.203516842606917,
          3.82920925942806,
          3.82920925942806,
          3.560120445512317,
          3.1053821087358937,
          3.1485971502380745,
          2.6292261455772667,
          2.306406576178244,
          2.379972430334412,
          2.379972430334412,
          2.379972430334412,
          2.379972430334412,
          0.8500182582512699,
          0.8500182582512699,
          0.8500182582512699,
          0.8500182582512699,
          0.8500182582512699,
          0.8500182582512699,
          0.8500182582512699,
          3.077507704149218,
          2.5071661537763905,
          2.5071661537763905,
          2.5071661537763905,
          2.070963245869381,
          1.7478658182248465,
          1.7478658182248465,
          1.7478658182248465,
          1.365569560546247,
          0.9452761582375017,
          0.7956888034640757,
          0.7089456974895045,
          0.8743502184882487,
          0.061813167487412446,
          1.8765290199724554,
          1.8765290199724554,
          4.452546151460752,
          4.452546151460752,
          4.364823474510014,
          4.364823474510014
         ]
        },
        {
         "name": "Mean",
         "type": "scatter",
         "x": [],
         "y": []
        }
       ],
       "layout": {
        "template": {
         "data": {
          "bar": [
           {
            "error_x": {
             "color": "#2a3f5f"
            },
            "error_y": {
             "color": "#2a3f5f"
            },
            "marker": {
             "line": {
              "color": "#E5ECF6",
              "width": 0.5
             },
             "pattern": {
              "fillmode": "overlay",
              "size": 10,
              "solidity": 0.2
             }
            },
            "type": "bar"
           }
          ],
          "barpolar": [
           {
            "marker": {
             "line": {
              "color": "#E5ECF6",
              "width": 0.5
             },
             "pattern": {
              "fillmode": "overlay",
              "size": 10,
              "solidity": 0.2
             }
            },
            "type": "barpolar"
           }
          ],
          "carpet": [
           {
            "aaxis": {
             "endlinecolor": "#2a3f5f",
             "gridcolor": "white",
             "linecolor": "white",
             "minorgridcolor": "white",
             "startlinecolor": "#2a3f5f"
            },
            "baxis": {
             "endlinecolor": "#2a3f5f",
             "gridcolor": "white",
             "linecolor": "white",
             "minorgridcolor": "white",
             "startlinecolor": "#2a3f5f"
            },
            "type": "carpet"
           }
          ],
          "choropleth": [
           {
            "colorbar": {
             "outlinewidth": 0,
             "ticks": ""
            },
            "type": "choropleth"
           }
          ],
          "contour": [
           {
            "colorbar": {
             "outlinewidth": 0,
             "ticks": ""
            },
            "colorscale": [
             [
              0,
              "#0d0887"
             ],
             [
              0.1111111111111111,
              "#46039f"
             ],
             [
              0.2222222222222222,
              "#7201a8"
             ],
             [
              0.3333333333333333,
              "#9c179e"
             ],
             [
              0.4444444444444444,
              "#bd3786"
             ],
             [
              0.5555555555555556,
              "#d8576b"
             ],
             [
              0.6666666666666666,
              "#ed7953"
             ],
             [
              0.7777777777777778,
              "#fb9f3a"
             ],
             [
              0.8888888888888888,
              "#fdca26"
             ],
             [
              1,
              "#f0f921"
             ]
            ],
            "type": "contour"
           }
          ],
          "contourcarpet": [
           {
            "colorbar": {
             "outlinewidth": 0,
             "ticks": ""
            },
            "type": "contourcarpet"
           }
          ],
          "heatmap": [
           {
            "colorbar": {
             "outlinewidth": 0,
             "ticks": ""
            },
            "colorscale": [
             [
              0,
              "#0d0887"
             ],
             [
              0.1111111111111111,
              "#46039f"
             ],
             [
              0.2222222222222222,
              "#7201a8"
             ],
             [
              0.3333333333333333,
              "#9c179e"
             ],
             [
              0.4444444444444444,
              "#bd3786"
             ],
             [
              0.5555555555555556,
              "#d8576b"
             ],
             [
              0.6666666666666666,
              "#ed7953"
             ],
             [
              0.7777777777777778,
              "#fb9f3a"
             ],
             [
              0.8888888888888888,
              "#fdca26"
             ],
             [
              1,
              "#f0f921"
             ]
            ],
            "type": "heatmap"
           }
          ],
          "heatmapgl": [
           {
            "colorbar": {
             "outlinewidth": 0,
             "ticks": ""
            },
            "colorscale": [
             [
              0,
              "#0d0887"
             ],
             [
              0.1111111111111111,
              "#46039f"
             ],
             [
              0.2222222222222222,
              "#7201a8"
             ],
             [
              0.3333333333333333,
              "#9c179e"
             ],
             [
              0.4444444444444444,
              "#bd3786"
             ],
             [
              0.5555555555555556,
              "#d8576b"
             ],
             [
              0.6666666666666666,
              "#ed7953"
             ],
             [
              0.7777777777777778,
              "#fb9f3a"
             ],
             [
              0.8888888888888888,
              "#fdca26"
             ],
             [
              1,
              "#f0f921"
             ]
            ],
            "type": "heatmapgl"
           }
          ],
          "histogram": [
           {
            "marker": {
             "pattern": {
              "fillmode": "overlay",
              "size": 10,
              "solidity": 0.2
             }
            },
            "type": "histogram"
           }
          ],
          "histogram2d": [
           {
            "colorbar": {
             "outlinewidth": 0,
             "ticks": ""
            },
            "colorscale": [
             [
              0,
              "#0d0887"
             ],
             [
              0.1111111111111111,
              "#46039f"
             ],
             [
              0.2222222222222222,
              "#7201a8"
             ],
             [
              0.3333333333333333,
              "#9c179e"
             ],
             [
              0.4444444444444444,
              "#bd3786"
             ],
             [
              0.5555555555555556,
              "#d8576b"
             ],
             [
              0.6666666666666666,
              "#ed7953"
             ],
             [
              0.7777777777777778,
              "#fb9f3a"
             ],
             [
              0.8888888888888888,
              "#fdca26"
             ],
             [
              1,
              "#f0f921"
             ]
            ],
            "type": "histogram2d"
           }
          ],
          "histogram2dcontour": [
           {
            "colorbar": {
             "outlinewidth": 0,
             "ticks": ""
            },
            "colorscale": [
             [
              0,
              "#0d0887"
             ],
             [
              0.1111111111111111,
              "#46039f"
             ],
             [
              0.2222222222222222,
              "#7201a8"
             ],
             [
              0.3333333333333333,
              "#9c179e"
             ],
             [
              0.4444444444444444,
              "#bd3786"
             ],
             [
              0.5555555555555556,
              "#d8576b"
             ],
             [
              0.6666666666666666,
              "#ed7953"
             ],
             [
              0.7777777777777778,
              "#fb9f3a"
             ],
             [
              0.8888888888888888,
              "#fdca26"
             ],
             [
              1,
              "#f0f921"
             ]
            ],
            "type": "histogram2dcontour"
           }
          ],
          "mesh3d": [
           {
            "colorbar": {
             "outlinewidth": 0,
             "ticks": ""
            },
            "type": "mesh3d"
           }
          ],
          "parcoords": [
           {
            "line": {
             "colorbar": {
              "outlinewidth": 0,
              "ticks": ""
             }
            },
            "type": "parcoords"
           }
          ],
          "pie": [
           {
            "automargin": true,
            "type": "pie"
           }
          ],
          "scatter": [
           {
            "marker": {
             "colorbar": {
              "outlinewidth": 0,
              "ticks": ""
             }
            },
            "type": "scatter"
           }
          ],
          "scatter3d": [
           {
            "line": {
             "colorbar": {
              "outlinewidth": 0,
              "ticks": ""
             }
            },
            "marker": {
             "colorbar": {
              "outlinewidth": 0,
              "ticks": ""
             }
            },
            "type": "scatter3d"
           }
          ],
          "scattercarpet": [
           {
            "marker": {
             "colorbar": {
              "outlinewidth": 0,
              "ticks": ""
             }
            },
            "type": "scattercarpet"
           }
          ],
          "scattergeo": [
           {
            "marker": {
             "colorbar": {
              "outlinewidth": 0,
              "ticks": ""
             }
            },
            "type": "scattergeo"
           }
          ],
          "scattergl": [
           {
            "marker": {
             "colorbar": {
              "outlinewidth": 0,
              "ticks": ""
             }
            },
            "type": "scattergl"
           }
          ],
          "scattermapbox": [
           {
            "marker": {
             "colorbar": {
              "outlinewidth": 0,
              "ticks": ""
             }
            },
            "type": "scattermapbox"
           }
          ],
          "scatterpolar": [
           {
            "marker": {
             "colorbar": {
              "outlinewidth": 0,
              "ticks": ""
             }
            },
            "type": "scatterpolar"
           }
          ],
          "scatterpolargl": [
           {
            "marker": {
             "colorbar": {
              "outlinewidth": 0,
              "ticks": ""
             }
            },
            "type": "scatterpolargl"
           }
          ],
          "scatterternary": [
           {
            "marker": {
             "colorbar": {
              "outlinewidth": 0,
              "ticks": ""
             }
            },
            "type": "scatterternary"
           }
          ],
          "surface": [
           {
            "colorbar": {
             "outlinewidth": 0,
             "ticks": ""
            },
            "colorscale": [
             [
              0,
              "#0d0887"
             ],
             [
              0.1111111111111111,
              "#46039f"
             ],
             [
              0.2222222222222222,
              "#7201a8"
             ],
             [
              0.3333333333333333,
              "#9c179e"
             ],
             [
              0.4444444444444444,
              "#bd3786"
             ],
             [
              0.5555555555555556,
              "#d8576b"
             ],
             [
              0.6666666666666666,
              "#ed7953"
             ],
             [
              0.7777777777777778,
              "#fb9f3a"
             ],
             [
              0.8888888888888888,
              "#fdca26"
             ],
             [
              1,
              "#f0f921"
             ]
            ],
            "type": "surface"
           }
          ],
          "table": [
           {
            "cells": {
             "fill": {
              "color": "#EBF0F8"
             },
             "line": {
              "color": "white"
             }
            },
            "header": {
             "fill": {
              "color": "#C8D4E3"
             },
             "line": {
              "color": "white"
             }
            },
            "type": "table"
           }
          ]
         },
         "layout": {
          "annotationdefaults": {
           "arrowcolor": "#2a3f5f",
           "arrowhead": 0,
           "arrowwidth": 1
          },
          "autotypenumbers": "strict",
          "coloraxis": {
           "colorbar": {
            "outlinewidth": 0,
            "ticks": ""
           }
          },
          "colorscale": {
           "diverging": [
            [
             0,
             "#8e0152"
            ],
            [
             0.1,
             "#c51b7d"
            ],
            [
             0.2,
             "#de77ae"
            ],
            [
             0.3,
             "#f1b6da"
            ],
            [
             0.4,
             "#fde0ef"
            ],
            [
             0.5,
             "#f7f7f7"
            ],
            [
             0.6,
             "#e6f5d0"
            ],
            [
             0.7,
             "#b8e186"
            ],
            [
             0.8,
             "#7fbc41"
            ],
            [
             0.9,
             "#4d9221"
            ],
            [
             1,
             "#276419"
            ]
           ],
           "sequential": [
            [
             0,
             "#0d0887"
            ],
            [
             0.1111111111111111,
             "#46039f"
            ],
            [
             0.2222222222222222,
             "#7201a8"
            ],
            [
             0.3333333333333333,
             "#9c179e"
            ],
            [
             0.4444444444444444,
             "#bd3786"
            ],
            [
             0.5555555555555556,
             "#d8576b"
            ],
            [
             0.6666666666666666,
             "#ed7953"
            ],
            [
             0.7777777777777778,
             "#fb9f3a"
            ],
            [
             0.8888888888888888,
             "#fdca26"
            ],
            [
             1,
             "#f0f921"
            ]
           ],
           "sequentialminus": [
            [
             0,
             "#0d0887"
            ],
            [
             0.1111111111111111,
             "#46039f"
            ],
            [
             0.2222222222222222,
             "#7201a8"
            ],
            [
             0.3333333333333333,
             "#9c179e"
            ],
            [
             0.4444444444444444,
             "#bd3786"
            ],
            [
             0.5555555555555556,
             "#d8576b"
            ],
            [
             0.6666666666666666,
             "#ed7953"
            ],
            [
             0.7777777777777778,
             "#fb9f3a"
            ],
            [
             0.8888888888888888,
             "#fdca26"
            ],
            [
             1,
             "#f0f921"
            ]
           ]
          },
          "colorway": [
           "#636efa",
           "#EF553B",
           "#00cc96",
           "#ab63fa",
           "#FFA15A",
           "#19d3f3",
           "#FF6692",
           "#B6E880",
           "#FF97FF",
           "#FECB52"
          ],
          "font": {
           "color": "#2a3f5f"
          },
          "geo": {
           "bgcolor": "white",
           "lakecolor": "white",
           "landcolor": "#E5ECF6",
           "showlakes": true,
           "showland": true,
           "subunitcolor": "white"
          },
          "hoverlabel": {
           "align": "left"
          },
          "hovermode": "closest",
          "mapbox": {
           "style": "light"
          },
          "paper_bgcolor": "white",
          "plot_bgcolor": "#E5ECF6",
          "polar": {
           "angularaxis": {
            "gridcolor": "white",
            "linecolor": "white",
            "ticks": ""
           },
           "bgcolor": "#E5ECF6",
           "radialaxis": {
            "gridcolor": "white",
            "linecolor": "white",
            "ticks": ""
           }
          },
          "scene": {
           "xaxis": {
            "backgroundcolor": "#E5ECF6",
            "gridcolor": "white",
            "gridwidth": 2,
            "linecolor": "white",
            "showbackground": true,
            "ticks": "",
            "zerolinecolor": "white"
           },
           "yaxis": {
            "backgroundcolor": "#E5ECF6",
            "gridcolor": "white",
            "gridwidth": 2,
            "linecolor": "white",
            "showbackground": true,
            "ticks": "",
            "zerolinecolor": "white"
           },
           "zaxis": {
            "backgroundcolor": "#E5ECF6",
            "gridcolor": "white",
            "gridwidth": 2,
            "linecolor": "white",
            "showbackground": true,
            "ticks": "",
            "zerolinecolor": "white"
           }
          },
          "shapedefaults": {
           "line": {
            "color": "#2a3f5f"
           }
          },
          "ternary": {
           "aaxis": {
            "gridcolor": "white",
            "linecolor": "white",
            "ticks": ""
           },
           "baxis": {
            "gridcolor": "white",
            "linecolor": "white",
            "ticks": ""
           },
           "bgcolor": "#E5ECF6",
           "caxis": {
            "gridcolor": "white",
            "linecolor": "white",
            "ticks": ""
           }
          },
          "title": {
           "x": 0.05
          },
          "xaxis": {
           "automargin": true,
           "gridcolor": "white",
           "linecolor": "white",
           "ticks": "",
           "title": {
            "standoff": 15
           },
           "zerolinecolor": "white",
           "zerolinewidth": 2
          },
          "yaxis": {
           "automargin": true,
           "gridcolor": "white",
           "linecolor": "white",
           "ticks": "",
           "title": {
            "standoff": 15
           },
           "zerolinecolor": "white",
           "zerolinewidth": 2
          }
         }
        },
        "title": {
         "text": "Leah Williamson"
        }
       }
      }
     },
     "metadata": {},
     "output_type": "display_data"
    }
   ],
   "source": [
    "trace_player(\"Leah Williamson\", arsenal_data, df_previous_games_grouped)"
   ]
  },
  {
   "attachments": {},
   "cell_type": "markdown",
   "metadata": {},
   "source": [
    "## Provinding substitute ideas <a id=\"substitute\"></a>"
   ]
  },
  {
   "attachments": {},
   "cell_type": "markdown",
   "metadata": {},
   "source": [
    "List the played positions of each player"
   ]
  },
  {
   "cell_type": "code",
   "execution_count": 44,
   "metadata": {},
   "outputs": [
    {
     "data": {
      "text/html": [
       "<div>\n",
       "<style scoped>\n",
       "    .dataframe tbody tr th:only-of-type {\n",
       "        vertical-align: middle;\n",
       "    }\n",
       "\n",
       "    .dataframe tbody tr th {\n",
       "        vertical-align: top;\n",
       "    }\n",
       "\n",
       "    .dataframe thead th {\n",
       "        text-align: right;\n",
       "    }\n",
       "</style>\n",
       "<table border=\"1\" class=\"dataframe\">\n",
       "  <thead>\n",
       "    <tr style=\"text-align: right;\">\n",
       "      <th></th>\n",
       "      <th>player_name</th>\n",
       "      <th>player_id</th>\n",
       "      <th>position</th>\n",
       "    </tr>\n",
       "  </thead>\n",
       "  <tbody>\n",
       "    <tr>\n",
       "      <th>1</th>\n",
       "      <td>Esme Beth Morgan</td>\n",
       "      <td>4649</td>\n",
       "      <td>Left Back</td>\n",
       "    </tr>\n",
       "    <tr>\n",
       "      <th>12</th>\n",
       "      <td>Ruby Mace</td>\n",
       "      <td>41812</td>\n",
       "      <td>Center Defensive Midfield</td>\n",
       "    </tr>\n",
       "    <tr>\n",
       "      <th>16</th>\n",
       "      <td>Julie Blakstad</td>\n",
       "      <td>191851</td>\n",
       "      <td>Left Wing</td>\n",
       "    </tr>\n",
       "  </tbody>\n",
       "</table>\n",
       "</div>"
      ],
      "text/plain": [
       "         player_name  player_id                   position\n",
       "1   Esme Beth Morgan       4649                  Left Back\n",
       "12         Ruby Mace      41812  Center Defensive Midfield\n",
       "16    Julie Blakstad     191851                  Left Wing"
      ]
     },
     "execution_count": 44,
     "metadata": {},
     "output_type": "execute_result"
    }
   ],
   "source": [
    "list_to_concat = []\n",
    "\n",
    "for game_id in df_games_city.game_id.unique():\n",
    "    with open('Data/StatsBomb-City-VAEP/Data/lineups/{}.json'.format(game_id)) as f:\n",
    "        lineups = json.load(f)\n",
    "\n",
    "    _, df_lineups,_ = extract_dataframe_from_json(lineups)\n",
    "    list_to_concat.append(df_lineups[df_lineups[\"team_name\"] == 'Manchester City WFC'][[\"player_name\",\"player_id\", \"position\"]])\n",
    "\n",
    "df_positions = pd.concat(list_to_concat).drop_duplicates().sort_values(by=\"player_name\")\n",
    "df_positions.sample(3)"
   ]
  },
  {
   "cell_type": "code",
   "execution_count": 45,
   "metadata": {},
   "outputs": [
    {
     "data": {
      "text/html": [
       "<div>\n",
       "<style scoped>\n",
       "    .dataframe tbody tr th:only-of-type {\n",
       "        vertical-align: middle;\n",
       "    }\n",
       "\n",
       "    .dataframe tbody tr th {\n",
       "        vertical-align: top;\n",
       "    }\n",
       "\n",
       "    .dataframe thead th {\n",
       "        text-align: right;\n",
       "    }\n",
       "</style>\n",
       "<table border=\"1\" class=\"dataframe\">\n",
       "  <thead>\n",
       "    <tr style=\"text-align: right;\">\n",
       "      <th></th>\n",
       "      <th>player_id</th>\n",
       "      <th>minutes_played</th>\n",
       "      <th>adjusted_vaep</th>\n",
       "      <th>vaep_rating_per_mn_played</th>\n",
       "    </tr>\n",
       "  </thead>\n",
       "  <tbody>\n",
       "    <tr>\n",
       "      <th>0</th>\n",
       "      <td>4637.0</td>\n",
       "      <td>50999</td>\n",
       "      <td>-62.613322</td>\n",
       "      <td>-0.110496</td>\n",
       "    </tr>\n",
       "    <tr>\n",
       "      <th>1</th>\n",
       "      <td>4638.0</td>\n",
       "      <td>9010</td>\n",
       "      <td>10.365701</td>\n",
       "      <td>0.103542</td>\n",
       "    </tr>\n",
       "    <tr>\n",
       "      <th>2</th>\n",
       "      <td>4649.0</td>\n",
       "      <td>55581</td>\n",
       "      <td>-12.895195</td>\n",
       "      <td>-0.020881</td>\n",
       "    </tr>\n",
       "    <tr>\n",
       "      <th>3</th>\n",
       "      <td>4651.0</td>\n",
       "      <td>42</td>\n",
       "      <td>-0.313043</td>\n",
       "      <td>-0.670806</td>\n",
       "    </tr>\n",
       "    <tr>\n",
       "      <th>4</th>\n",
       "      <td>4848.0</td>\n",
       "      <td>11640</td>\n",
       "      <td>14.762777</td>\n",
       "      <td>0.114145</td>\n",
       "    </tr>\n",
       "    <tr>\n",
       "      <th>...</th>\n",
       "      <td>...</td>\n",
       "      <td>...</td>\n",
       "      <td>...</td>\n",
       "      <td>...</td>\n",
       "    </tr>\n",
       "    <tr>\n",
       "      <th>85</th>\n",
       "      <td>135758.0</td>\n",
       "      <td>598</td>\n",
       "      <td>-1.237244</td>\n",
       "      <td>-0.186207</td>\n",
       "    </tr>\n",
       "    <tr>\n",
       "      <th>86</th>\n",
       "      <td>135759.0</td>\n",
       "      <td>5346</td>\n",
       "      <td>-2.910502</td>\n",
       "      <td>-0.048998</td>\n",
       "    </tr>\n",
       "    <tr>\n",
       "      <th>87</th>\n",
       "      <td>191851.0</td>\n",
       "      <td>15368</td>\n",
       "      <td>-7.056131</td>\n",
       "      <td>-0.041323</td>\n",
       "    </tr>\n",
       "    <tr>\n",
       "      <th>88</th>\n",
       "      <td>221888.0</td>\n",
       "      <td>56179</td>\n",
       "      <td>-24.846589</td>\n",
       "      <td>-0.039805</td>\n",
       "    </tr>\n",
       "    <tr>\n",
       "      <th>89</th>\n",
       "      <td>353330.0</td>\n",
       "      <td>12</td>\n",
       "      <td>-0.483265</td>\n",
       "      <td>-3.624489</td>\n",
       "    </tr>\n",
       "  </tbody>\n",
       "</table>\n",
       "<p>90 rows × 4 columns</p>\n",
       "</div>"
      ],
      "text/plain": [
       "    player_id  minutes_played  adjusted_vaep  vaep_rating_per_mn_played\n",
       "0      4637.0           50999     -62.613322                  -0.110496\n",
       "1      4638.0            9010      10.365701                   0.103542\n",
       "2      4649.0           55581     -12.895195                  -0.020881\n",
       "3      4651.0              42      -0.313043                  -0.670806\n",
       "4      4848.0           11640      14.762777                   0.114145\n",
       "..        ...             ...            ...                        ...\n",
       "85   135758.0             598      -1.237244                  -0.186207\n",
       "86   135759.0            5346      -2.910502                  -0.048998\n",
       "87   191851.0           15368      -7.056131                  -0.041323\n",
       "88   221888.0           56179     -24.846589                  -0.039805\n",
       "89   353330.0              12      -0.483265                  -3.624489\n",
       "\n",
       "[90 rows x 4 columns]"
      ]
     },
     "execution_count": 45,
     "metadata": {},
     "output_type": "execute_result"
    }
   ],
   "source": [
    "# Sum the minuted played and the vaep on these games\n",
    "df_ranking = df_previous_games[[\"player_id\", \"minutes_played\", \"adjusted_vaep\"]].groupby(\"player_id\").sum().reset_index()\n",
    "df_ranking[\"vaep_rating_per_mn_played\"] = df_ranking.adjusted_vaep * 90 / df_ranking.minutes_played\n",
    "df_ranking"
   ]
  },
  {
   "cell_type": "code",
   "execution_count": 46,
   "metadata": {},
   "outputs": [
    {
     "data": {
      "text/html": [
       "<div>\n",
       "<style scoped>\n",
       "    .dataframe tbody tr th:only-of-type {\n",
       "        vertical-align: middle;\n",
       "    }\n",
       "\n",
       "    .dataframe tbody tr th {\n",
       "        vertical-align: top;\n",
       "    }\n",
       "\n",
       "    .dataframe thead th {\n",
       "        text-align: right;\n",
       "    }\n",
       "</style>\n",
       "<table border=\"1\" class=\"dataframe\">\n",
       "  <thead>\n",
       "    <tr style=\"text-align: right;\">\n",
       "      <th></th>\n",
       "      <th>player_name</th>\n",
       "      <th>player_id</th>\n",
       "      <th>position</th>\n",
       "      <th>vaep_rating_per_mn_played</th>\n",
       "    </tr>\n",
       "  </thead>\n",
       "  <tbody>\n",
       "    <tr>\n",
       "      <th>9</th>\n",
       "      <td>Esme Beth Morgan</td>\n",
       "      <td>4649</td>\n",
       "      <td>Left Back</td>\n",
       "      <td>-0.020881</td>\n",
       "    </tr>\n",
       "    <tr>\n",
       "      <th>22</th>\n",
       "      <td>Laia Aleixandri López</td>\n",
       "      <td>32210</td>\n",
       "      <td>Left Back</td>\n",
       "      <td>-0.062545</td>\n",
       "    </tr>\n",
       "    <tr>\n",
       "      <th>27</th>\n",
       "      <td>Leila Ouahabi El Ouahabi</td>\n",
       "      <td>10163</td>\n",
       "      <td>Left Back</td>\n",
       "      <td>-0.104180</td>\n",
       "    </tr>\n",
       "    <tr>\n",
       "      <th>5</th>\n",
       "      <td>Demi Stokes</td>\n",
       "      <td>4651</td>\n",
       "      <td>Left Back</td>\n",
       "      <td>-0.670806</td>\n",
       "    </tr>\n",
       "  </tbody>\n",
       "</table>\n",
       "</div>"
      ],
      "text/plain": [
       "                 player_name  player_id   position  vaep_rating_per_mn_played\n",
       "9           Esme Beth Morgan       4649  Left Back                  -0.020881\n",
       "22     Laia Aleixandri López      32210  Left Back                  -0.062545\n",
       "27  Leila Ouahabi El Ouahabi      10163  Left Back                  -0.104180\n",
       "5                Demi Stokes       4651  Left Back                  -0.670806"
      ]
     },
     "execution_count": 46,
     "metadata": {},
     "output_type": "execute_result"
    }
   ],
   "source": [
    "# Merge with the positions\n",
    "df_substitutes_proposition = df_positions.merge(df_ranking[[\"player_id\", \"vaep_rating_per_mn_played\"]]).sort_values(by=[\"position\", \"vaep_rating_per_mn_played\"], ascending=[True, False])\n",
    "df_substitutes_proposition[df_substitutes_proposition.position == \"Left Back\"]"
   ]
  },
  {
   "cell_type": "code",
   "execution_count": 47,
   "metadata": {},
   "outputs": [],
   "source": [
    "list_starting_players = players[\n",
    "    (players.game_id == game_arsenal_id) & \n",
    "    (players.team_id == 746) & \n",
    "    (players.starting_position_name != \"Substitute\")][\"player_id\"]"
   ]
  },
  {
   "cell_type": "code",
   "execution_count": 48,
   "metadata": {},
   "outputs": [],
   "source": [
    "df_substitutes_proposition = df_substitutes_proposition[\n",
    "    ~df_substitutes_proposition[\"player_id\"].isin(list_starting_players)\n",
    "    ]"
   ]
  },
  {
   "cell_type": "code",
   "execution_count": 49,
   "metadata": {},
   "outputs": [],
   "source": [
    "df_substitutes_proposition.to_csv(\"export/vaep_rating_on_previous_games_per_positions.csv\", index=False)"
   ]
  },
  {
   "cell_type": "code",
   "execution_count": null,
   "metadata": {},
   "outputs": [],
   "source": []
  }
 ],
 "metadata": {
  "kernelspec": {
   "display_name": "football",
   "language": "python",
   "name": "python3"
  },
  "language_info": {
   "codemirror_mode": {
    "name": "ipython",
    "version": 3
   },
   "file_extension": ".py",
   "mimetype": "text/x-python",
   "name": "python",
   "nbconvert_exporter": "python",
   "pygments_lexer": "ipython3",
   "version": "3.7.11"
  },
  "orig_nbformat": 4,
  "vscode": {
   "interpreter": {
    "hash": "392b11994d2cf3edce630a4fb449256abf2a37dc9000a07cfbe5c6240ca6b1be"
   }
  }
 },
 "nbformat": 4,
 "nbformat_minor": 2
}
